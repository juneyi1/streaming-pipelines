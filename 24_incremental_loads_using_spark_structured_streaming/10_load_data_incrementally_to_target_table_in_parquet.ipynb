{
 "cells": [
  {
   "cell_type": "markdown",
   "metadata": {
    "application/vnd.databricks.v1+cell": {
     "inputWidgets": {},
     "nuid": "f1f6781d-04aa-4518-8b59-f5a7a20faa94",
     "showTitle": false,
     "title": ""
    }
   },
   "source": [
    "## Using maxFilesPerTrigger and latestFirst\n",
    "\n",
    "Let us go through the details about reading and writing data to target location leveraging Spark Structured Straming APIs using `maxFilesPerTrigger`. We will also see how to process the latest files first.\n",
    "\n",
    "* `maxFilesPerTrigger` is primarily used to keep the usage of resources under control.\n",
    "* It is useful for baseline loads as well as sudden spikes in incremental loads.\n",
    "* By default old files based on the timestamp associated with the files will be read first, however we can change the behavior using `latestFirst`. \n",
    "* We will also validate by running `hdfs fs -ls` command to see if the pqrquet files are copied or not.\n",
    "* The files that are available at source at this time will be picked up automatically. However, only latest 8 files will be picked as part of the first iteration.\n",
    "\n",
    "`maxFilesPerTrigger` is only applicable when we trigger job runs using `frequent interval batches`, but not `trigger(once=True)`."
   ]
  },
  {
   "cell_type": "code",
   "execution_count": 1,
   "metadata": {},
   "outputs": [],
   "source": [
    "from pyspark.sql import SparkSession\n",
    "\n",
    "import getpass\n",
    "username = getpass.getuser()\n",
    "\n",
    "spark = SparkSession. \\\n",
    "    builder. \\\n",
    "    config('spark.ui.port', '0'). \\\n",
    "    config('spark.sql.warehouse.dir', f'/user/{username}/warehouse'). \\\n",
    "    enableHiveSupport(). \\\n",
    "    appName(f'{username} | Python - Incremental Loads using Spark Structured Streaming'). \\\n",
    "    master('yarn'). \\\n",
    "    getOrCreate()"
   ]
  },
  {
   "cell_type": "code",
   "execution_count": 2,
   "metadata": {
    "application/vnd.databricks.v1+cell": {
     "inputWidgets": {},
     "nuid": "f3db9a4b-db22-406b-8c7c-67e2db02c0e3",
     "showTitle": false,
     "title": ""
    }
   },
   "outputs": [],
   "source": [
    "spark.conf.set('spark.sql.shuffle.partitions', '8')\n",
    "spark.conf.set('spark.sql.streaming.schemaInference', 'true')"
   ]
  },
  {
   "cell_type": "code",
   "execution_count": 3,
   "metadata": {},
   "outputs": [],
   "source": [
    "ghactivity_df = spark. \\\n",
    "    readStream. \\\n",
    "    format('json'). \\\n",
    "    option('maxFilesPerTrigger', 8). \\\n",
    "    option('latestFirst', 'True'). \\\n",
    "    option('cleanSource', 'delete'). \\\n",
    "    load(f'/user/{username}/github/streaming/landing/ghactivity/')"
   ]
  },
  {
   "cell_type": "code",
   "execution_count": 4,
   "metadata": {},
   "outputs": [],
   "source": [
    "from pyspark.sql.functions import year, month, dayofmonth, lpad"
   ]
  },
  {
   "cell_type": "code",
   "execution_count": 5,
   "metadata": {},
   "outputs": [],
   "source": [
    "ghactivity_df = ghactivity_df. \\\n",
    "    withColumn('created_year', year('created_at')). \\\n",
    "    withColumn('created_month', lpad(month('created_at'), 2, '0')). \\\n",
    "    withColumn('created_dayofmonth', lpad(dayofmonth('created_at'), 2, '0'))"
   ]
  },
  {
   "cell_type": "code",
   "execution_count": 6,
   "metadata": {},
   "outputs": [
    {
     "data": {
      "text/plain": [
       "<pyspark.sql.streaming.StreamingQuery at 0x7febd4cbe3c8>"
      ]
     },
     "execution_count": 6,
     "metadata": {},
     "output_type": "execute_result"
    }
   ],
   "source": [
    "ghactivity_df. \\\n",
    "    writeStream. \\\n",
    "    partitionBy('created_year', 'created_month', 'created_dayofmonth'). \\\n",
    "    format('parquet'). \\\n",
    "    option(\"checkpointLocation\", f\"/user/{username}/github/streaming/bronze/checkpoint/ghactivity\"). \\\n",
    "    option(\"path\", f\"/user/{username}/github/streaming/bronze/data/ghactivity\"). \\\n",
    "    trigger(processingTime='60 seconds'). \\\n",
    "    start()"
   ]
  },
  {
   "cell_type": "markdown",
   "metadata": {
    "application/vnd.databricks.v1+cell": {
     "inputWidgets": {},
     "nuid": "35a8fc0d-cd29-4c3d-aed2-9d4712ba5731",
     "showTitle": false,
     "title": ""
    }
   },
   "source": [
    "* Validating the checkpoint location. We can see multiple folders. These folders will have all the files that are required for the overhead of the checkpoint."
   ]
  },
  {
   "cell_type": "code",
   "execution_count": 7,
   "metadata": {
    "application/vnd.databricks.v1+cell": {
     "inputWidgets": {},
     "nuid": "a09e7932-76d4-4f4b-ad1c-2c0d3f66369b",
     "showTitle": false,
     "title": ""
    }
   },
   "outputs": [
    {
     "name": "stdout",
     "output_type": "stream",
     "text": [
      "Found 4 items\n",
      "drwxr-xr-x   - itv007304 supergroup          0 2023-07-14 12:23 /user/itv007304/github/streaming/bronze/checkpoint/ghactivity/commits\n",
      "-rw-r--r--   3 itv007304 supergroup         45 2023-07-14 12:17 /user/itv007304/github/streaming/bronze/checkpoint/ghactivity/metadata\n",
      "drwxr-xr-x   - itv007304 supergroup          0 2023-07-25 10:27 /user/itv007304/github/streaming/bronze/checkpoint/ghactivity/offsets\n",
      "drwxr-xr-x   - itv007304 supergroup          0 2023-07-14 12:17 /user/itv007304/github/streaming/bronze/checkpoint/ghactivity/sources\n"
     ]
    }
   ],
   "source": [
    "!hdfs dfs -ls /user/${USER}/github/streaming/bronze/checkpoint/ghactivity"
   ]
  },
  {
   "cell_type": "code",
   "execution_count": 8,
   "metadata": {},
   "outputs": [
    {
     "name": "stdout",
     "output_type": "stream",
     "text": [
      "drwxr-xr-x   - itv007304 supergroup          0 2023-07-25 10:27 /user/itv007304/github/streaming/bronze/checkpoint/ghactivity/sources/0\n",
      "-rw-r--r--   3 itv007304 supergroup       4432 2023-07-14 12:17 /user/itv007304/github/streaming/bronze/checkpoint/ghactivity/sources/0/0\n",
      "-rw-r--r--   3 itv007304 supergroup       4432 2023-07-25 10:27 /user/itv007304/github/streaming/bronze/checkpoint/ghactivity/sources/0/1\n"
     ]
    }
   ],
   "source": [
    "!hdfs dfs -ls -R /user/${USER}/github/streaming/bronze/checkpoint/ghactivity/sources"
   ]
  },
  {
   "cell_type": "code",
   "execution_count": 9,
   "metadata": {},
   "outputs": [
    {
     "name": "stdout",
     "output_type": "stream",
     "text": [
      "v1\n",
      "{\"path\":\"hdfs://m01.itversity.com:9000/user/itv007304/github/streaming/landing/ghactivity/year=2023/month=07/dayofmonth=11/2023-07-11-0.json.gz\",\"timestamp\":1689199156255,\"batchId\":0}\n",
      "{\"path\":\"hdfs://m01.itversity.com:9000/user/itv007304/github/streaming/landing/ghactivity/year=2023/month=07/dayofmonth=11/2023-07-11-1.json.gz\",\"timestamp\":1689276160654,\"batchId\":0}\n",
      "{\"path\":\"hdfs://m01.itversity.com:9000/user/itv007304/github/streaming/landing/ghactivity/year=2023/month=07/dayofmonth=11/2023-07-11-2.json.gz\",\"timestamp\":1689276171657,\"batchId\":0}\n",
      "{\"path\":\"hdfs://m01.itversity.com:9000/user/itv007304/github/streaming/landing/ghactivity/year=2023/month=07/dayofmonth=11/2023-07-11-3.json.gz\",\"timestamp\":1689276182338,\"batchId\":0}\n",
      "{\"path\":\"hdfs://m01.itversity.com:9000/user/itv007304/github/streaming/landing/ghactivity/year=2023/month=07/dayofmonth=11/2023-07-11-4.json.gz\",\"timestamp\":1689276191737,\"batchId\":0}\n",
      "{\"path\":\"hdfs://m01.itversity.com:9000/user/itv007304/github/streaming/landing/ghactivity/year=2023/month=07/dayofmonth=11/2023-07-11-5.json.gz\",\"timestamp\":1689276205183,\"batchId\":0}\n",
      "{\"path\":\"hdfs://m01.itversity.com:9000/user/itv007304/github/streaming/landing/ghactivity/year=2023/month=07/dayofmonth=11/2023-07-11-6.json.gz\",\"timestamp\":1689276216966,\"batchId\":0}\n",
      "{\"path\":\"hdfs://m01.itversity.com:9000/user/itv007304/github/streaming/landing/ghactivity/year=2023/month=07/dayofmonth=11/2023-07-11-7.json.gz\",\"timestamp\":1689276229621,\"batchId\":0}\n",
      "{\"path\":\"hdfs://m01.itversity.com:9000/user/itv007304/github/streaming/landing/ghactivity/year=2023/month=07/dayofmonth=11/2023-07-11-8.json.gz\",\"timestamp\":1689276243039,\"batchId\":0}\n",
      "{\"path\":\"hdfs://m01.itversity.com:9000/user/itv007304/github/streaming/landing/ghactivity/year=2023/month=07/dayofmonth=11/2023-07-11-9.json.gz\",\"timestamp\":1689276258262,\"batchId\":0}\n",
      "{\"path\":\"hdfs://m01.itversity.com:9000/user/itv007304/github/streaming/landing/ghactivity/year=2023/month=07/dayofmonth=11/2023-07-11-10.json.gz\",\"timestamp\":1689276272277,\"batchId\":0}\n",
      "{\"path\":\"hdfs://m01.itversity.com:9000/user/itv007304/github/streaming/landing/ghactivity/year=2023/month=07/dayofmonth=11/2023-07-11-11.json.gz\",\"timestamp\":1689276285565,\"batchId\":0}\n",
      "{\"path\":\"hdfs://m01.itversity.com:9000/user/itv007304/github/streaming/landing/ghactivity/year=2023/month=07/dayofmonth=11/2023-07-11-12.json.gz\",\"timestamp\":1689276303840,\"batchId\":0}\n",
      "{\"path\":\"hdfs://m01.itversity.com:9000/user/itv007304/github/streaming/landing/ghactivity/year=2023/month=07/dayofmonth=11/2023-07-11-13.json.gz\",\"timestamp\":1689276324277,\"batchId\":0}\n",
      "{\"path\":\"hdfs://m01.itversity.com:9000/user/itv007304/github/streaming/landing/ghactivity/year=2023/month=07/dayofmonth=11/2023-07-11-14.json.gz\",\"timestamp\":1689276338934,\"batchId\":0}\n",
      "{\"path\":\"hdfs://m01.itversity.com:9000/user/itv007304/github/streaming/landing/ghactivity/year=2023/month=07/dayofmonth=11/2023-07-11-15.json.gz\",\"timestamp\":1689276351323,\"batchId\":0}\n",
      "{\"path\":\"hdfs://m01.itversity.com:9000/user/itv007304/github/streaming/landing/ghactivity/year=2023/month=07/dayofmonth=11/2023-07-11-16.json.gz\",\"timestamp\":1689276365428,\"batchId\":0}\n",
      "{\"path\":\"hdfs://m01.itversity.com:9000/user/itv007304/github/streaming/landing/ghactivity/year=2023/month=07/dayofmonth=11/2023-07-11-17.json.gz\",\"timestamp\":1689276378297,\"batchId\":0}\n",
      "{\"path\":\"hdfs://m01.itversity.com:9000/user/itv007304/github/streaming/landing/ghactivity/year=2023/month=07/dayofmonth=11/2023-07-11-18.json.gz\",\"timestamp\":1689276391047,\"batchId\":0}\n",
      "{\"path\":\"hdfs://m01.itversity.com:9000/user/itv007304/github/streaming/landing/ghactivity/year=2023/month=07/dayofmonth=11/2023-07-11-19.json.gz\",\"timestamp\":1689276402884,\"batchId\":0}\n",
      "{\"path\":\"hdfs://m01.itversity.com:9000/user/itv007304/github/streaming/landing/ghactivity/year=2023/month=07/dayofmonth=11/2023-07-11-20.json.gz\",\"timestamp\":1689276414959,\"batchId\":0}\n",
      "{\"path\":\"hdfs://m01.itversity.com:9000/user/itv007304/github/streaming/landing/ghactivity/year=2023/month=07/dayofmonth=11/2023-07-11-21.json.gz\",\"timestamp\":1689276426695,\"batchId\":0}\n",
      "{\"path\":\"hdfs://m01.itversity.com:9000/user/itv007304/github/streaming/landing/ghactivity/year=2023/month=07/dayofmonth=11/2023-07-11-22.json.gz\",\"timestamp\":1689276437182,\"batchId\":0}\n",
      "{\"path\":\"hdfs://m01.itversity.com:9000/user/itv007304/github/streaming/landing/ghactivity/year=2023/month=07/dayofmonth=11/2023-07-11-23.json.gz\",\"timestamp\":1689276447972,\"batchId\":0}"
     ]
    }
   ],
   "source": [
    "!hdfs dfs -cat /user/${USER}/github/streaming/bronze/checkpoint/ghactivity/sources/0/0"
   ]
  },
  {
   "cell_type": "code",
   "execution_count": 10,
   "metadata": {},
   "outputs": [
    {
     "name": "stdout",
     "output_type": "stream",
     "text": [
      "v1\n",
      "{\"path\":\"hdfs://m01.itversity.com:9000/user/itv007304/github/streaming/landing/ghactivity/year=2023/month=07/dayofmonth=12/2023-07-12-0.json.gz\",\"timestamp\":1690126013086,\"batchId\":1}\n",
      "{\"path\":\"hdfs://m01.itversity.com:9000/user/itv007304/github/streaming/landing/ghactivity/year=2023/month=07/dayofmonth=12/2023-07-12-1.json.gz\",\"timestamp\":1690126022761,\"batchId\":1}\n",
      "{\"path\":\"hdfs://m01.itversity.com:9000/user/itv007304/github/streaming/landing/ghactivity/year=2023/month=07/dayofmonth=12/2023-07-12-2.json.gz\",\"timestamp\":1690126032846,\"batchId\":1}\n",
      "{\"path\":\"hdfs://m01.itversity.com:9000/user/itv007304/github/streaming/landing/ghactivity/year=2023/month=07/dayofmonth=12/2023-07-12-3.json.gz\",\"timestamp\":1690126041951,\"batchId\":1}\n",
      "{\"path\":\"hdfs://m01.itversity.com:9000/user/itv007304/github/streaming/landing/ghactivity/year=2023/month=07/dayofmonth=12/2023-07-12-4.json.gz\",\"timestamp\":1690126050808,\"batchId\":1}\n",
      "{\"path\":\"hdfs://m01.itversity.com:9000/user/itv007304/github/streaming/landing/ghactivity/year=2023/month=07/dayofmonth=12/2023-07-12-5.json.gz\",\"timestamp\":1690126060800,\"batchId\":1}\n",
      "{\"path\":\"hdfs://m01.itversity.com:9000/user/itv007304/github/streaming/landing/ghactivity/year=2023/month=07/dayofmonth=12/2023-07-12-6.json.gz\",\"timestamp\":1690126071405,\"batchId\":1}\n",
      "{\"path\":\"hdfs://m01.itversity.com:9000/user/itv007304/github/streaming/landing/ghactivity/year=2023/month=07/dayofmonth=12/2023-07-12-7.json.gz\",\"timestamp\":1690126083172,\"batchId\":1}\n",
      "{\"path\":\"hdfs://m01.itversity.com:9000/user/itv007304/github/streaming/landing/ghactivity/year=2023/month=07/dayofmonth=12/2023-07-12-8.json.gz\",\"timestamp\":1690126095384,\"batchId\":1}\n",
      "{\"path\":\"hdfs://m01.itversity.com:9000/user/itv007304/github/streaming/landing/ghactivity/year=2023/month=07/dayofmonth=12/2023-07-12-9.json.gz\",\"timestamp\":1690126109781,\"batchId\":1}\n",
      "{\"path\":\"hdfs://m01.itversity.com:9000/user/itv007304/github/streaming/landing/ghactivity/year=2023/month=07/dayofmonth=12/2023-07-12-10.json.gz\",\"timestamp\":1690126121674,\"batchId\":1}\n",
      "{\"path\":\"hdfs://m01.itversity.com:9000/user/itv007304/github/streaming/landing/ghactivity/year=2023/month=07/dayofmonth=12/2023-07-12-11.json.gz\",\"timestamp\":1690126134181,\"batchId\":1}\n",
      "{\"path\":\"hdfs://m01.itversity.com:9000/user/itv007304/github/streaming/landing/ghactivity/year=2023/month=07/dayofmonth=12/2023-07-12-12.json.gz\",\"timestamp\":1690126148267,\"batchId\":1}\n",
      "{\"path\":\"hdfs://m01.itversity.com:9000/user/itv007304/github/streaming/landing/ghactivity/year=2023/month=07/dayofmonth=12/2023-07-12-13.json.gz\",\"timestamp\":1690126161653,\"batchId\":1}\n",
      "{\"path\":\"hdfs://m01.itversity.com:9000/user/itv007304/github/streaming/landing/ghactivity/year=2023/month=07/dayofmonth=12/2023-07-12-14.json.gz\",\"timestamp\":1690126175116,\"batchId\":1}\n",
      "{\"path\":\"hdfs://m01.itversity.com:9000/user/itv007304/github/streaming/landing/ghactivity/year=2023/month=07/dayofmonth=12/2023-07-12-15.json.gz\",\"timestamp\":1690126188042,\"batchId\":1}\n",
      "{\"path\":\"hdfs://m01.itversity.com:9000/user/itv007304/github/streaming/landing/ghactivity/year=2023/month=07/dayofmonth=12/2023-07-12-16.json.gz\",\"timestamp\":1690126200344,\"batchId\":1}\n",
      "{\"path\":\"hdfs://m01.itversity.com:9000/user/itv007304/github/streaming/landing/ghactivity/year=2023/month=07/dayofmonth=12/2023-07-12-17.json.gz\",\"timestamp\":1690126221704,\"batchId\":1}\n",
      "{\"path\":\"hdfs://m01.itversity.com:9000/user/itv007304/github/streaming/landing/ghactivity/year=2023/month=07/dayofmonth=12/2023-07-12-18.json.gz\",\"timestamp\":1690126235586,\"batchId\":1}\n",
      "{\"path\":\"hdfs://m01.itversity.com:9000/user/itv007304/github/streaming/landing/ghactivity/year=2023/month=07/dayofmonth=12/2023-07-12-19.json.gz\",\"timestamp\":1690126248345,\"batchId\":1}\n",
      "{\"path\":\"hdfs://m01.itversity.com:9000/user/itv007304/github/streaming/landing/ghactivity/year=2023/month=07/dayofmonth=12/2023-07-12-20.json.gz\",\"timestamp\":1690126268099,\"batchId\":1}\n",
      "{\"path\":\"hdfs://m01.itversity.com:9000/user/itv007304/github/streaming/landing/ghactivity/year=2023/month=07/dayofmonth=12/2023-07-12-21.json.gz\",\"timestamp\":1690126283098,\"batchId\":1}\n",
      "{\"path\":\"hdfs://m01.itversity.com:9000/user/itv007304/github/streaming/landing/ghactivity/year=2023/month=07/dayofmonth=12/2023-07-12-22.json.gz\",\"timestamp\":1690126298216,\"batchId\":1}\n",
      "{\"path\":\"hdfs://m01.itversity.com:9000/user/itv007304/github/streaming/landing/ghactivity/year=2023/month=07/dayofmonth=12/2023-07-12-23.json.gz\",\"timestamp\":1690126310521,\"batchId\":1}"
     ]
    }
   ],
   "source": [
    "!hdfs dfs -cat /user/${USER}/github/streaming/bronze/checkpoint/ghactivity/sources/0/1"
   ]
  },
  {
   "cell_type": "code",
   "execution_count": 11,
   "metadata": {},
   "outputs": [
    {
     "name": "stdout",
     "output_type": "stream",
     "text": [
      "Found 2 items\n",
      "-rw-r--r--   3 itv007304 supergroup        471 2023-07-14 12:17 /user/itv007304/github/streaming/bronze/checkpoint/ghactivity/offsets/0\n",
      "-rw-r--r--   3 itv007304 supergroup        471 2023-07-25 10:27 /user/itv007304/github/streaming/bronze/checkpoint/ghactivity/offsets/1\n"
     ]
    }
   ],
   "source": [
    "!hdfs dfs -ls /user/${USER}/github/streaming/bronze/checkpoint/ghactivity/offsets"
   ]
  },
  {
   "cell_type": "code",
   "execution_count": 13,
   "metadata": {},
   "outputs": [
    {
     "name": "stdout",
     "output_type": "stream",
     "text": [
      "v1\n",
      "{\"batchWatermarkMs\":0,\"batchTimestampMs\":1690295265397,\"conf\":{\"spark.sql.streaming.stateStore.providerClass\":\"org.apache.spark.sql.execution.streaming.state.HDFSBackedStateStoreProvider\",\"spark.sql.streaming.join.stateFormatVersion\":\"2\",\"spark.sql.streaming.flatMapGroupsWithState.stateFormatVersion\":\"2\",\"spark.sql.streaming.multipleWatermarkPolicy\":\"min\",\"spark.sql.streaming.aggregation.stateFormatVersion\":\"2\",\"spark.sql.shuffle.partitions\":\"16\"}}\n",
      "{\"logOffset\":1}"
     ]
    }
   ],
   "source": [
    "!hdfs dfs -cat /user/${USER}/github/streaming/bronze/checkpoint/ghactivity/offsets/1"
   ]
  },
  {
   "cell_type": "markdown",
   "metadata": {
    "application/vnd.databricks.v1+cell": {
     "inputWidgets": {},
     "nuid": "fee6dc7e-3083-4c9b-9096-c717748c8d0d",
     "showTitle": false,
     "title": ""
    }
   },
   "source": [
    "* Validating the data location. We should see the files in this location as we are just copying the files in the parquet file format."
   ]
  },
  {
   "cell_type": "code",
   "execution_count": 23,
   "metadata": {
    "application/vnd.databricks.v1+cell": {
     "inputWidgets": {},
     "nuid": "4a037abb-7b08-474a-ad0a-ce9062e532dd",
     "showTitle": false,
     "title": ""
    }
   },
   "outputs": [
    {
     "name": "stdout",
     "output_type": "stream",
     "text": [
      "Found 24 items\n",
      "-rw-r--r--   3 itv007304 supergroup  236303493 2023-07-25 10:31 /user/itv007304/github/streaming/bronze/data/ghactivity/created_year=2023/created_month=07/created_dayofmonth=12/part-00000-10dadd13-e7ff-4a21-9017-d4a6551314c6.c000.snappy.parquet\n",
      "-rw-r--r--   3 itv007304 supergroup  222001999 2023-07-25 10:30 /user/itv007304/github/streaming/bronze/data/ghactivity/created_year=2023/created_month=07/created_dayofmonth=12/part-00001-4a50d886-3b31-4ed3-bee0-bb5fde49745b.c000.snappy.parquet\n",
      "-rw-r--r--   3 itv007304 supergroup  230568614 2023-07-25 10:31 /user/itv007304/github/streaming/bronze/data/ghactivity/created_year=2023/created_month=07/created_dayofmonth=12/part-00002-e3116fcf-7651-438a-ab46-7ea001daab63.c000.snappy.parquet\n",
      "-rw-r--r--   3 itv007304 supergroup  221314719 2023-07-25 10:29 /user/itv007304/github/streaming/bronze/data/ghactivity/created_year=2023/created_month=07/created_dayofmonth=12/part-00003-822f743d-2e86-4327-b29e-d9a6e222f465.c000.snappy.parquet\n",
      "-rw-r--r--   3 itv007304 supergroup  218025272 2023-07-25 10:30 /user/itv007304/github/streaming/bronze/data/ghactivity/created_year=2023/created_month=07/created_dayofmonth=12/part-00004-c27a1860-d83f-420e-9333-b9701cd69ae1.c000.snappy.parquet\n",
      "-rw-r--r--   3 itv007304 supergroup  212157161 2023-07-25 10:30 /user/itv007304/github/streaming/bronze/data/ghactivity/created_year=2023/created_month=07/created_dayofmonth=12/part-00005-bf98df3c-9f86-469c-a469-1b609de37e86.c000.snappy.parquet\n",
      "-rw-r--r--   3 itv007304 supergroup  216749100 2023-07-25 10:31 /user/itv007304/github/streaming/bronze/data/ghactivity/created_year=2023/created_month=07/created_dayofmonth=12/part-00006-5738e981-e91d-4395-9912-9b4c7d545470.c000.snappy.parquet\n",
      "-rw-r--r--   3 itv007304 supergroup  205827486 2023-07-25 10:31 /user/itv007304/github/streaming/bronze/data/ghactivity/created_year=2023/created_month=07/created_dayofmonth=12/part-00007-4c891dc6-466a-4f71-b2b3-0d139bff7cbd.c000.snappy.parquet\n",
      "-rw-r--r--   3 itv007304 supergroup  200421320 2023-07-25 10:30 /user/itv007304/github/streaming/bronze/data/ghactivity/created_year=2023/created_month=07/created_dayofmonth=12/part-00008-d5112c45-35de-4dfd-bac9-2fcb38a80518.c000.snappy.parquet\n",
      "-rw-r--r--   3 itv007304 supergroup  206862763 2023-07-25 10:30 /user/itv007304/github/streaming/bronze/data/ghactivity/created_year=2023/created_month=07/created_dayofmonth=12/part-00009-1d1f2f28-8150-4541-bb34-b8b782f0a5f0.c000.snappy.parquet\n",
      "-rw-r--r--   3 itv007304 supergroup  206511585 2023-07-25 10:31 /user/itv007304/github/streaming/bronze/data/ghactivity/created_year=2023/created_month=07/created_dayofmonth=12/part-00010-f2807d02-1468-46a1-80a9-0e8a13d74aae.c000.snappy.parquet\n",
      "-rw-r--r--   3 itv007304 supergroup  204868992 2023-07-25 10:31 /user/itv007304/github/streaming/bronze/data/ghactivity/created_year=2023/created_month=07/created_dayofmonth=12/part-00011-b799d460-1fe1-4bfe-afb9-348aaae06189.c000.snappy.parquet\n",
      "-rw-r--r--   3 itv007304 supergroup  195616467 2023-07-25 10:33 /user/itv007304/github/streaming/bronze/data/ghactivity/created_year=2023/created_month=07/created_dayofmonth=12/part-00012-03b3ed40-5e27-4b94-b102-bda9432482a3.c000.snappy.parquet\n",
      "-rw-r--r--   3 itv007304 supergroup  195563728 2023-07-25 10:32 /user/itv007304/github/streaming/bronze/data/ghactivity/created_year=2023/created_month=07/created_dayofmonth=12/part-00013-d128bea1-917d-46cf-97cd-e73ead4fb64d.c000.snappy.parquet\n",
      "-rw-r--r--   3 itv007304 supergroup  177653977 2023-07-25 10:33 /user/itv007304/github/streaming/bronze/data/ghactivity/created_year=2023/created_month=07/created_dayofmonth=12/part-00014-1b1da7ca-a07a-4951-83e6-6904e34a5e17.c000.snappy.parquet\n",
      "-rw-r--r--   3 itv007304 supergroup  172892816 2023-07-25 10:33 /user/itv007304/github/streaming/bronze/data/ghactivity/created_year=2023/created_month=07/created_dayofmonth=12/part-00015-ca1332a2-81b8-4dee-9c1b-5bd6fc97178e.c000.snappy.parquet\n",
      "-rw-r--r--   3 itv007304 supergroup  159208896 2023-07-25 10:33 /user/itv007304/github/streaming/bronze/data/ghactivity/created_year=2023/created_month=07/created_dayofmonth=12/part-00016-d5747ad9-2f2a-4c7e-8664-8504da058501.c000.snappy.parquet\n",
      "-rw-r--r--   3 itv007304 supergroup  152630371 2023-07-25 10:33 /user/itv007304/github/streaming/bronze/data/ghactivity/created_year=2023/created_month=07/created_dayofmonth=12/part-00017-5d110af9-b4d5-4e47-88bb-6d827340186c.c000.snappy.parquet\n",
      "-rw-r--r--   3 itv007304 supergroup  153141809 2023-07-25 10:33 /user/itv007304/github/streaming/bronze/data/ghactivity/created_year=2023/created_month=07/created_dayofmonth=12/part-00018-022c7580-5fb5-486b-af18-adddf916d59d.c000.snappy.parquet\n",
      "-rw-r--r--   3 itv007304 supergroup  150775561 2023-07-25 10:33 /user/itv007304/github/streaming/bronze/data/ghactivity/created_year=2023/created_month=07/created_dayofmonth=12/part-00019-24a69b99-42a6-40e7-9fb2-47b0190739b0.c000.snappy.parquet\n",
      "-rw-r--r--   3 itv007304 supergroup  146392255 2023-07-25 10:33 /user/itv007304/github/streaming/bronze/data/ghactivity/created_year=2023/created_month=07/created_dayofmonth=12/part-00020-68473cee-0ab3-42a4-b09e-bf0e6cc1a63e.c000.snappy.parquet\n",
      "-rw-r--r--   3 itv007304 supergroup  145799949 2023-07-25 10:32 /user/itv007304/github/streaming/bronze/data/ghactivity/created_year=2023/created_month=07/created_dayofmonth=12/part-00021-476b0dfb-4e7b-498e-9d80-8ac820abd2d7.c000.snappy.parquet\n",
      "-rw-r--r--   3 itv007304 supergroup  137932482 2023-07-25 10:33 /user/itv007304/github/streaming/bronze/data/ghactivity/created_year=2023/created_month=07/created_dayofmonth=12/part-00022-44f1d4b9-fba3-4903-8ef5-b689fcb4fbad.c000.snappy.parquet\n",
      "-rw-r--r--   3 itv007304 supergroup  121856674 2023-07-25 10:33 /user/itv007304/github/streaming/bronze/data/ghactivity/created_year=2023/created_month=07/created_dayofmonth=12/part-00023-bb5a4f69-b62d-4f70-89a8-ac95554bca3b.c000.snappy.parquet\n"
     ]
    }
   ],
   "source": [
    "!hdfs dfs -ls /user/${USER}/github/streaming/bronze/data/ghactivity/created_year=2023/created_month=07/created_dayofmonth=12"
   ]
  },
  {
   "cell_type": "code",
   "execution_count": null,
   "metadata": {
    "application/vnd.databricks.v1+cell": {
     "inputWidgets": {},
     "nuid": "b9f366c8-8a6f-4e35-878f-1bd79003a696",
     "showTitle": false,
     "title": ""
    }
   },
   "outputs": [],
   "source": [
    "!hdfs dfs -ls -R /user/${USER}/github/streaming/bronze/data/ghactivity"
   ]
  },
  {
   "cell_type": "markdown",
   "metadata": {
    "application/vnd.databricks.v1+cell": {
     "inputWidgets": {},
     "nuid": "3470cc47-5ed2-462c-b6ea-90bfaa96ffe0",
     "showTitle": false,
     "title": ""
    }
   },
   "source": [
    "* Validating the source location to see if the files are delted or not. You should not be seeing the files related to 2023-07-11"
   ]
  },
  {
   "cell_type": "code",
   "execution_count": 24,
   "metadata": {},
   "outputs": [
    {
     "name": "stdout",
     "output_type": "stream",
     "text": [
      "drwxr-xr-x   - itv007304 supergroup          0 2023-07-12 17:57 /user/itv007304/github/streaming/landing/ghactivity/year=2023\n",
      "drwxr-xr-x   - itv007304 supergroup          0 2023-07-23 11:26 /user/itv007304/github/streaming/landing/ghactivity/year=2023/month=07\n",
      "drwxr-xr-x   - itv007304 supergroup          0 2023-07-25 10:27 /user/itv007304/github/streaming/landing/ghactivity/year=2023/month=07/dayofmonth=11\n",
      "drwxr-xr-x   - itv007304 supergroup          0 2023-07-23 11:31 /user/itv007304/github/streaming/landing/ghactivity/year=2023/month=07/dayofmonth=12\n",
      "-rw-r--r--   3 itv007304 supergroup   77672256 2023-07-23 11:26 /user/itv007304/github/streaming/landing/ghactivity/year=2023/month=07/dayofmonth=12/2023-07-12-0.json.gz\n",
      "-rw-r--r--   3 itv007304 supergroup   76987420 2023-07-23 11:27 /user/itv007304/github/streaming/landing/ghactivity/year=2023/month=07/dayofmonth=12/2023-07-12-1.json.gz\n",
      "-rw-r--r--   3 itv007304 supergroup   99933896 2023-07-23 11:28 /user/itv007304/github/streaming/landing/ghactivity/year=2023/month=07/dayofmonth=12/2023-07-12-10.json.gz\n",
      "-rw-r--r--   3 itv007304 supergroup  100721351 2023-07-23 11:28 /user/itv007304/github/streaming/landing/ghactivity/year=2023/month=07/dayofmonth=12/2023-07-12-11.json.gz\n",
      "-rw-r--r--   3 itv007304 supergroup  108611043 2023-07-23 11:29 /user/itv007304/github/streaming/landing/ghactivity/year=2023/month=07/dayofmonth=12/2023-07-12-12.json.gz\n",
      "-rw-r--r--   3 itv007304 supergroup  113941722 2023-07-23 11:29 /user/itv007304/github/streaming/landing/ghactivity/year=2023/month=07/dayofmonth=12/2023-07-12-13.json.gz\n",
      "-rw-r--r--   3 itv007304 supergroup  111918684 2023-07-23 11:29 /user/itv007304/github/streaming/landing/ghactivity/year=2023/month=07/dayofmonth=12/2023-07-12-14.json.gz\n",
      "-rw-r--r--   3 itv007304 supergroup  104801026 2023-07-23 11:29 /user/itv007304/github/streaming/landing/ghactivity/year=2023/month=07/dayofmonth=12/2023-07-12-15.json.gz\n",
      "-rw-r--r--   3 itv007304 supergroup  101173754 2023-07-23 11:30 /user/itv007304/github/streaming/landing/ghactivity/year=2023/month=07/dayofmonth=12/2023-07-12-16.json.gz\n",
      "-rw-r--r--   3 itv007304 supergroup  106106702 2023-07-23 11:30 /user/itv007304/github/streaming/landing/ghactivity/year=2023/month=07/dayofmonth=12/2023-07-12-17.json.gz\n",
      "-rw-r--r--   3 itv007304 supergroup  113544933 2023-07-23 11:30 /user/itv007304/github/streaming/landing/ghactivity/year=2023/month=07/dayofmonth=12/2023-07-12-18.json.gz\n",
      "-rw-r--r--   3 itv007304 supergroup  101203542 2023-07-23 11:30 /user/itv007304/github/streaming/landing/ghactivity/year=2023/month=07/dayofmonth=12/2023-07-12-19.json.gz\n",
      "-rw-r--r--   3 itv007304 supergroup   77501933 2023-07-23 11:27 /user/itv007304/github/streaming/landing/ghactivity/year=2023/month=07/dayofmonth=12/2023-07-12-2.json.gz\n",
      "-rw-r--r--   3 itv007304 supergroup   98805778 2023-07-23 11:31 /user/itv007304/github/streaming/landing/ghactivity/year=2023/month=07/dayofmonth=12/2023-07-12-20.json.gz\n",
      "-rw-r--r--   3 itv007304 supergroup   90526381 2023-07-23 11:31 /user/itv007304/github/streaming/landing/ghactivity/year=2023/month=07/dayofmonth=12/2023-07-12-21.json.gz\n",
      "-rw-r--r--   3 itv007304 supergroup   81154946 2023-07-23 11:31 /user/itv007304/github/streaming/landing/ghactivity/year=2023/month=07/dayofmonth=12/2023-07-12-22.json.gz\n",
      "-rw-r--r--   3 itv007304 supergroup   74176356 2023-07-23 11:31 /user/itv007304/github/streaming/landing/ghactivity/year=2023/month=07/dayofmonth=12/2023-07-12-23.json.gz\n",
      "-rw-r--r--   3 itv007304 supergroup   68700954 2023-07-23 11:27 /user/itv007304/github/streaming/landing/ghactivity/year=2023/month=07/dayofmonth=12/2023-07-12-3.json.gz\n",
      "-rw-r--r--   3 itv007304 supergroup   64575998 2023-07-23 11:27 /user/itv007304/github/streaming/landing/ghactivity/year=2023/month=07/dayofmonth=12/2023-07-12-4.json.gz\n",
      "-rw-r--r--   3 itv007304 supergroup   73550058 2023-07-23 11:27 /user/itv007304/github/streaming/landing/ghactivity/year=2023/month=07/dayofmonth=12/2023-07-12-5.json.gz\n",
      "-rw-r--r--   3 itv007304 supergroup   85467903 2023-07-23 11:27 /user/itv007304/github/streaming/landing/ghactivity/year=2023/month=07/dayofmonth=12/2023-07-12-6.json.gz\n",
      "-rw-r--r--   3 itv007304 supergroup   95824394 2023-07-23 11:28 /user/itv007304/github/streaming/landing/ghactivity/year=2023/month=07/dayofmonth=12/2023-07-12-7.json.gz\n",
      "-rw-r--r--   3 itv007304 supergroup  101465676 2023-07-23 11:28 /user/itv007304/github/streaming/landing/ghactivity/year=2023/month=07/dayofmonth=12/2023-07-12-8.json.gz\n",
      "-rw-r--r--   3 itv007304 supergroup  107321710 2023-07-23 11:28 /user/itv007304/github/streaming/landing/ghactivity/year=2023/month=07/dayofmonth=12/2023-07-12-9.json.gz\n"
     ]
    }
   ],
   "source": [
    "!hdfs dfs -ls -R /user/${USER}/github/streaming/landing/ghactivity"
   ]
  },
  {
   "cell_type": "code",
   "execution_count": null,
   "metadata": {},
   "outputs": [],
   "source": []
  }
 ],
 "metadata": {
  "application/vnd.databricks.v1+notebook": {
   "dashboards": [],
   "language": "python",
   "notebookMetadata": {
    "pythonIndentUnit": 2
   },
   "notebookName": "10 Load Data Incrementally to Target Table",
   "notebookOrigID": 1346813181782072,
   "widgets": {}
  },
  "kernelspec": {
   "display_name": "Pyspark 3",
   "language": "python",
   "name": "pyspark3"
  },
  "language_info": {
   "codemirror_mode": {
    "name": "ipython",
    "version": 3
   },
   "file_extension": ".py",
   "mimetype": "text/x-python",
   "name": "python",
   "nbconvert_exporter": "python",
   "pygments_lexer": "ipython3",
   "version": "3.6.12"
  }
 },
 "nbformat": 4,
 "nbformat_minor": 4
}
