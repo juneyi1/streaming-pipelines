{
 "cells": [
  {
   "cell_type": "markdown",
   "metadata": {
    "application/vnd.databricks.v1+cell": {
     "inputWidgets": {},
     "nuid": "f1f6781d-04aa-4518-8b59-f5a7a20faa94",
     "showTitle": false,
     "title": ""
    }
   },
   "source": [
    "## Write in Parquet file format using Trigger Once\n",
    "Let us go through the details about reading and writing data to target location leveraging Spark Structured Streaming APIs.\n",
    "* Let us write this data to target location using `parquet` file format. However, we will use `trigger(once=True)` to run only once.\n",
    "* We will also validate by running `hdfs dfs -ls` command to see if the parquet files are copied or not.\n",
    "* The files that are available at source at this time will be picked up automatically."
   ]
  },
  {
   "cell_type": "code",
   "execution_count": 1,
   "metadata": {},
   "outputs": [],
   "source": [
    "from pyspark.sql import SparkSession\n",
    "\n",
    "import getpass\n",
    "username = getpass.getuser()\n",
    "\n",
    "spark = SparkSession. \\\n",
    "    builder. \\\n",
    "    config('spark.ui.port', '0'). \\\n",
    "    config('spark.sql.warehouse.dir', f'/user/{username}/warehouse'). \\\n",
    "    enableHiveSupport(). \\\n",
    "    appName(f'{username} | Python - Incremental Loads using Spark Structured Streaming'). \\\n",
    "    master('yarn'). \\\n",
    "    getOrCreate()"
   ]
  },
  {
   "cell_type": "code",
   "execution_count": 2,
   "metadata": {},
   "outputs": [],
   "source": [
    "spark.conf.set('spark.sql.shuffle.partitions', '16')"
   ]
  },
  {
   "cell_type": "code",
   "execution_count": 3,
   "metadata": {
    "application/vnd.databricks.v1+cell": {
     "inputWidgets": {},
     "nuid": "f3db9a4b-db22-406b-8c7c-67e2db02c0e3",
     "showTitle": false,
     "title": ""
    }
   },
   "outputs": [],
   "source": [
    "spark.conf.set('spark.sql.streaming.schemaInference', 'true')"
   ]
  },
  {
   "cell_type": "code",
   "execution_count": 4,
   "metadata": {
    "application/vnd.databricks.v1+cell": {
     "inputWidgets": {},
     "nuid": "4d3f60c0-0846-4734-8108-5e82e58b4d4f",
     "showTitle": false,
     "title": ""
    }
   },
   "outputs": [],
   "source": [
    "ghactivity_df = spark. \\\n",
    "    readStream. \\\n",
    "    format('json'). \\\n",
    "    option('cleanSource', 'delete'). \\\n",
    "    load(f'/user/{username}/github/streaming/landing/ghactivity/')"
   ]
  },
  {
   "cell_type": "code",
   "execution_count": 5,
   "metadata": {
    "application/vnd.databricks.v1+cell": {
     "inputWidgets": {},
     "nuid": "8a871780-dc75-4be9-a579-1f31654178a6",
     "showTitle": false,
     "title": ""
    }
   },
   "outputs": [],
   "source": [
    "from pyspark.sql.functions import year, month, dayofmonth, lpad"
   ]
  },
  {
   "cell_type": "code",
   "execution_count": 7,
   "metadata": {
    "application/vnd.databricks.v1+cell": {
     "inputWidgets": {},
     "nuid": "b3217137-15a6-4e8c-b5a6-a4a7cc4484ec",
     "showTitle": false,
     "title": ""
    }
   },
   "outputs": [],
   "source": [
    "ghactivity_df = ghactivity_df. \\\n",
    "    withColumn('created_year', year('created_at')). \\\n",
    "    withColumn('created_month', lpad(month('created_at'), 2, '0')). \\\n",
    "    withColumn('created_dayofmonth', lpad(dayofmonth('created_at'), 2, '0'))"
   ]
  },
  {
   "cell_type": "code",
   "execution_count": 8,
   "metadata": {},
   "outputs": [
    {
     "data": {
      "text/plain": [
       "pyspark.sql.dataframe.DataFrame"
      ]
     },
     "execution_count": 8,
     "metadata": {},
     "output_type": "execute_result"
    }
   ],
   "source": [
    "type(ghactivity_df)"
   ]
  },
  {
   "cell_type": "code",
   "execution_count": 9,
   "metadata": {},
   "outputs": [
    {
     "data": {
      "text/plain": [
       "True"
      ]
     },
     "execution_count": 9,
     "metadata": {},
     "output_type": "execute_result"
    }
   ],
   "source": [
    "ghactivity_df.isStreaming"
   ]
  },
  {
   "cell_type": "code",
   "execution_count": 10,
   "metadata": {
    "application/vnd.databricks.v1+cell": {
     "inputWidgets": {},
     "nuid": "13e4e243-49bb-41cb-9438-8738ed2779e5",
     "showTitle": false,
     "title": ""
    }
   },
   "outputs": [
    {
     "data": {
      "text/plain": [
       "<pyspark.sql.streaming.StreamingQuery at 0x7f35990c11d0>"
      ]
     },
     "execution_count": 10,
     "metadata": {},
     "output_type": "execute_result"
    }
   ],
   "source": [
    "ghactivity_df. \\\n",
    "    writeStream. \\\n",
    "    partitionBy('created_year', 'created_month', 'created_dayofmonth'). \\\n",
    "    format('parquet'). \\\n",
    "    option(\"checkpointLocation\", f\"/user/{username}/github/streaming/bronze/checkpoint/ghactivity\"). \\\n",
    "    option(\"path\", f\"/user/{username}/github/streaming/bronze/data/ghactivity\"). \\\n",
    "    trigger(once=True). \\\n",
    "    start()"
   ]
  },
  {
   "cell_type": "markdown",
   "metadata": {
    "application/vnd.databricks.v1+cell": {
     "inputWidgets": {},
     "nuid": "35a8fc0d-cd29-4c3d-aed2-9d4712ba5731",
     "showTitle": false,
     "title": ""
    }
   },
   "source": [
    "* Validating the checkpoint location. We can see multiple folders. These folders will have all the files that are required for the overhead of the checkpoint."
   ]
  },
  {
   "cell_type": "code",
   "execution_count": 11,
   "metadata": {
    "application/vnd.databricks.v1+cell": {
     "inputWidgets": {},
     "nuid": "a09e7932-76d4-4f4b-ad1c-2c0d3f66369b",
     "showTitle": false,
     "title": ""
    }
   },
   "outputs": [
    {
     "name": "stdout",
     "output_type": "stream",
     "text": [
      "Found 4 items\n",
      "drwxr-xr-x   - itv007304 supergroup          0 2023-07-14 12:23 /user/itv007304/github/streaming/bronze/checkpoint/ghactivity/commits\n",
      "-rw-r--r--   3 itv007304 supergroup         45 2023-07-14 12:17 /user/itv007304/github/streaming/bronze/checkpoint/ghactivity/metadata\n",
      "drwxr-xr-x   - itv007304 supergroup          0 2023-07-14 12:17 /user/itv007304/github/streaming/bronze/checkpoint/ghactivity/offsets\n",
      "drwxr-xr-x   - itv007304 supergroup          0 2023-07-14 12:17 /user/itv007304/github/streaming/bronze/checkpoint/ghactivity/sources\n"
     ]
    }
   ],
   "source": [
    "!hdfs dfs -ls /user/${USER}/github/streaming/bronze/checkpoint/ghactivity"
   ]
  },
  {
   "cell_type": "code",
   "execution_count": 13,
   "metadata": {
    "application/vnd.databricks.v1+cell": {
     "inputWidgets": {},
     "nuid": "b9f366c8-8a6f-4e35-878f-1bd79003a696",
     "showTitle": false,
     "title": ""
    }
   },
   "outputs": [
    {
     "name": "stdout",
     "output_type": "stream",
     "text": [
      "drwxr-xr-x   - itv007304 supergroup          0 2023-07-14 12:17 /user/itv007304/github/streaming/bronze/checkpoint/ghactivity/sources/0\n",
      "-rw-r--r--   3 itv007304 supergroup       4432 2023-07-14 12:17 /user/itv007304/github/streaming/bronze/checkpoint/ghactivity/sources/0/0\n"
     ]
    }
   ],
   "source": [
    "!hdfs dfs -ls -R /user/${USER}/github/streaming/bronze/checkpoint/ghactivity/sources"
   ]
  },
  {
   "cell_type": "code",
   "execution_count": 14,
   "metadata": {},
   "outputs": [
    {
     "name": "stdout",
     "output_type": "stream",
     "text": [
      "v1\n",
      "{\"path\":\"hdfs://m01.itversity.com:9000/user/itv007304/github/streaming/landing/ghactivity/year=2023/month=07/dayofmonth=11/2023-07-11-0.json.gz\",\"timestamp\":1689199156255,\"batchId\":0}\n",
      "{\"path\":\"hdfs://m01.itversity.com:9000/user/itv007304/github/streaming/landing/ghactivity/year=2023/month=07/dayofmonth=11/2023-07-11-1.json.gz\",\"timestamp\":1689276160654,\"batchId\":0}\n",
      "{\"path\":\"hdfs://m01.itversity.com:9000/user/itv007304/github/streaming/landing/ghactivity/year=2023/month=07/dayofmonth=11/2023-07-11-2.json.gz\",\"timestamp\":1689276171657,\"batchId\":0}\n",
      "{\"path\":\"hdfs://m01.itversity.com:9000/user/itv007304/github/streaming/landing/ghactivity/year=2023/month=07/dayofmonth=11/2023-07-11-3.json.gz\",\"timestamp\":1689276182338,\"batchId\":0}\n",
      "{\"path\":\"hdfs://m01.itversity.com:9000/user/itv007304/github/streaming/landing/ghactivity/year=2023/month=07/dayofmonth=11/2023-07-11-4.json.gz\",\"timestamp\":1689276191737,\"batchId\":0}\n",
      "{\"path\":\"hdfs://m01.itversity.com:9000/user/itv007304/github/streaming/landing/ghactivity/year=2023/month=07/dayofmonth=11/2023-07-11-5.json.gz\",\"timestamp\":1689276205183,\"batchId\":0}\n",
      "{\"path\":\"hdfs://m01.itversity.com:9000/user/itv007304/github/streaming/landing/ghactivity/year=2023/month=07/dayofmonth=11/2023-07-11-6.json.gz\",\"timestamp\":1689276216966,\"batchId\":0}\n",
      "{\"path\":\"hdfs://m01.itversity.com:9000/user/itv007304/github/streaming/landing/ghactivity/year=2023/month=07/dayofmonth=11/2023-07-11-7.json.gz\",\"timestamp\":1689276229621,\"batchId\":0}\n",
      "{\"path\":\"hdfs://m01.itversity.com:9000/user/itv007304/github/streaming/landing/ghactivity/year=2023/month=07/dayofmonth=11/2023-07-11-8.json.gz\",\"timestamp\":1689276243039,\"batchId\":0}\n",
      "{\"path\":\"hdfs://m01.itversity.com:9000/user/itv007304/github/streaming/landing/ghactivity/year=2023/month=07/dayofmonth=11/2023-07-11-9.json.gz\",\"timestamp\":1689276258262,\"batchId\":0}\n",
      "{\"path\":\"hdfs://m01.itversity.com:9000/user/itv007304/github/streaming/landing/ghactivity/year=2023/month=07/dayofmonth=11/2023-07-11-10.json.gz\",\"timestamp\":1689276272277,\"batchId\":0}\n",
      "{\"path\":\"hdfs://m01.itversity.com:9000/user/itv007304/github/streaming/landing/ghactivity/year=2023/month=07/dayofmonth=11/2023-07-11-11.json.gz\",\"timestamp\":1689276285565,\"batchId\":0}\n",
      "{\"path\":\"hdfs://m01.itversity.com:9000/user/itv007304/github/streaming/landing/ghactivity/year=2023/month=07/dayofmonth=11/2023-07-11-12.json.gz\",\"timestamp\":1689276303840,\"batchId\":0}\n",
      "{\"path\":\"hdfs://m01.itversity.com:9000/user/itv007304/github/streaming/landing/ghactivity/year=2023/month=07/dayofmonth=11/2023-07-11-13.json.gz\",\"timestamp\":1689276324277,\"batchId\":0}\n",
      "{\"path\":\"hdfs://m01.itversity.com:9000/user/itv007304/github/streaming/landing/ghactivity/year=2023/month=07/dayofmonth=11/2023-07-11-14.json.gz\",\"timestamp\":1689276338934,\"batchId\":0}\n",
      "{\"path\":\"hdfs://m01.itversity.com:9000/user/itv007304/github/streaming/landing/ghactivity/year=2023/month=07/dayofmonth=11/2023-07-11-15.json.gz\",\"timestamp\":1689276351323,\"batchId\":0}\n",
      "{\"path\":\"hdfs://m01.itversity.com:9000/user/itv007304/github/streaming/landing/ghactivity/year=2023/month=07/dayofmonth=11/2023-07-11-16.json.gz\",\"timestamp\":1689276365428,\"batchId\":0}\n",
      "{\"path\":\"hdfs://m01.itversity.com:9000/user/itv007304/github/streaming/landing/ghactivity/year=2023/month=07/dayofmonth=11/2023-07-11-17.json.gz\",\"timestamp\":1689276378297,\"batchId\":0}\n",
      "{\"path\":\"hdfs://m01.itversity.com:9000/user/itv007304/github/streaming/landing/ghactivity/year=2023/month=07/dayofmonth=11/2023-07-11-18.json.gz\",\"timestamp\":1689276391047,\"batchId\":0}\n",
      "{\"path\":\"hdfs://m01.itversity.com:9000/user/itv007304/github/streaming/landing/ghactivity/year=2023/month=07/dayofmonth=11/2023-07-11-19.json.gz\",\"timestamp\":1689276402884,\"batchId\":0}\n",
      "{\"path\":\"hdfs://m01.itversity.com:9000/user/itv007304/github/streaming/landing/ghactivity/year=2023/month=07/dayofmonth=11/2023-07-11-20.json.gz\",\"timestamp\":1689276414959,\"batchId\":0}\n",
      "{\"path\":\"hdfs://m01.itversity.com:9000/user/itv007304/github/streaming/landing/ghactivity/year=2023/month=07/dayofmonth=11/2023-07-11-21.json.gz\",\"timestamp\":1689276426695,\"batchId\":0}\n",
      "{\"path\":\"hdfs://m01.itversity.com:9000/user/itv007304/github/streaming/landing/ghactivity/year=2023/month=07/dayofmonth=11/2023-07-11-22.json.gz\",\"timestamp\":1689276437182,\"batchId\":0}\n",
      "{\"path\":\"hdfs://m01.itversity.com:9000/user/itv007304/github/streaming/landing/ghactivity/year=2023/month=07/dayofmonth=11/2023-07-11-23.json.gz\",\"timestamp\":1689276447972,\"batchId\":0}"
     ]
    }
   ],
   "source": [
    "!hdfs dfs -cat /user/${USER}/github/streaming/bronze/checkpoint/ghactivity/sources/0/0"
   ]
  },
  {
   "cell_type": "code",
   "execution_count": 16,
   "metadata": {},
   "outputs": [
    {
     "name": "stdout",
     "output_type": "stream",
     "text": [
      "Found 1 items\n",
      "-rw-r--r--   3 itv007304 supergroup        471 2023-07-14 12:17 /user/itv007304/github/streaming/bronze/checkpoint/ghactivity/offsets/0\n"
     ]
    }
   ],
   "source": [
    "!hdfs dfs -ls /user/${USER}/github/streaming/bronze/checkpoint/ghactivity/offsets"
   ]
  },
  {
   "cell_type": "code",
   "execution_count": 17,
   "metadata": {},
   "outputs": [
    {
     "name": "stdout",
     "output_type": "stream",
     "text": [
      "v1\n",
      "{\"batchWatermarkMs\":0,\"batchTimestampMs\":1689351454553,\"conf\":{\"spark.sql.streaming.stateStore.providerClass\":\"org.apache.spark.sql.execution.streaming.state.HDFSBackedStateStoreProvider\",\"spark.sql.streaming.join.stateFormatVersion\":\"2\",\"spark.sql.streaming.flatMapGroupsWithState.stateFormatVersion\":\"2\",\"spark.sql.streaming.multipleWatermarkPolicy\":\"min\",\"spark.sql.streaming.aggregation.stateFormatVersion\":\"2\",\"spark.sql.shuffle.partitions\":\"16\"}}\n",
      "{\"logOffset\":0}"
     ]
    }
   ],
   "source": [
    "!hdfs dfs -cat /user/${USER}/github/streaming/bronze/checkpoint/ghactivity/offsets/0"
   ]
  },
  {
   "cell_type": "markdown",
   "metadata": {
    "application/vnd.databricks.v1+cell": {
     "inputWidgets": {},
     "nuid": "fee6dc7e-3083-4c9b-9096-c717748c8d0d",
     "showTitle": false,
     "title": ""
    }
   },
   "source": [
    "* Validating the data location. We should see the files in this location as we are just copying the files in the parquet file format."
   ]
  },
  {
   "cell_type": "code",
   "execution_count": 18,
   "metadata": {
    "application/vnd.databricks.v1+cell": {
     "inputWidgets": {},
     "nuid": "3470cc47-5ed2-462c-b6ea-90bfaa96ffe0",
     "showTitle": false,
     "title": ""
    }
   },
   "outputs": [
    {
     "name": "stdout",
     "output_type": "stream",
     "text": [
      "Found 2 items\n",
      "drwxr-xr-x   - itv007304 supergroup          0 2023-07-14 12:23 /user/itv007304/github/streaming/bronze/data/ghactivity/_spark_metadata\n",
      "drwxr-xr-x   - itv007304 supergroup          0 2023-07-14 12:17 /user/itv007304/github/streaming/bronze/data/ghactivity/created_year=2023\n"
     ]
    }
   ],
   "source": [
    "!hdfs dfs -ls /user/${USER}/github/streaming/bronze/data/ghactivity"
   ]
  },
  {
   "cell_type": "code",
   "execution_count": 19,
   "metadata": {
    "application/vnd.databricks.v1+cell": {
     "inputWidgets": {},
     "nuid": "728fac2b-fc7a-4c85-9825-93d8da92e259",
     "showTitle": false,
     "title": ""
    }
   },
   "outputs": [
    {
     "name": "stdout",
     "output_type": "stream",
     "text": [
      "drwxr-xr-x   - itv007304 supergroup          0 2023-07-14 12:23 /user/itv007304/github/streaming/bronze/data/ghactivity/_spark_metadata\n",
      "-rw-r--r--   3 itv007304 supergroup       8234 2023-07-14 12:23 /user/itv007304/github/streaming/bronze/data/ghactivity/_spark_metadata/0\n",
      "drwxr-xr-x   - itv007304 supergroup          0 2023-07-14 12:17 /user/itv007304/github/streaming/bronze/data/ghactivity/created_year=2023\n",
      "drwxr-xr-x   - itv007304 supergroup          0 2023-07-14 12:17 /user/itv007304/github/streaming/bronze/data/ghactivity/created_year=2023/created_month=07\n",
      "drwxr-xr-x   - itv007304 supergroup          0 2023-07-14 12:22 /user/itv007304/github/streaming/bronze/data/ghactivity/created_year=2023/created_month=07/created_dayofmonth=11\n",
      "-rw-r--r--   3 itv007304 supergroup  244196779 2023-07-14 12:19 /user/itv007304/github/streaming/bronze/data/ghactivity/created_year=2023/created_month=07/created_dayofmonth=11/part-00000-bdc32318-6047-45b2-a655-5b7e213b90b3.c000.snappy.parquet\n",
      "-rw-r--r--   3 itv007304 supergroup  233697459 2023-07-14 12:20 /user/itv007304/github/streaming/bronze/data/ghactivity/created_year=2023/created_month=07/created_dayofmonth=11/part-00001-6300e7cd-1e14-436b-bc86-090c98b448c7.c000.snappy.parquet\n",
      "-rw-r--r--   3 itv007304 supergroup  229884940 2023-07-14 12:21 /user/itv007304/github/streaming/bronze/data/ghactivity/created_year=2023/created_month=07/created_dayofmonth=11/part-00002-08575310-d7b8-413b-a97a-1e4a909550b9.c000.snappy.parquet\n",
      "-rw-r--r--   3 itv007304 supergroup  229075506 2023-07-14 12:20 /user/itv007304/github/streaming/bronze/data/ghactivity/created_year=2023/created_month=07/created_dayofmonth=11/part-00003-2ffa3756-c3fe-492e-9bc7-e713e61f47b9.c000.snappy.parquet\n",
      "-rw-r--r--   3 itv007304 supergroup  219921945 2023-07-14 12:21 /user/itv007304/github/streaming/bronze/data/ghactivity/created_year=2023/created_month=07/created_dayofmonth=11/part-00004-3b68b770-188c-4595-9507-19749cd2c5fc.c000.snappy.parquet\n",
      "-rw-r--r--   3 itv007304 supergroup  217895191 2023-07-14 12:19 /user/itv007304/github/streaming/bronze/data/ghactivity/created_year=2023/created_month=07/created_dayofmonth=11/part-00005-192bf2b7-e250-4345-9913-307cbe0af909.c000.snappy.parquet\n",
      "-rw-r--r--   3 itv007304 supergroup  217416479 2023-07-14 12:21 /user/itv007304/github/streaming/bronze/data/ghactivity/created_year=2023/created_month=07/created_dayofmonth=11/part-00006-958124c9-9a36-4c3e-8f8d-1c928b3b7b09.c000.snappy.parquet\n",
      "-rw-r--r--   3 itv007304 supergroup  212730197 2023-07-14 12:21 /user/itv007304/github/streaming/bronze/data/ghactivity/created_year=2023/created_month=07/created_dayofmonth=11/part-00007-d10f78da-9a9c-40f6-b0b4-9dd7f4943657.c000.snappy.parquet\n",
      "-rw-r--r--   3 itv007304 supergroup  210052007 2023-07-14 12:20 /user/itv007304/github/streaming/bronze/data/ghactivity/created_year=2023/created_month=07/created_dayofmonth=11/part-00008-626875de-6fd5-4b12-885f-5096d31cb8da.c000.snappy.parquet\n",
      "-rw-r--r--   3 itv007304 supergroup  207997296 2023-07-14 12:21 /user/itv007304/github/streaming/bronze/data/ghactivity/created_year=2023/created_month=07/created_dayofmonth=11/part-00009-f6cf2b12-df87-45a9-ae19-ab9e26278670.c000.snappy.parquet\n",
      "-rw-r--r--   3 itv007304 supergroup  212477923 2023-07-14 12:22 /user/itv007304/github/streaming/bronze/data/ghactivity/created_year=2023/created_month=07/created_dayofmonth=11/part-00010-9a27334b-a480-48d6-83aa-40a969bd1a5b.c000.snappy.parquet\n",
      "-rw-r--r--   3 itv007304 supergroup  203749539 2023-07-14 12:20 /user/itv007304/github/streaming/bronze/data/ghactivity/created_year=2023/created_month=07/created_dayofmonth=11/part-00011-031c00dc-6b09-448b-a8a6-89a4391b0865.c000.snappy.parquet\n",
      "-rw-r--r--   3 itv007304 supergroup  194602040 2023-07-14 12:22 /user/itv007304/github/streaming/bronze/data/ghactivity/created_year=2023/created_month=07/created_dayofmonth=11/part-00012-cdae06f8-4626-44e9-82a0-7be0f522f28e.c000.snappy.parquet\n",
      "-rw-r--r--   3 itv007304 supergroup  182207641 2023-07-14 12:22 /user/itv007304/github/streaming/bronze/data/ghactivity/created_year=2023/created_month=07/created_dayofmonth=11/part-00013-15d7107a-9f5d-41e6-8a75-59f6a7a9d666.c000.snappy.parquet\n",
      "-rw-r--r--   3 itv007304 supergroup  188355598 2023-07-14 12:23 /user/itv007304/github/streaming/bronze/data/ghactivity/created_year=2023/created_month=07/created_dayofmonth=11/part-00014-ab852198-0972-4729-91b0-33e3e38860b3.c000.snappy.parquet\n",
      "-rw-r--r--   3 itv007304 supergroup  191528622 2023-07-14 12:23 /user/itv007304/github/streaming/bronze/data/ghactivity/created_year=2023/created_month=07/created_dayofmonth=11/part-00015-c5e619f9-8c67-49a0-86d3-8718fbc945bc.c000.snappy.parquet\n",
      "-rw-r--r--   3 itv007304 supergroup  186703408 2023-07-14 12:23 /user/itv007304/github/streaming/bronze/data/ghactivity/created_year=2023/created_month=07/created_dayofmonth=11/part-00016-d2e4a360-d306-4194-9c80-acc70792c13f.c000.snappy.parquet\n",
      "-rw-r--r--   3 itv007304 supergroup  173964105 2023-07-14 12:23 /user/itv007304/github/streaming/bronze/data/ghactivity/created_year=2023/created_month=07/created_dayofmonth=11/part-00017-d4f50d25-88b1-4e4b-9956-5b5181eef7da.c000.snappy.parquet\n",
      "-rw-r--r--   3 itv007304 supergroup  170841580 2023-07-14 12:23 /user/itv007304/github/streaming/bronze/data/ghactivity/created_year=2023/created_month=07/created_dayofmonth=11/part-00018-d8909adc-fc57-4663-b8f7-846564488516.c000.snappy.parquet\n",
      "-rw-r--r--   3 itv007304 supergroup  163088262 2023-07-14 12:23 /user/itv007304/github/streaming/bronze/data/ghactivity/created_year=2023/created_month=07/created_dayofmonth=11/part-00019-40c58250-520b-48d3-bc6b-32ab9b1068c7.c000.snappy.parquet\n",
      "-rw-r--r--   3 itv007304 supergroup  162327779 2023-07-14 12:23 /user/itv007304/github/streaming/bronze/data/ghactivity/created_year=2023/created_month=07/created_dayofmonth=11/part-00020-b78dee4e-7aed-4bb8-b5f1-a8fa7519f905.c000.snappy.parquet\n",
      "-rw-r--r--   3 itv007304 supergroup  155026570 2023-07-14 12:23 /user/itv007304/github/streaming/bronze/data/ghactivity/created_year=2023/created_month=07/created_dayofmonth=11/part-00021-5913283c-b77c-454a-840a-6c7264297cad.c000.snappy.parquet\n",
      "-rw-r--r--   3 itv007304 supergroup  153059366 2023-07-14 12:23 /user/itv007304/github/streaming/bronze/data/ghactivity/created_year=2023/created_month=07/created_dayofmonth=11/part-00022-fd30a2bc-91ef-4052-b768-4f070d138296.c000.snappy.parquet\n",
      "-rw-r--r--   3 itv007304 supergroup  137651160 2023-07-14 12:23 /user/itv007304/github/streaming/bronze/data/ghactivity/created_year=2023/created_month=07/created_dayofmonth=11/part-00023-17d89dbe-86a7-48d3-800c-bc9c49c514db.c000.snappy.parquet\n"
     ]
    }
   ],
   "source": [
    "!hdfs dfs -ls -R /user/${USER}/github/streaming/bronze/data/ghactivity"
   ]
  },
  {
   "cell_type": "markdown",
   "metadata": {},
   "source": [
    "* Validating the source location to see if the files are delted or not."
   ]
  },
  {
   "cell_type": "code",
   "execution_count": 20,
   "metadata": {},
   "outputs": [
    {
     "name": "stdout",
     "output_type": "stream",
     "text": [
      "drwxr-xr-x   - itv007304 supergroup          0 2023-07-12 17:57 /user/itv007304/github/streaming/landing/ghactivity/year=2023\n",
      "drwxr-xr-x   - itv007304 supergroup          0 2023-07-12 17:57 /user/itv007304/github/streaming/landing/ghactivity/year=2023/month=07\n",
      "drwxr-xr-x   - itv007304 supergroup          0 2023-07-13 15:27 /user/itv007304/github/streaming/landing/ghactivity/year=2023/month=07/dayofmonth=11\n",
      "-rw-r--r--   3 itv007304 supergroup   96670341 2023-07-12 17:59 /user/itv007304/github/streaming/landing/ghactivity/year=2023/month=07/dayofmonth=11/2023-07-11-0.json.gz\n",
      "-rw-r--r--   3 itv007304 supergroup   90660972 2023-07-13 15:22 /user/itv007304/github/streaming/landing/ghactivity/year=2023/month=07/dayofmonth=11/2023-07-11-1.json.gz\n",
      "-rw-r--r--   3 itv007304 supergroup  104839007 2023-07-13 15:24 /user/itv007304/github/streaming/landing/ghactivity/year=2023/month=07/dayofmonth=11/2023-07-11-10.json.gz\n",
      "-rw-r--r--   3 itv007304 supergroup  110194573 2023-07-13 15:24 /user/itv007304/github/streaming/landing/ghactivity/year=2023/month=07/dayofmonth=11/2023-07-11-11.json.gz\n",
      "-rw-r--r--   3 itv007304 supergroup  112296692 2023-07-13 15:25 /user/itv007304/github/streaming/landing/ghactivity/year=2023/month=07/dayofmonth=11/2023-07-11-12.json.gz\n",
      "-rw-r--r--   3 itv007304 supergroup  111578082 2023-07-13 15:25 /user/itv007304/github/streaming/landing/ghactivity/year=2023/month=07/dayofmonth=11/2023-07-11-13.json.gz\n",
      "-rw-r--r--   3 itv007304 supergroup  120593713 2023-07-13 15:25 /user/itv007304/github/streaming/landing/ghactivity/year=2023/month=07/dayofmonth=11/2023-07-11-14.json.gz\n",
      "-rw-r--r--   3 itv007304 supergroup  103488898 2023-07-13 15:25 /user/itv007304/github/streaming/landing/ghactivity/year=2023/month=07/dayofmonth=11/2023-07-11-15.json.gz\n",
      "-rw-r--r--   3 itv007304 supergroup  107369187 2023-07-13 15:26 /user/itv007304/github/streaming/landing/ghactivity/year=2023/month=07/dayofmonth=11/2023-07-11-16.json.gz\n",
      "-rw-r--r--   3 itv007304 supergroup  109427793 2023-07-13 15:26 /user/itv007304/github/streaming/landing/ghactivity/year=2023/month=07/dayofmonth=11/2023-07-11-17.json.gz\n",
      "-rw-r--r--   3 itv007304 supergroup  103817500 2023-07-13 15:26 /user/itv007304/github/streaming/landing/ghactivity/year=2023/month=07/dayofmonth=11/2023-07-11-18.json.gz\n",
      "-rw-r--r--   3 itv007304 supergroup   94707408 2023-07-13 15:26 /user/itv007304/github/streaming/landing/ghactivity/year=2023/month=07/dayofmonth=11/2023-07-11-19.json.gz\n",
      "-rw-r--r--   3 itv007304 supergroup   87462965 2023-07-13 15:22 /user/itv007304/github/streaming/landing/ghactivity/year=2023/month=07/dayofmonth=11/2023-07-11-2.json.gz\n",
      "-rw-r--r--   3 itv007304 supergroup   97568431 2023-07-13 15:26 /user/itv007304/github/streaming/landing/ghactivity/year=2023/month=07/dayofmonth=11/2023-07-11-20.json.gz\n",
      "-rw-r--r--   3 itv007304 supergroup   94099982 2023-07-13 15:27 /user/itv007304/github/streaming/landing/ghactivity/year=2023/month=07/dayofmonth=11/2023-07-11-21.json.gz\n",
      "-rw-r--r--   3 itv007304 supergroup   82178157 2023-07-13 15:27 /user/itv007304/github/streaming/landing/ghactivity/year=2023/month=07/dayofmonth=11/2023-07-11-22.json.gz\n",
      "-rw-r--r--   3 itv007304 supergroup   78356775 2023-07-13 15:27 /user/itv007304/github/streaming/landing/ghactivity/year=2023/month=07/dayofmonth=11/2023-07-11-23.json.gz\n",
      "-rw-r--r--   3 itv007304 supergroup   78345974 2023-07-13 15:23 /user/itv007304/github/streaming/landing/ghactivity/year=2023/month=07/dayofmonth=11/2023-07-11-3.json.gz\n",
      "-rw-r--r--   3 itv007304 supergroup   70414630 2023-07-13 15:23 /user/itv007304/github/streaming/landing/ghactivity/year=2023/month=07/dayofmonth=11/2023-07-11-4.json.gz\n",
      "-rw-r--r--   3 itv007304 supergroup   84607321 2023-07-13 15:23 /user/itv007304/github/streaming/landing/ghactivity/year=2023/month=07/dayofmonth=11/2023-07-11-5.json.gz\n",
      "-rw-r--r--   3 itv007304 supergroup   96419214 2023-07-13 15:23 /user/itv007304/github/streaming/landing/ghactivity/year=2023/month=07/dayofmonth=11/2023-07-11-6.json.gz\n",
      "-rw-r--r--   3 itv007304 supergroup  102474954 2023-07-13 15:23 /user/itv007304/github/streaming/landing/ghactivity/year=2023/month=07/dayofmonth=11/2023-07-11-7.json.gz\n",
      "-rw-r--r--   3 itv007304 supergroup  106619059 2023-07-13 15:24 /user/itv007304/github/streaming/landing/ghactivity/year=2023/month=07/dayofmonth=11/2023-07-11-8.json.gz\n",
      "-rw-r--r--   3 itv007304 supergroup  118116457 2023-07-13 15:24 /user/itv007304/github/streaming/landing/ghactivity/year=2023/month=07/dayofmonth=11/2023-07-11-9.json.gz\n"
     ]
    }
   ],
   "source": [
    "!hdfs dfs -ls -R /user/${USER}/github/streaming/landing/ghactivity"
   ]
  },
  {
   "cell_type": "code",
   "execution_count": null,
   "metadata": {},
   "outputs": [],
   "source": []
  }
 ],
 "metadata": {
  "application/vnd.databricks.v1+notebook": {
   "dashboards": [],
   "language": "python",
   "notebookMetadata": {
    "pythonIndentUnit": 2
   },
   "notebookName": "07 Write using Delta file format using Trigger Once",
   "notebookOrigID": 1228141849143135,
   "widgets": {}
  },
  "kernelspec": {
   "display_name": "Pyspark 3",
   "language": "python",
   "name": "pyspark3"
  },
  "language_info": {
   "codemirror_mode": {
    "name": "ipython",
    "version": 3
   },
   "file_extension": ".py",
   "mimetype": "text/x-python",
   "name": "python",
   "nbconvert_exporter": "python",
   "pygments_lexer": "ipython3",
   "version": "3.6.12"
  }
 },
 "nbformat": 4,
 "nbformat_minor": 4
}
