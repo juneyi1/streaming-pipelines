{
 "cells": [
  {
   "cell_type": "markdown",
   "metadata": {
    "application/vnd.databricks.v1+cell": {
     "inputWidgets": {},
     "nuid": "12322148-76da-40e7-b80c-66e0ebbbb2a2",
     "showTitle": false,
     "title": ""
    }
   },
   "source": [
    "## Upload GHArchive Files to s3\n",
    "\n",
    "Let us upload the files from GHArchive website to s3.\n",
    "* Make sure the folder is created to place the files.\n",
    "* Get the content of the file using `requests` module using`requests.get`.\n",
    "* It will return an object of type **Response** which contain the `content` attribute.\n",
    "* The content can be uploaded to s3 using s3 client's `put_object`. If we specify right object name, the zip file that is downloaded using `requests.get` will be uploaded into s3."
   ]
  },
  {
   "cell_type": "markdown",
   "metadata": {
    "application/vnd.databricks.v1+cell": {
     "inputWidgets": {},
     "nuid": "34d78f68-74fe-4fdb-978b-740cb6c2ff7c",
     "showTitle": false,
     "title": ""
    }
   },
   "source": [
    "* Creating the base directory."
   ]
  },
  {
   "cell_type": "code",
   "execution_count": null,
   "metadata": {
    "application/vnd.databricks.v1+cell": {
     "inputWidgets": {},
     "nuid": "8812dd3b-2cb6-402f-8ac3-e93521098e3f",
     "showTitle": false,
     "title": ""
    }
   },
   "outputs": [
    {
     "data": {
      "text/html": [
       "<style scoped>\n",
       "  .ansiout {\n",
       "    display: block;\n",
       "    unicode-bidi: embed;\n",
       "    white-space: pre-wrap;\n",
       "    word-wrap: break-word;\n",
       "    word-break: break-all;\n",
       "    font-family: \"Source Code Pro\", \"Menlo\", monospace;;\n",
       "    font-size: 13px;\n",
       "    color: #555;\n",
       "    margin-left: 4px;\n",
       "    line-height: 19px;\n",
       "  }\n",
       "</style>\n",
       "<div class=\"ansiout\">res0: Boolean = true\n",
       "</div>"
      ]
     },
     "metadata": {
      "application/vnd.databricks.v1+output": {
       "addedWidgets": {},
       "arguments": {},
       "data": "<div class=\"ansiout\">res0: Boolean = true\n</div>",
       "datasetInfos": [],
       "metadata": {},
       "removedWidgets": [],
       "type": "html"
      }
     },
     "output_type": "display_data"
    }
   ],
   "source": [
    "%fs mkdirs /mnt/itv-github-db/streaming/landing/ghactivity"
   ]
  },
  {
   "cell_type": "markdown",
   "metadata": {
    "application/vnd.databricks.v1+cell": {
     "inputWidgets": {},
     "nuid": "939cfc77-9212-4afa-a76c-80d4df6afdf0",
     "showTitle": false,
     "title": ""
    }
   },
   "source": [
    "* Get the content of the file."
   ]
  },
  {
   "cell_type": "code",
   "execution_count": null,
   "metadata": {
    "application/vnd.databricks.v1+cell": {
     "inputWidgets": {},
     "nuid": "63e11e2c-30ce-406b-925e-dba1c9f7f9de",
     "showTitle": false,
     "title": ""
    }
   },
   "outputs": [
    {
     "data": {
      "text/html": [
       "<style scoped>\n",
       "  .ansiout {\n",
       "    display: block;\n",
       "    unicode-bidi: embed;\n",
       "    white-space: pre-wrap;\n",
       "    word-wrap: break-word;\n",
       "    word-break: break-all;\n",
       "    font-family: \"Source Code Pro\", \"Menlo\", monospace;;\n",
       "    font-size: 13px;\n",
       "    color: #555;\n",
       "    margin-left: 4px;\n",
       "    line-height: 19px;\n",
       "  }\n",
       "</style>\n",
       "<div class=\"ansiout\"></div>"
      ]
     },
     "metadata": {
      "application/vnd.databricks.v1+output": {
       "addedWidgets": {},
       "arguments": {},
       "data": "<div class=\"ansiout\"></div>",
       "datasetInfos": [],
       "metadata": {},
       "removedWidgets": [],
       "type": "html"
      }
     },
     "output_type": "display_data"
    }
   ],
   "source": [
    "import requests"
   ]
  },
  {
   "cell_type": "code",
   "execution_count": null,
   "metadata": {
    "application/vnd.databricks.v1+cell": {
     "inputWidgets": {},
     "nuid": "c11bdaa1-339c-4000-9d1f-ba45307a18e6",
     "showTitle": false,
     "title": ""
    }
   },
   "outputs": [
    {
     "data": {
      "text/html": [
       "<style scoped>\n",
       "  .ansiout {\n",
       "    display: block;\n",
       "    unicode-bidi: embed;\n",
       "    white-space: pre-wrap;\n",
       "    word-wrap: break-word;\n",
       "    word-break: break-all;\n",
       "    font-family: \"Source Code Pro\", \"Menlo\", monospace;;\n",
       "    font-size: 13px;\n",
       "    color: #555;\n",
       "    margin-left: 4px;\n",
       "    line-height: 19px;\n",
       "  }\n",
       "</style>\n",
       "<div class=\"ansiout\"></div>"
      ]
     },
     "metadata": {
      "application/vnd.databricks.v1+output": {
       "addedWidgets": {},
       "arguments": {},
       "data": "<div class=\"ansiout\"></div>",
       "datasetInfos": [],
       "metadata": {},
       "removedWidgets": [],
       "type": "html"
      }
     },
     "output_type": "display_data"
    }
   ],
   "source": [
    "file = '2021-01-13-0.json.gz'"
   ]
  },
  {
   "cell_type": "code",
   "execution_count": null,
   "metadata": {
    "application/vnd.databricks.v1+cell": {
     "inputWidgets": {},
     "nuid": "ba81eb58-f95a-43a4-a56a-a161818a3cfe",
     "showTitle": false,
     "title": ""
    }
   },
   "outputs": [
    {
     "data": {
      "text/html": [
       "<style scoped>\n",
       "  .ansiout {\n",
       "    display: block;\n",
       "    unicode-bidi: embed;\n",
       "    white-space: pre-wrap;\n",
       "    word-wrap: break-word;\n",
       "    word-break: break-all;\n",
       "    font-family: \"Source Code Pro\", \"Menlo\", monospace;;\n",
       "    font-size: 13px;\n",
       "    color: #555;\n",
       "    margin-left: 4px;\n",
       "    line-height: 19px;\n",
       "  }\n",
       "</style>\n",
       "<div class=\"ansiout\"></div>"
      ]
     },
     "metadata": {
      "application/vnd.databricks.v1+output": {
       "addedWidgets": {},
       "arguments": {},
       "data": "<div class=\"ansiout\"></div>",
       "datasetInfos": [],
       "metadata": {},
       "removedWidgets": [],
       "type": "html"
      }
     },
     "output_type": "display_data"
    }
   ],
   "source": [
    "res = requests.get(f'https://data.gharchive.org/{file}')"
   ]
  },
  {
   "cell_type": "markdown",
   "metadata": {
    "application/vnd.databricks.v1+cell": {
     "inputWidgets": {},
     "nuid": "119c0653-c0cd-45b8-a1c0-677d7f1fc583",
     "showTitle": false,
     "title": ""
    }
   },
   "source": [
    "* Uploading the file to s3."
   ]
  },
  {
   "cell_type": "code",
   "execution_count": null,
   "metadata": {
    "application/vnd.databricks.v1+cell": {
     "inputWidgets": {},
     "nuid": "a9adf08e-8b38-41f8-962a-31d2fc4804d4",
     "showTitle": false,
     "title": ""
    }
   },
   "outputs": [
    {
     "data": {
      "text/html": [
       "<style scoped>\n",
       "  .ansiout {\n",
       "    display: block;\n",
       "    unicode-bidi: embed;\n",
       "    white-space: pre-wrap;\n",
       "    word-wrap: break-word;\n",
       "    word-break: break-all;\n",
       "    font-family: \"Source Code Pro\", \"Menlo\", monospace;;\n",
       "    font-size: 13px;\n",
       "    color: #555;\n",
       "    margin-left: 4px;\n",
       "    line-height: 19px;\n",
       "  }\n",
       "</style>\n",
       "<div class=\"ansiout\"></div>"
      ]
     },
     "metadata": {
      "application/vnd.databricks.v1+output": {
       "addedWidgets": {},
       "arguments": {},
       "data": "<div class=\"ansiout\"></div>",
       "datasetInfos": [],
       "metadata": {},
       "removedWidgets": [],
       "type": "html"
      }
     },
     "output_type": "display_data"
    }
   ],
   "source": [
    "import boto3"
   ]
  },
  {
   "cell_type": "code",
   "execution_count": null,
   "metadata": {
    "application/vnd.databricks.v1+cell": {
     "inputWidgets": {},
     "nuid": "712a5e24-413a-4e59-8760-ef77b301baa6",
     "showTitle": false,
     "title": ""
    }
   },
   "outputs": [
    {
     "data": {
      "text/html": [
       "<style scoped>\n",
       "  .ansiout {\n",
       "    display: block;\n",
       "    unicode-bidi: embed;\n",
       "    white-space: pre-wrap;\n",
       "    word-wrap: break-word;\n",
       "    word-break: break-all;\n",
       "    font-family: \"Source Code Pro\", \"Menlo\", monospace;;\n",
       "    font-size: 13px;\n",
       "    color: #555;\n",
       "    margin-left: 4px;\n",
       "    line-height: 19px;\n",
       "  }\n",
       "</style>\n",
       "<div class=\"ansiout\"></div>"
      ]
     },
     "metadata": {
      "application/vnd.databricks.v1+output": {
       "addedWidgets": {},
       "arguments": {},
       "data": "<div class=\"ansiout\"></div>",
       "datasetInfos": [],
       "metadata": {},
       "removedWidgets": [],
       "type": "html"
      }
     },
     "output_type": "display_data"
    }
   ],
   "source": [
    "s3_client = boto3.client('s3')"
   ]
  },
  {
   "cell_type": "code",
   "execution_count": null,
   "metadata": {
    "application/vnd.databricks.v1+cell": {
     "inputWidgets": {},
     "nuid": "3499860d-2ee9-4bde-aed4-7d234aecca54",
     "showTitle": false,
     "title": ""
    }
   },
   "outputs": [
    {
     "data": {
      "text/html": [
       "<style scoped>\n",
       "  .ansiout {\n",
       "    display: block;\n",
       "    unicode-bidi: embed;\n",
       "    white-space: pre-wrap;\n",
       "    word-wrap: break-word;\n",
       "    word-break: break-all;\n",
       "    font-family: \"Source Code Pro\", \"Menlo\", monospace;;\n",
       "    font-size: 13px;\n",
       "    color: #555;\n",
       "    margin-left: 4px;\n",
       "    line-height: 19px;\n",
       "  }\n",
       "</style>\n",
       "<div class=\"ansiout\">Out[6]: &#39;2021&#39;</div>"
      ]
     },
     "metadata": {
      "application/vnd.databricks.v1+output": {
       "addedWidgets": {},
       "arguments": {},
       "data": "<div class=\"ansiout\">Out[6]: &#39;2021&#39;</div>",
       "datasetInfos": [],
       "metadata": {},
       "removedWidgets": [],
       "type": "html"
      }
     },
     "output_type": "display_data"
    }
   ],
   "source": [
    "year = file[:4]\n",
    "year"
   ]
  },
  {
   "cell_type": "code",
   "execution_count": null,
   "metadata": {
    "application/vnd.databricks.v1+cell": {
     "inputWidgets": {},
     "nuid": "64bba92a-8145-4583-b755-36858669943c",
     "showTitle": false,
     "title": ""
    }
   },
   "outputs": [
    {
     "data": {
      "text/html": [
       "<style scoped>\n",
       "  .ansiout {\n",
       "    display: block;\n",
       "    unicode-bidi: embed;\n",
       "    white-space: pre-wrap;\n",
       "    word-wrap: break-word;\n",
       "    word-break: break-all;\n",
       "    font-family: \"Source Code Pro\", \"Menlo\", monospace;;\n",
       "    font-size: 13px;\n",
       "    color: #555;\n",
       "    margin-left: 4px;\n",
       "    line-height: 19px;\n",
       "  }\n",
       "</style>\n",
       "<div class=\"ansiout\">Out[7]: &#39;01&#39;</div>"
      ]
     },
     "metadata": {
      "application/vnd.databricks.v1+output": {
       "addedWidgets": {},
       "arguments": {},
       "data": "<div class=\"ansiout\">Out[7]: &#39;01&#39;</div>",
       "datasetInfos": [],
       "metadata": {},
       "removedWidgets": [],
       "type": "html"
      }
     },
     "output_type": "display_data"
    }
   ],
   "source": [
    "month = file[5:7]\n",
    "month"
   ]
  },
  {
   "cell_type": "code",
   "execution_count": null,
   "metadata": {
    "application/vnd.databricks.v1+cell": {
     "inputWidgets": {},
     "nuid": "aed353a8-b09f-4233-990f-ad69305424e3",
     "showTitle": false,
     "title": ""
    }
   },
   "outputs": [
    {
     "data": {
      "text/html": [
       "<style scoped>\n",
       "  .ansiout {\n",
       "    display: block;\n",
       "    unicode-bidi: embed;\n",
       "    white-space: pre-wrap;\n",
       "    word-wrap: break-word;\n",
       "    word-break: break-all;\n",
       "    font-family: \"Source Code Pro\", \"Menlo\", monospace;;\n",
       "    font-size: 13px;\n",
       "    color: #555;\n",
       "    margin-left: 4px;\n",
       "    line-height: 19px;\n",
       "  }\n",
       "</style>\n",
       "<div class=\"ansiout\">Out[8]: &#39;13&#39;</div>"
      ]
     },
     "metadata": {
      "application/vnd.databricks.v1+output": {
       "addedWidgets": {},
       "arguments": {},
       "data": "<div class=\"ansiout\">Out[8]: &#39;13&#39;</div>",
       "datasetInfos": [],
       "metadata": {},
       "removedWidgets": [],
       "type": "html"
      }
     },
     "output_type": "display_data"
    }
   ],
   "source": [
    "dayofmonth = file[8:10]\n",
    "dayofmonth"
   ]
  },
  {
   "cell_type": "code",
   "execution_count": null,
   "metadata": {
    "application/vnd.databricks.v1+cell": {
     "inputWidgets": {},
     "nuid": "5f6a43d4-163f-4fc8-85fa-d19bf524f6f4",
     "showTitle": false,
     "title": ""
    }
   },
   "outputs": [
    {
     "data": {
      "text/html": [
       "<style scoped>\n",
       "  .ansiout {\n",
       "    display: block;\n",
       "    unicode-bidi: embed;\n",
       "    white-space: pre-wrap;\n",
       "    word-wrap: break-word;\n",
       "    word-break: break-all;\n",
       "    font-family: \"Source Code Pro\", \"Menlo\", monospace;;\n",
       "    font-size: 13px;\n",
       "    color: #555;\n",
       "    margin-left: 4px;\n",
       "    line-height: 19px;\n",
       "  }\n",
       "</style>\n",
       "<div class=\"ansiout\"></div>"
      ]
     },
     "metadata": {
      "application/vnd.databricks.v1+output": {
       "addedWidgets": {},
       "arguments": {},
       "data": "<div class=\"ansiout\"></div>",
       "datasetInfos": [],
       "metadata": {},
       "removedWidgets": [],
       "type": "html"
      }
     },
     "output_type": "display_data"
    }
   ],
   "source": [
    "upload_res = s3_client.put_object(\n",
    "   Bucket='itv-github-db',\n",
    "   Key=f'streaming/landing/ghactivity/year={year}/month={month}/dayofmonth={dayofmonth}/{file}',\n",
    "   Body=res.content\n",
    ")"
   ]
  },
  {
   "cell_type": "code",
   "execution_count": null,
   "metadata": {
    "application/vnd.databricks.v1+cell": {
     "inputWidgets": {},
     "nuid": "d7d8a911-7f94-407c-a67f-9daaf3eed98d",
     "showTitle": false,
     "title": ""
    }
   },
   "outputs": [
    {
     "data": {
      "text/html": [
       "<style scoped>\n",
       "  .ansiout {\n",
       "    display: block;\n",
       "    unicode-bidi: embed;\n",
       "    white-space: pre-wrap;\n",
       "    word-wrap: break-word;\n",
       "    word-break: break-all;\n",
       "    font-family: \"Source Code Pro\", \"Menlo\", monospace;;\n",
       "    font-size: 13px;\n",
       "    color: #555;\n",
       "    margin-left: 4px;\n",
       "    line-height: 19px;\n",
       "  }\n",
       "</style>\n",
       "<div class=\"ansiout\">Out[10]: {&#39;ResponseMetadata&#39;: {&#39;RequestId&#39;: &#39;A4CR3XQ1769V7C83&#39;,\n",
       "  &#39;HostId&#39;: &#39;LKMYZIW/eVOCmsT6z+uko9ik1sT3TlGn38J03VcRyqaErtfrxjuwL3pFOctMqrpvcbFXKiRV7FI=&#39;,\n",
       "  &#39;HTTPStatusCode&#39;: 200,\n",
       "  &#39;HTTPHeaders&#39;: {&#39;x-amz-id-2&#39;: &#39;LKMYZIW/eVOCmsT6z+uko9ik1sT3TlGn38J03VcRyqaErtfrxjuwL3pFOctMqrpvcbFXKiRV7FI=&#39;,\n",
       "   &#39;x-amz-request-id&#39;: &#39;A4CR3XQ1769V7C83&#39;,\n",
       "   &#39;date&#39;: &#39;Mon, 09 Aug 2021 03:19:40 GMT&#39;,\n",
       "   &#39;etag&#39;: &#39;&#34;918b16997db1cf4bd8547b0611da6428&#34;&#39;,\n",
       "   &#39;server&#39;: &#39;AmazonS3&#39;,\n",
       "   &#39;content-length&#39;: &#39;0&#39;},\n",
       "  &#39;RetryAttempts&#39;: 0},\n",
       " &#39;ETag&#39;: &#39;&#34;918b16997db1cf4bd8547b0611da6428&#34;&#39;}</div>"
      ]
     },
     "metadata": {
      "application/vnd.databricks.v1+output": {
       "addedWidgets": {},
       "arguments": {},
       "data": "<div class=\"ansiout\">Out[10]: {&#39;ResponseMetadata&#39;: {&#39;RequestId&#39;: &#39;A4CR3XQ1769V7C83&#39;,\n  &#39;HostId&#39;: &#39;LKMYZIW/eVOCmsT6z+uko9ik1sT3TlGn38J03VcRyqaErtfrxjuwL3pFOctMqrpvcbFXKiRV7FI=&#39;,\n  &#39;HTTPStatusCode&#39;: 200,\n  &#39;HTTPHeaders&#39;: {&#39;x-amz-id-2&#39;: &#39;LKMYZIW/eVOCmsT6z+uko9ik1sT3TlGn38J03VcRyqaErtfrxjuwL3pFOctMqrpvcbFXKiRV7FI=&#39;,\n   &#39;x-amz-request-id&#39;: &#39;A4CR3XQ1769V7C83&#39;,\n   &#39;date&#39;: &#39;Mon, 09 Aug 2021 03:19:40 GMT&#39;,\n   &#39;etag&#39;: &#39;&#34;918b16997db1cf4bd8547b0611da6428&#34;&#39;,\n   &#39;server&#39;: &#39;AmazonS3&#39;,\n   &#39;content-length&#39;: &#39;0&#39;},\n  &#39;RetryAttempts&#39;: 0},\n &#39;ETag&#39;: &#39;&#34;918b16997db1cf4bd8547b0611da6428&#34;&#39;}</div>",
       "datasetInfos": [],
       "metadata": {},
       "removedWidgets": [],
       "type": "html"
      }
     },
     "output_type": "display_data"
    }
   ],
   "source": [
    "upload_res"
   ]
  },
  {
   "cell_type": "markdown",
   "metadata": {
    "application/vnd.databricks.v1+cell": {
     "inputWidgets": {},
     "nuid": "dc398295-906e-4206-a01b-24d807da14c4",
     "showTitle": false,
     "title": ""
    }
   },
   "source": [
    "* Validating whether the file is uploaded to s3 as object or not."
   ]
  },
  {
   "cell_type": "code",
   "execution_count": null,
   "metadata": {
    "application/vnd.databricks.v1+cell": {
     "inputWidgets": {},
     "nuid": "58657cab-f7b5-47e7-9f1b-fc57dfe44b6f",
     "showTitle": false,
     "title": ""
    }
   },
   "outputs": [
    {
     "data": {
      "text/html": [
       "<style scoped>\n",
       "  .table-result-container {\n",
       "    max-height: 300px;\n",
       "    overflow: auto;\n",
       "  }\n",
       "  table, th, td {\n",
       "    border: 1px solid black;\n",
       "    border-collapse: collapse;\n",
       "  }\n",
       "  th, td {\n",
       "    padding: 5px;\n",
       "  }\n",
       "  th {\n",
       "    text-align: left;\n",
       "  }\n",
       "</style><div class='table-result-container'><table class='table-result'><thead style='background-color: white'><tr><th>path</th><th>name</th><th>size</th></tr></thead><tbody><tr><td>dbfs:/mnt/itv-github-db/streaming/landing/ghactivity/year=2021/</td><td>year=2021/</td><td>0</td></tr></tbody></table></div>"
      ]
     },
     "metadata": {
      "application/vnd.databricks.v1+output": {
       "addedWidgets": {},
       "aggData": [],
       "aggError": "",
       "aggOverflow": false,
       "aggSchema": [],
       "aggSeriesLimitReached": false,
       "aggType": "",
       "arguments": {},
       "columnCustomDisplayInfos": {},
       "data": [
        [
         "dbfs:/mnt/itv-github-db/streaming/landing/ghactivity/year=2021/",
         "year=2021/",
         0
        ]
       ],
       "datasetInfos": [],
       "dbfsResultPath": null,
       "isJsonSchema": true,
       "metadata": {},
       "overflow": false,
       "plotOptions": {
        "customPlotOptions": {},
        "displayType": "table",
        "pivotAggregation": null,
        "pivotColumns": null,
        "xColumns": null,
        "yColumns": null
       },
       "removedWidgets": [],
       "schema": [
        {
         "metadata": "{}",
         "name": "path",
         "type": "\"string\""
        },
        {
         "metadata": "{}",
         "name": "name",
         "type": "\"string\""
        },
        {
         "metadata": "{}",
         "name": "size",
         "type": "\"long\""
        }
       ],
       "type": "table"
      }
     },
     "output_type": "display_data"
    }
   ],
   "source": [
    "%fs ls /mnt/itv-github-db/streaming/landing/ghactivity"
   ]
  },
  {
   "cell_type": "code",
   "execution_count": null,
   "metadata": {
    "application/vnd.databricks.v1+cell": {
     "inputWidgets": {},
     "nuid": "d6eef40c-6649-417f-8bb1-3fd9fecf23ec",
     "showTitle": false,
     "title": ""
    }
   },
   "outputs": [
    {
     "data": {
      "text/html": [
       "<style scoped>\n",
       "  .table-result-container {\n",
       "    max-height: 300px;\n",
       "    overflow: auto;\n",
       "  }\n",
       "  table, th, td {\n",
       "    border: 1px solid black;\n",
       "    border-collapse: collapse;\n",
       "  }\n",
       "  th, td {\n",
       "    padding: 5px;\n",
       "  }\n",
       "  th {\n",
       "    text-align: left;\n",
       "  }\n",
       "</style><div class='table-result-container'><table class='table-result'><thead style='background-color: white'><tr><th>path</th><th>name</th><th>size</th></tr></thead><tbody><tr><td>dbfs:/mnt/itv-github-db/streaming/landing/ghactivity/year=2021/month=01/dayofmonth=13/2021-01-13-0.json.gz</td><td>2021-01-13-0.json.gz</td><td>47825349</td></tr></tbody></table></div>"
      ]
     },
     "metadata": {
      "application/vnd.databricks.v1+output": {
       "addedWidgets": {},
       "aggData": [],
       "aggError": "",
       "aggOverflow": false,
       "aggSchema": [],
       "aggSeriesLimitReached": false,
       "aggType": "",
       "arguments": {},
       "columnCustomDisplayInfos": {},
       "data": [
        [
         "dbfs:/mnt/itv-github-db/streaming/landing/ghactivity/year=2021/month=01/dayofmonth=13/2021-01-13-0.json.gz",
         "2021-01-13-0.json.gz",
         47825349
        ]
       ],
       "datasetInfos": [],
       "dbfsResultPath": null,
       "isJsonSchema": true,
       "metadata": {},
       "overflow": false,
       "plotOptions": {
        "customPlotOptions": {},
        "displayType": "table",
        "pivotAggregation": null,
        "pivotColumns": null,
        "xColumns": null,
        "yColumns": null
       },
       "removedWidgets": [],
       "schema": [
        {
         "metadata": "{}",
         "name": "path",
         "type": "\"string\""
        },
        {
         "metadata": "{}",
         "name": "name",
         "type": "\"string\""
        },
        {
         "metadata": "{}",
         "name": "size",
         "type": "\"long\""
        }
       ],
       "type": "table"
      }
     },
     "output_type": "display_data"
    }
   ],
   "source": [
    "%fs ls /mnt/itv-github-db/streaming/landing/ghactivity/year=2021/month=01/dayofmonth=13"
   ]
  },
  {
   "cell_type": "markdown",
   "metadata": {
    "application/vnd.databricks.v1+cell": {
     "inputWidgets": {},
     "nuid": "a720ab5e-6939-468a-ab98-3138078cb392",
     "showTitle": false,
     "title": ""
    }
   },
   "source": [
    "* We can upload as many files as we want.\n",
    "* Let us upload files for all the hours of **2021-01-13**."
   ]
  },
  {
   "cell_type": "code",
   "execution_count": null,
   "metadata": {
    "application/vnd.databricks.v1+cell": {
     "inputWidgets": {},
     "nuid": "bb0c34ae-4cb4-46b2-a33c-1d90ea7b495d",
     "showTitle": false,
     "title": ""
    }
   },
   "outputs": [
    {
     "data": {
      "text/html": [
       "<style scoped>\n",
       "  .ansiout {\n",
       "    display: block;\n",
       "    unicode-bidi: embed;\n",
       "    white-space: pre-wrap;\n",
       "    word-wrap: break-word;\n",
       "    word-break: break-all;\n",
       "    font-family: \"Source Code Pro\", \"Menlo\", monospace;;\n",
       "    font-size: 13px;\n",
       "    color: #555;\n",
       "    margin-left: 4px;\n",
       "    line-height: 19px;\n",
       "  }\n",
       "</style>\n",
       "<div class=\"ansiout\"></div>"
      ]
     },
     "metadata": {
      "application/vnd.databricks.v1+output": {
       "addedWidgets": {},
       "arguments": {},
       "data": "<div class=\"ansiout\"></div>",
       "datasetInfos": [],
       "metadata": {},
       "removedWidgets": [],
       "type": "html"
      }
     },
     "output_type": "display_data"
    }
   ],
   "source": [
    "import requests\n",
    "import boto3\n",
    "\n",
    "def upload_gharchive_files_to_s3(file_name):\n",
    "  year = file_name[:4]\n",
    "  month = file_name[5:7]\n",
    "  dayofmonth = file_name[8:10]\n",
    "  res = requests.get(f'https://data.gharchive.org/{file_name}')\n",
    "  s3_client = boto3.client('s3')\n",
    "  upload_res = s3_client.put_object(\n",
    "    Bucket='itv-github-db',\n",
    "    Key=f'streaming/landing/ghactivity/year={year}/month={month}/dayofmonth={dayofmonth}/{file_name}',\n",
    "    Body=res.content\n",
    "  )"
   ]
  },
  {
   "cell_type": "code",
   "execution_count": null,
   "metadata": {
    "application/vnd.databricks.v1+cell": {
     "inputWidgets": {},
     "nuid": "4a9ddf16-5585-4fb4-bb7f-8a7d646faf8d",
     "showTitle": false,
     "title": ""
    }
   },
   "outputs": [
    {
     "data": {
      "text/html": [
       "<style scoped>\n",
       "  .ansiout {\n",
       "    display: block;\n",
       "    unicode-bidi: embed;\n",
       "    white-space: pre-wrap;\n",
       "    word-wrap: break-word;\n",
       "    word-break: break-all;\n",
       "    font-family: \"Source Code Pro\", \"Menlo\", monospace;;\n",
       "    font-size: 13px;\n",
       "    color: #555;\n",
       "    margin-left: 4px;\n",
       "    line-height: 19px;\n",
       "  }\n",
       "</style>\n",
       "<div class=\"ansiout\"></div>"
      ]
     },
     "metadata": {
      "application/vnd.databricks.v1+output": {
       "addedWidgets": {},
       "arguments": {},
       "data": "<div class=\"ansiout\"></div>",
       "datasetInfos": [],
       "metadata": {},
       "removedWidgets": [],
       "type": "html"
      }
     },
     "output_type": "display_data"
    }
   ],
   "source": [
    "for hour in range(1, 24):\n",
    "  upload_gharchive_files_to_s3(f'2021-01-13-{hour}.json.gz')"
   ]
  },
  {
   "cell_type": "code",
   "execution_count": null,
   "metadata": {
    "application/vnd.databricks.v1+cell": {
     "inputWidgets": {},
     "nuid": "20d298cf-cb60-4d19-9f6c-94fc40774e4c",
     "showTitle": false,
     "title": ""
    }
   },
   "outputs": [
    {
     "data": {
      "text/html": [
       "<style scoped>\n",
       "  .table-result-container {\n",
       "    max-height: 300px;\n",
       "    overflow: auto;\n",
       "  }\n",
       "  table, th, td {\n",
       "    border: 1px solid black;\n",
       "    border-collapse: collapse;\n",
       "  }\n",
       "  th, td {\n",
       "    padding: 5px;\n",
       "  }\n",
       "  th {\n",
       "    text-align: left;\n",
       "  }\n",
       "</style><div class='table-result-container'><table class='table-result'><thead style='background-color: white'><tr><th>path</th><th>name</th><th>size</th></tr></thead><tbody><tr><td>dbfs:/mnt/itv-github-db/streaming/landing/ghactivity/year=2021/month=01/dayofmonth=13/2021-01-13-0.json.gz</td><td>2021-01-13-0.json.gz</td><td>47825349</td></tr><tr><td>dbfs:/mnt/itv-github-db/streaming/landing/ghactivity/year=2021/month=01/dayofmonth=13/2021-01-13-1.json.gz</td><td>2021-01-13-1.json.gz</td><td>45560145</td></tr><tr><td>dbfs:/mnt/itv-github-db/streaming/landing/ghactivity/year=2021/month=01/dayofmonth=13/2021-01-13-10.json.gz</td><td>2021-01-13-10.json.gz</td><td>71293671</td></tr><tr><td>dbfs:/mnt/itv-github-db/streaming/landing/ghactivity/year=2021/month=01/dayofmonth=13/2021-01-13-11.json.gz</td><td>2021-01-13-11.json.gz</td><td>65318647</td></tr><tr><td>dbfs:/mnt/itv-github-db/streaming/landing/ghactivity/year=2021/month=01/dayofmonth=13/2021-01-13-12.json.gz</td><td>2021-01-13-12.json.gz</td><td>65044936</td></tr><tr><td>dbfs:/mnt/itv-github-db/streaming/landing/ghactivity/year=2021/month=01/dayofmonth=13/2021-01-13-13.json.gz</td><td>2021-01-13-13.json.gz</td><td>77894277</td></tr><tr><td>dbfs:/mnt/itv-github-db/streaming/landing/ghactivity/year=2021/month=01/dayofmonth=13/2021-01-13-14.json.gz</td><td>2021-01-13-14.json.gz</td><td>81246956</td></tr><tr><td>dbfs:/mnt/itv-github-db/streaming/landing/ghactivity/year=2021/month=01/dayofmonth=13/2021-01-13-15.json.gz</td><td>2021-01-13-15.json.gz</td><td>85821693</td></tr><tr><td>dbfs:/mnt/itv-github-db/streaming/landing/ghactivity/year=2021/month=01/dayofmonth=13/2021-01-13-16.json.gz</td><td>2021-01-13-16.json.gz</td><td>80773183</td></tr><tr><td>dbfs:/mnt/itv-github-db/streaming/landing/ghactivity/year=2021/month=01/dayofmonth=13/2021-01-13-17.json.gz</td><td>2021-01-13-17.json.gz</td><td>74211217</td></tr><tr><td>dbfs:/mnt/itv-github-db/streaming/landing/ghactivity/year=2021/month=01/dayofmonth=13/2021-01-13-18.json.gz</td><td>2021-01-13-18.json.gz</td><td>85334578</td></tr><tr><td>dbfs:/mnt/itv-github-db/streaming/landing/ghactivity/year=2021/month=01/dayofmonth=13/2021-01-13-19.json.gz</td><td>2021-01-13-19.json.gz</td><td>72766696</td></tr><tr><td>dbfs:/mnt/itv-github-db/streaming/landing/ghactivity/year=2021/month=01/dayofmonth=13/2021-01-13-2.json.gz</td><td>2021-01-13-2.json.gz</td><td>44467455</td></tr><tr><td>dbfs:/mnt/itv-github-db/streaming/landing/ghactivity/year=2021/month=01/dayofmonth=13/2021-01-13-20.json.gz</td><td>2021-01-13-20.json.gz</td><td>68686332</td></tr><tr><td>dbfs:/mnt/itv-github-db/streaming/landing/ghactivity/year=2021/month=01/dayofmonth=13/2021-01-13-21.json.gz</td><td>2021-01-13-21.json.gz</td><td>67046149</td></tr><tr><td>dbfs:/mnt/itv-github-db/streaming/landing/ghactivity/year=2021/month=01/dayofmonth=13/2021-01-13-22.json.gz</td><td>2021-01-13-22.json.gz</td><td>61659516</td></tr><tr><td>dbfs:/mnt/itv-github-db/streaming/landing/ghactivity/year=2021/month=01/dayofmonth=13/2021-01-13-23.json.gz</td><td>2021-01-13-23.json.gz</td><td>53437943</td></tr><tr><td>dbfs:/mnt/itv-github-db/streaming/landing/ghactivity/year=2021/month=01/dayofmonth=13/2021-01-13-3.json.gz</td><td>2021-01-13-3.json.gz</td><td>42314408</td></tr><tr><td>dbfs:/mnt/itv-github-db/streaming/landing/ghactivity/year=2021/month=01/dayofmonth=13/2021-01-13-4.json.gz</td><td>2021-01-13-4.json.gz</td><td>43620238</td></tr><tr><td>dbfs:/mnt/itv-github-db/streaming/landing/ghactivity/year=2021/month=01/dayofmonth=13/2021-01-13-5.json.gz</td><td>2021-01-13-5.json.gz</td><td>52649777</td></tr><tr><td>dbfs:/mnt/itv-github-db/streaming/landing/ghactivity/year=2021/month=01/dayofmonth=13/2021-01-13-6.json.gz</td><td>2021-01-13-6.json.gz</td><td>58672363</td></tr><tr><td>dbfs:/mnt/itv-github-db/streaming/landing/ghactivity/year=2021/month=01/dayofmonth=13/2021-01-13-7.json.gz</td><td>2021-01-13-7.json.gz</td><td>62523629</td></tr><tr><td>dbfs:/mnt/itv-github-db/streaming/landing/ghactivity/year=2021/month=01/dayofmonth=13/2021-01-13-8.json.gz</td><td>2021-01-13-8.json.gz</td><td>66034142</td></tr><tr><td>dbfs:/mnt/itv-github-db/streaming/landing/ghactivity/year=2021/month=01/dayofmonth=13/2021-01-13-9.json.gz</td><td>2021-01-13-9.json.gz</td><td>74438431</td></tr></tbody></table></div>"
      ]
     },
     "metadata": {
      "application/vnd.databricks.v1+output": {
       "addedWidgets": {},
       "aggData": [],
       "aggError": "",
       "aggOverflow": false,
       "aggSchema": [],
       "aggSeriesLimitReached": false,
       "aggType": "",
       "arguments": {},
       "columnCustomDisplayInfos": {},
       "data": [
        [
         "dbfs:/mnt/itv-github-db/streaming/landing/ghactivity/year=2021/month=01/dayofmonth=13/2021-01-13-0.json.gz",
         "2021-01-13-0.json.gz",
         47825349
        ],
        [
         "dbfs:/mnt/itv-github-db/streaming/landing/ghactivity/year=2021/month=01/dayofmonth=13/2021-01-13-1.json.gz",
         "2021-01-13-1.json.gz",
         45560145
        ],
        [
         "dbfs:/mnt/itv-github-db/streaming/landing/ghactivity/year=2021/month=01/dayofmonth=13/2021-01-13-10.json.gz",
         "2021-01-13-10.json.gz",
         71293671
        ],
        [
         "dbfs:/mnt/itv-github-db/streaming/landing/ghactivity/year=2021/month=01/dayofmonth=13/2021-01-13-11.json.gz",
         "2021-01-13-11.json.gz",
         65318647
        ],
        [
         "dbfs:/mnt/itv-github-db/streaming/landing/ghactivity/year=2021/month=01/dayofmonth=13/2021-01-13-12.json.gz",
         "2021-01-13-12.json.gz",
         65044936
        ],
        [
         "dbfs:/mnt/itv-github-db/streaming/landing/ghactivity/year=2021/month=01/dayofmonth=13/2021-01-13-13.json.gz",
         "2021-01-13-13.json.gz",
         77894277
        ],
        [
         "dbfs:/mnt/itv-github-db/streaming/landing/ghactivity/year=2021/month=01/dayofmonth=13/2021-01-13-14.json.gz",
         "2021-01-13-14.json.gz",
         81246956
        ],
        [
         "dbfs:/mnt/itv-github-db/streaming/landing/ghactivity/year=2021/month=01/dayofmonth=13/2021-01-13-15.json.gz",
         "2021-01-13-15.json.gz",
         85821693
        ],
        [
         "dbfs:/mnt/itv-github-db/streaming/landing/ghactivity/year=2021/month=01/dayofmonth=13/2021-01-13-16.json.gz",
         "2021-01-13-16.json.gz",
         80773183
        ],
        [
         "dbfs:/mnt/itv-github-db/streaming/landing/ghactivity/year=2021/month=01/dayofmonth=13/2021-01-13-17.json.gz",
         "2021-01-13-17.json.gz",
         74211217
        ],
        [
         "dbfs:/mnt/itv-github-db/streaming/landing/ghactivity/year=2021/month=01/dayofmonth=13/2021-01-13-18.json.gz",
         "2021-01-13-18.json.gz",
         85334578
        ],
        [
         "dbfs:/mnt/itv-github-db/streaming/landing/ghactivity/year=2021/month=01/dayofmonth=13/2021-01-13-19.json.gz",
         "2021-01-13-19.json.gz",
         72766696
        ],
        [
         "dbfs:/mnt/itv-github-db/streaming/landing/ghactivity/year=2021/month=01/dayofmonth=13/2021-01-13-2.json.gz",
         "2021-01-13-2.json.gz",
         44467455
        ],
        [
         "dbfs:/mnt/itv-github-db/streaming/landing/ghactivity/year=2021/month=01/dayofmonth=13/2021-01-13-20.json.gz",
         "2021-01-13-20.json.gz",
         68686332
        ],
        [
         "dbfs:/mnt/itv-github-db/streaming/landing/ghactivity/year=2021/month=01/dayofmonth=13/2021-01-13-21.json.gz",
         "2021-01-13-21.json.gz",
         67046149
        ],
        [
         "dbfs:/mnt/itv-github-db/streaming/landing/ghactivity/year=2021/month=01/dayofmonth=13/2021-01-13-22.json.gz",
         "2021-01-13-22.json.gz",
         61659516
        ],
        [
         "dbfs:/mnt/itv-github-db/streaming/landing/ghactivity/year=2021/month=01/dayofmonth=13/2021-01-13-23.json.gz",
         "2021-01-13-23.json.gz",
         53437943
        ],
        [
         "dbfs:/mnt/itv-github-db/streaming/landing/ghactivity/year=2021/month=01/dayofmonth=13/2021-01-13-3.json.gz",
         "2021-01-13-3.json.gz",
         42314408
        ],
        [
         "dbfs:/mnt/itv-github-db/streaming/landing/ghactivity/year=2021/month=01/dayofmonth=13/2021-01-13-4.json.gz",
         "2021-01-13-4.json.gz",
         43620238
        ],
        [
         "dbfs:/mnt/itv-github-db/streaming/landing/ghactivity/year=2021/month=01/dayofmonth=13/2021-01-13-5.json.gz",
         "2021-01-13-5.json.gz",
         52649777
        ],
        [
         "dbfs:/mnt/itv-github-db/streaming/landing/ghactivity/year=2021/month=01/dayofmonth=13/2021-01-13-6.json.gz",
         "2021-01-13-6.json.gz",
         58672363
        ],
        [
         "dbfs:/mnt/itv-github-db/streaming/landing/ghactivity/year=2021/month=01/dayofmonth=13/2021-01-13-7.json.gz",
         "2021-01-13-7.json.gz",
         62523629
        ],
        [
         "dbfs:/mnt/itv-github-db/streaming/landing/ghactivity/year=2021/month=01/dayofmonth=13/2021-01-13-8.json.gz",
         "2021-01-13-8.json.gz",
         66034142
        ],
        [
         "dbfs:/mnt/itv-github-db/streaming/landing/ghactivity/year=2021/month=01/dayofmonth=13/2021-01-13-9.json.gz",
         "2021-01-13-9.json.gz",
         74438431
        ]
       ],
       "datasetInfos": [],
       "dbfsResultPath": null,
       "isJsonSchema": true,
       "metadata": {},
       "overflow": false,
       "plotOptions": {
        "customPlotOptions": {},
        "displayType": "table",
        "pivotAggregation": null,
        "pivotColumns": null,
        "xColumns": null,
        "yColumns": null
       },
       "removedWidgets": [],
       "schema": [
        {
         "metadata": "{}",
         "name": "path",
         "type": "\"string\""
        },
        {
         "metadata": "{}",
         "name": "name",
         "type": "\"string\""
        },
        {
         "metadata": "{}",
         "name": "size",
         "type": "\"long\""
        }
       ],
       "type": "table"
      }
     },
     "output_type": "display_data"
    }
   ],
   "source": [
    "%fs ls /mnt/itv-github-db/streaming/landing/ghactivity/year=2021/month=01/dayofmonth=13"
   ]
  },
  {
   "cell_type": "code",
   "execution_count": null,
   "metadata": {
    "application/vnd.databricks.v1+cell": {
     "inputWidgets": {},
     "nuid": "5534c89f-d9b0-4a1f-8fd6-5d31ffe9e6fe",
     "showTitle": false,
     "title": ""
    }
   },
   "outputs": [],
   "source": []
  }
 ],
 "metadata": {
  "application/vnd.databricks.v1+notebook": {
   "dashboards": [],
   "language": "python",
   "notebookMetadata": {
    "pythonIndentUnit": 2
   },
   "notebookName": "05 Upload GHArchive Files to s3",
   "notebookOrigID": 1228141849143114,
   "widgets": {}
  },
  "kernelspec": {
   "display_name": "Python 3",
   "language": "python",
   "name": "python3"
  },
  "language_info": {
   "codemirror_mode": {
    "name": "ipython",
    "version": 3
   },
   "file_extension": ".py",
   "mimetype": "text/x-python",
   "name": "python",
   "nbconvert_exporter": "python",
   "pygments_lexer": "ipython3",
   "version": "3.6.12"
  }
 },
 "nbformat": 4,
 "nbformat_minor": 4
}
