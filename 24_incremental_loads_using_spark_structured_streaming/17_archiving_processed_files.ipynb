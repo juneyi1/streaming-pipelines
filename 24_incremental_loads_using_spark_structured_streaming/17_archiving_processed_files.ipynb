{
 "cells": [
  {
   "cell_type": "markdown",
   "metadata": {},
   "source": [
    "##  Archiving Processed Files\n",
    "\n",
    "Let us go through the details about reading and writing data to target location leveraging Spark Structured Streaming APIs while dealing with processed files.\n",
    "\n",
    "* As part of data pipelines, we typically delete the files or archive the files which are already processed.\n",
    "* As part of the archival process, typically we move the files to a different location using some low cost storage.\n",
    "* Spark Structured Streaming APIs support both `delete` as well as `archive` using `cleanSource` option.\n",
    "* By default `cleanSource` is turned off. We can set it to either `delete` or `archive`.\n",
    "* When we use `archive`, we also need to set the archiving folder using `sourceArchiveDir`. We need to pass the fully qualified path of the archive folder to `sourceArchiveDir`."
   ]
  },
  {
   "cell_type": "code",
   "execution_count": 1,
   "metadata": {},
   "outputs": [],
   "source": [
    "from pyspark.sql import SparkSession\n",
    "\n",
    "import getpass\n",
    "username = getpass.getuser()\n",
    "\n",
    "spark = SparkSession. \\\n",
    "    builder. \\\n",
    "    config('spark.ui.port', '0'). \\\n",
    "    config('spark.sql.warehouse.dir', f'/user/{username}/warehouse'). \\\n",
    "    enableHiveSupport(). \\\n",
    "    appName(f'{username} | Python - Incremental Loads using Spark Structured Streaming'). \\\n",
    "    master('yarn'). \\\n",
    "    getOrCreate()"
   ]
  },
  {
   "cell_type": "code",
   "execution_count": 2,
   "metadata": {
    "application/vnd.databricks.v1+cell": {
     "inputWidgets": {},
     "nuid": "f3db9a4b-db22-406b-8c7c-67e2db02c0e3",
     "showTitle": false,
     "title": ""
    }
   },
   "outputs": [],
   "source": [
    "spark.conf.set('spark.sql.shuffle.partitions', '8')\n",
    "spark.conf.set('spark.sql.streaming.schemaInference', 'true')"
   ]
  },
  {
   "cell_type": "code",
   "execution_count": 3,
   "metadata": {},
   "outputs": [],
   "source": [
    "ghactivity_df = spark. \\\n",
    "    readStream. \\\n",
    "    format('json'). \\\n",
    "    option('maxFilesPerTrigger', 8). \\\n",
    "    option('cleanSource', 'archive'). \\\n",
    "    option('sourceArchiveDir', f'/user/{username}/github/streaming/landing/archive/ghactivity/'). \\\n",
    "    load(f'/user/{username}/github/streaming/landing/ghactivity/')"
   ]
  },
  {
   "cell_type": "code",
   "execution_count": 4,
   "metadata": {},
   "outputs": [],
   "source": [
    "from pyspark.sql.functions import year, month, dayofmonth, lpad"
   ]
  },
  {
   "cell_type": "code",
   "execution_count": 5,
   "metadata": {},
   "outputs": [],
   "source": [
    "ghactivity_df = ghactivity_df. \\\n",
    "    withColumn('created_year', year('created_at')). \\\n",
    "    withColumn('created_month', lpad(month('created_at'), 2, '0')). \\\n",
    "    withColumn('created_dayofmonth', lpad(dayofmonth('created_at'), 2, '0'))"
   ]
  },
  {
   "cell_type": "code",
   "execution_count": 6,
   "metadata": {},
   "outputs": [
    {
     "data": {
      "text/plain": [
       "<pyspark.sql.streaming.StreamingQuery at 0x7fa3d8e804e0>"
      ]
     },
     "execution_count": 6,
     "metadata": {},
     "output_type": "execute_result"
    }
   ],
   "source": [
    "ghactivity_df. \\\n",
    "    writeStream. \\\n",
    "    partitionBy('created_year', 'created_month', 'created_dayofmonth'). \\\n",
    "    format('parquet'). \\\n",
    "    option(\"checkpointLocation\", f\"/user/{username}/github/streaming/bronze/checkpoint/ghactivity\"). \\\n",
    "    option(\"path\", f\"/user/{username}/github/streaming/bronze/data/ghactivity\"). \\\n",
    "    trigger(processingTime='120 seconds'). \\\n",
    "    start()\n",
    "\n",
    "# If the job run is completed before 120 seconds, it will wait up to 120 seconds for the next run.\n",
    "# If the job run takes more than 120 seconds to complete, then next run will start immediately."
   ]
  },
  {
   "cell_type": "markdown",
   "metadata": {
    "application/vnd.databricks.v1+cell": {
     "inputWidgets": {},
     "nuid": "35a8fc0d-cd29-4c3d-aed2-9d4712ba5731",
     "showTitle": false,
     "title": ""
    }
   },
   "source": [
    "* Validating the checkpoint location. We can see multiple folders. These folders will have all the files that are required for the overhead of the checkpoint."
   ]
  },
  {
   "cell_type": "code",
   "execution_count": 7,
   "metadata": {
    "application/vnd.databricks.v1+cell": {
     "inputWidgets": {},
     "nuid": "a09e7932-76d4-4f4b-ad1c-2c0d3f66369b",
     "showTitle": false,
     "title": ""
    }
   },
   "outputs": [
    {
     "name": "stdout",
     "output_type": "stream",
     "text": [
      "Found 4 items\n",
      "drwxr-xr-x   - itv007304 supergroup          0 2023-07-29 00:22 /user/itv007304/github/streaming/bronze/checkpoint/ghactivity/commits\n",
      "-rw-r--r--   3 itv007304 supergroup         45 2023-07-14 12:17 /user/itv007304/github/streaming/bronze/checkpoint/ghactivity/metadata\n",
      "drwxr-xr-x   - itv007304 supergroup          0 2023-08-02 15:02 /user/itv007304/github/streaming/bronze/checkpoint/ghactivity/offsets\n",
      "drwxr-xr-x   - itv007304 supergroup          0 2023-07-14 12:17 /user/itv007304/github/streaming/bronze/checkpoint/ghactivity/sources\n"
     ]
    }
   ],
   "source": [
    "!hdfs dfs -ls /user/${USER}/github/streaming/bronze/checkpoint/ghactivity"
   ]
  },
  {
   "cell_type": "code",
   "execution_count": 15,
   "metadata": {},
   "outputs": [
    {
     "name": "stdout",
     "output_type": "stream",
     "text": [
      "drwxr-xr-x   - itv007304 supergroup          0 2023-08-02 15:06 /user/itv007304/github/streaming/bronze/checkpoint/ghactivity/sources/0\n",
      "-rw-r--r--   3 itv007304 supergroup       4432 2023-07-14 12:17 /user/itv007304/github/streaming/bronze/checkpoint/ghactivity/sources/0/0\n",
      "-rw-r--r--   3 itv007304 supergroup       4432 2023-07-25 10:27 /user/itv007304/github/streaming/bronze/checkpoint/ghactivity/sources/0/1\n",
      "-rw-r--r--   3 itv007304 supergroup       1482 2023-07-29 00:15 /user/itv007304/github/streaming/bronze/checkpoint/ghactivity/sources/0/2\n",
      "-rw-r--r--   3 itv007304 supergroup       1480 2023-07-29 00:18 /user/itv007304/github/streaming/bronze/checkpoint/ghactivity/sources/0/3\n",
      "-rw-r--r--   3 itv007304 supergroup       1474 2023-07-29 00:20 /user/itv007304/github/streaming/bronze/checkpoint/ghactivity/sources/0/4\n",
      "-rw-r--r--   3 itv007304 supergroup       1474 2023-08-02 15:02 /user/itv007304/github/streaming/bronze/checkpoint/ghactivity/sources/0/5\n",
      "-rw-r--r--   3 itv007304 supergroup       1480 2023-08-02 15:04 /user/itv007304/github/streaming/bronze/checkpoint/ghactivity/sources/0/6\n",
      "-rw-r--r--   3 itv007304 supergroup       1482 2023-08-02 15:06 /user/itv007304/github/streaming/bronze/checkpoint/ghactivity/sources/0/7\n"
     ]
    }
   ],
   "source": [
    "!hdfs dfs -ls -R /user/${USER}/github/streaming/bronze/checkpoint/ghactivity/sources"
   ]
  },
  {
   "cell_type": "code",
   "execution_count": 10,
   "metadata": {},
   "outputs": [
    {
     "name": "stdout",
     "output_type": "stream",
     "text": [
      "v1\n",
      "{\"path\":\"hdfs://m01.itversity.com:9000/user/itv007304/github/streaming/landing/ghactivity/year=2023/month=07/dayofmonth=14/2023-07-14-0.json.gz\",\"timestamp\":1691001538280,\"batchId\":5}\n",
      "{\"path\":\"hdfs://m01.itversity.com:9000/user/itv007304/github/streaming/landing/ghactivity/year=2023/month=07/dayofmonth=14/2023-07-14-1.json.gz\",\"timestamp\":1691001548303,\"batchId\":5}\n",
      "{\"path\":\"hdfs://m01.itversity.com:9000/user/itv007304/github/streaming/landing/ghactivity/year=2023/month=07/dayofmonth=14/2023-07-14-2.json.gz\",\"timestamp\":1691001558519,\"batchId\":5}\n",
      "{\"path\":\"hdfs://m01.itversity.com:9000/user/itv007304/github/streaming/landing/ghactivity/year=2023/month=07/dayofmonth=14/2023-07-14-3.json.gz\",\"timestamp\":1691001567978,\"batchId\":5}\n",
      "{\"path\":\"hdfs://m01.itversity.com:9000/user/itv007304/github/streaming/landing/ghactivity/year=2023/month=07/dayofmonth=14/2023-07-14-4.json.gz\",\"timestamp\":1691001576935,\"batchId\":5}\n",
      "{\"path\":\"hdfs://m01.itversity.com:9000/user/itv007304/github/streaming/landing/ghactivity/year=2023/month=07/dayofmonth=14/2023-07-14-5.json.gz\",\"timestamp\":1691001586811,\"batchId\":5}\n",
      "{\"path\":\"hdfs://m01.itversity.com:9000/user/itv007304/github/streaming/landing/ghactivity/year=2023/month=07/dayofmonth=14/2023-07-14-6.json.gz\",\"timestamp\":1691001597583,\"batchId\":5}\n",
      "{\"path\":\"hdfs://m01.itversity.com:9000/user/itv007304/github/streaming/landing/ghactivity/year=2023/month=07/dayofmonth=14/2023-07-14-7.json.gz\",\"timestamp\":1691001609729,\"batchId\":5}"
     ]
    }
   ],
   "source": [
    "!hdfs dfs -cat /user/${USER}/github/streaming/bronze/checkpoint/ghactivity/sources/0/5"
   ]
  },
  {
   "cell_type": "code",
   "execution_count": 12,
   "metadata": {},
   "outputs": [
    {
     "name": "stdout",
     "output_type": "stream",
     "text": [
      "v1\n",
      "{\"path\":\"hdfs://m01.itversity.com:9000/user/itv007304/github/streaming/landing/ghactivity/year=2023/month=07/dayofmonth=14/2023-07-14-8.json.gz\",\"timestamp\":1691001628861,\"batchId\":6}\n",
      "{\"path\":\"hdfs://m01.itversity.com:9000/user/itv007304/github/streaming/landing/ghactivity/year=2023/month=07/dayofmonth=14/2023-07-14-9.json.gz\",\"timestamp\":1691001642875,\"batchId\":6}\n",
      "{\"path\":\"hdfs://m01.itversity.com:9000/user/itv007304/github/streaming/landing/ghactivity/year=2023/month=07/dayofmonth=14/2023-07-14-10.json.gz\",\"timestamp\":1691001655772,\"batchId\":6}\n",
      "{\"path\":\"hdfs://m01.itversity.com:9000/user/itv007304/github/streaming/landing/ghactivity/year=2023/month=07/dayofmonth=14/2023-07-14-11.json.gz\",\"timestamp\":1691001667237,\"batchId\":6}\n",
      "{\"path\":\"hdfs://m01.itversity.com:9000/user/itv007304/github/streaming/landing/ghactivity/year=2023/month=07/dayofmonth=14/2023-07-14-12.json.gz\",\"timestamp\":1691001679969,\"batchId\":6}\n",
      "{\"path\":\"hdfs://m01.itversity.com:9000/user/itv007304/github/streaming/landing/ghactivity/year=2023/month=07/dayofmonth=14/2023-07-14-13.json.gz\",\"timestamp\":1691001696403,\"batchId\":6}\n",
      "{\"path\":\"hdfs://m01.itversity.com:9000/user/itv007304/github/streaming/landing/ghactivity/year=2023/month=07/dayofmonth=14/2023-07-14-14.json.gz\",\"timestamp\":1691001712845,\"batchId\":6}\n",
      "{\"path\":\"hdfs://m01.itversity.com:9000/user/itv007304/github/streaming/landing/ghactivity/year=2023/month=07/dayofmonth=14/2023-07-14-15.json.gz\",\"timestamp\":1691001726713,\"batchId\":6}"
     ]
    }
   ],
   "source": [
    "!hdfs dfs -cat /user/${USER}/github/streaming/bronze/checkpoint/ghactivity/sources/0/6"
   ]
  },
  {
   "cell_type": "code",
   "execution_count": 16,
   "metadata": {},
   "outputs": [
    {
     "name": "stdout",
     "output_type": "stream",
     "text": [
      "Found 8 items\n",
      "-rw-r--r--   3 itv007304 supergroup        471 2023-07-14 12:17 /user/itv007304/github/streaming/bronze/checkpoint/ghactivity/offsets/0\n",
      "-rw-r--r--   3 itv007304 supergroup        471 2023-07-25 10:27 /user/itv007304/github/streaming/bronze/checkpoint/ghactivity/offsets/1\n",
      "-rw-r--r--   3 itv007304 supergroup        471 2023-07-29 00:15 /user/itv007304/github/streaming/bronze/checkpoint/ghactivity/offsets/2\n",
      "-rw-r--r--   3 itv007304 supergroup        471 2023-07-29 00:18 /user/itv007304/github/streaming/bronze/checkpoint/ghactivity/offsets/3\n",
      "-rw-r--r--   3 itv007304 supergroup        471 2023-07-29 00:20 /user/itv007304/github/streaming/bronze/checkpoint/ghactivity/offsets/4\n",
      "-rw-r--r--   3 itv007304 supergroup        471 2023-08-02 15:02 /user/itv007304/github/streaming/bronze/checkpoint/ghactivity/offsets/5\n",
      "-rw-r--r--   3 itv007304 supergroup        471 2023-08-02 15:04 /user/itv007304/github/streaming/bronze/checkpoint/ghactivity/offsets/6\n",
      "-rw-r--r--   3 itv007304 supergroup        471 2023-08-02 15:06 /user/itv007304/github/streaming/bronze/checkpoint/ghactivity/offsets/7\n"
     ]
    }
   ],
   "source": [
    "!hdfs dfs -ls /user/${USER}/github/streaming/bronze/checkpoint/ghactivity/offsets"
   ]
  },
  {
   "cell_type": "code",
   "execution_count": 17,
   "metadata": {},
   "outputs": [
    {
     "name": "stdout",
     "output_type": "stream",
     "text": [
      "v1\n",
      "{\"batchWatermarkMs\":0,\"batchTimestampMs\":1691002921669,\"conf\":{\"spark.sql.streaming.stateStore.providerClass\":\"org.apache.spark.sql.execution.streaming.state.HDFSBackedStateStoreProvider\",\"spark.sql.streaming.join.stateFormatVersion\":\"2\",\"spark.sql.streaming.flatMapGroupsWithState.stateFormatVersion\":\"2\",\"spark.sql.streaming.multipleWatermarkPolicy\":\"min\",\"spark.sql.streaming.aggregation.stateFormatVersion\":\"2\",\"spark.sql.shuffle.partitions\":\"16\"}}\n",
      "{\"logOffset\":5}"
     ]
    }
   ],
   "source": [
    "!hdfs dfs -cat /user/${USER}/github/streaming/bronze/checkpoint/ghactivity/offsets/5"
   ]
  },
  {
   "cell_type": "code",
   "execution_count": null,
   "metadata": {},
   "outputs": [],
   "source": [
    "!hdfs dfs -cat /user/${USER}/github/streaming/bronze/checkpoint/ghactivity/offsets/3"
   ]
  },
  {
   "cell_type": "markdown",
   "metadata": {
    "application/vnd.databricks.v1+cell": {
     "inputWidgets": {},
     "nuid": "fee6dc7e-3083-4c9b-9096-c717748c8d0d",
     "showTitle": false,
     "title": ""
    }
   },
   "source": [
    "* Validating the data location. We should see the files in this location as we are just copying the files in the parquet file format."
   ]
  },
  {
   "cell_type": "code",
   "execution_count": 18,
   "metadata": {
    "application/vnd.databricks.v1+cell": {
     "inputWidgets": {},
     "nuid": "4a037abb-7b08-474a-ad0a-ce9062e532dd",
     "showTitle": false,
     "title": ""
    }
   },
   "outputs": [
    {
     "name": "stdout",
     "output_type": "stream",
     "text": [
      "Found 4 items\n",
      "drwxr-xr-x   - itv007304 supergroup          0 2023-07-14 12:22 /user/itv007304/github/streaming/bronze/data/ghactivity/created_year=2023/created_month=07/created_dayofmonth=11\n",
      "drwxr-xr-x   - itv007304 supergroup          0 2023-07-25 10:32 /user/itv007304/github/streaming/bronze/data/ghactivity/created_year=2023/created_month=07/created_dayofmonth=12\n",
      "drwxr-xr-x   - itv007304 supergroup          0 2023-07-29 00:20 /user/itv007304/github/streaming/bronze/data/ghactivity/created_year=2023/created_month=07/created_dayofmonth=13\n",
      "drwxr-xr-x   - itv007304 supergroup          0 2023-08-02 15:06 /user/itv007304/github/streaming/bronze/data/ghactivity/created_year=2023/created_month=07/created_dayofmonth=14\n"
     ]
    }
   ],
   "source": [
    "!hdfs dfs -ls /user/${USER}/github/streaming/bronze/data/ghactivity/created_year=2023/created_month=07"
   ]
  },
  {
   "cell_type": "code",
   "execution_count": 19,
   "metadata": {},
   "outputs": [
    {
     "name": "stdout",
     "output_type": "stream",
     "text": [
      "Found 23 items\n",
      "-rw-r--r--   3 itv007304 supergroup  202134557 2023-08-02 15:07 /user/itv007304/github/streaming/bronze/data/ghactivity/created_year=2023/created_month=07/created_dayofmonth=14/part-00000-5c5fdbec-b281-4b88-b076-334a3b1b430d.c000.snappy.parquet\n",
      "-rw-r--r--   3 itv007304 supergroup  219936891 2023-08-02 15:05 /user/itv007304/github/streaming/bronze/data/ghactivity/created_year=2023/created_month=07/created_dayofmonth=14/part-00000-69fdd9ea-d5d3-467b-8261-590dd2fd3a16.c000.snappy.parquet\n",
      "-rw-r--r--   3 itv007304 supergroup  184306281 2023-08-02 15:03 /user/itv007304/github/streaming/bronze/data/ghactivity/created_year=2023/created_month=07/created_dayofmonth=14/part-00000-800f016c-e02d-46e0-833b-d94c631b6805.c000.snappy.parquet\n",
      "-rw-r--r--   3 itv007304 supergroup  164860809 2023-08-02 15:03 /user/itv007304/github/streaming/bronze/data/ghactivity/created_year=2023/created_month=07/created_dayofmonth=14/part-00001-31149cef-aa29-4b7d-94ec-da9e1a557bd7.c000.snappy.parquet\n",
      "-rw-r--r--   3 itv007304 supergroup  219648933 2023-08-02 15:05 /user/itv007304/github/streaming/bronze/data/ghactivity/created_year=2023/created_month=07/created_dayofmonth=14/part-00001-806c9b93-6e66-46d3-bda7-1697b01d5bdc.c000.snappy.parquet\n",
      "-rw-r--r--   3 itv007304 supergroup  194664507 2023-08-02 15:07 /user/itv007304/github/streaming/bronze/data/ghactivity/created_year=2023/created_month=07/created_dayofmonth=14/part-00001-9fddc71b-b069-4440-a359-e28493a0a64e.c000.snappy.parquet\n",
      "-rw-r--r--   3 itv007304 supergroup  189483796 2023-08-02 15:07 /user/itv007304/github/streaming/bronze/data/ghactivity/created_year=2023/created_month=07/created_dayofmonth=14/part-00002-817b6b40-12b7-42ee-897d-b175173af9e8.c000.snappy.parquet\n",
      "-rw-r--r--   3 itv007304 supergroup  210968412 2023-08-02 15:05 /user/itv007304/github/streaming/bronze/data/ghactivity/created_year=2023/created_month=07/created_dayofmonth=14/part-00002-cb152a46-7893-4b9a-8f3a-4095cbe00124.c000.snappy.parquet\n",
      "-rw-r--r--   3 itv007304 supergroup  144060718 2023-08-02 15:03 /user/itv007304/github/streaming/bronze/data/ghactivity/created_year=2023/created_month=07/created_dayofmonth=14/part-00002-e0f5fddc-dd1a-4bc7-9c58-07d3ae6b900a.c000.snappy.parquet\n",
      "-rw-r--r--   3 itv007304 supergroup  207281970 2023-08-02 15:05 /user/itv007304/github/streaming/bronze/data/ghactivity/created_year=2023/created_month=07/created_dayofmonth=14/part-00003-1a605d16-eea2-4fea-919c-e4ef9bdef68e.c000.snappy.parquet\n",
      "-rw-r--r--   3 itv007304 supergroup  180250684 2023-08-02 15:07 /user/itv007304/github/streaming/bronze/data/ghactivity/created_year=2023/created_month=07/created_dayofmonth=14/part-00003-62a02883-34e8-4460-b8c8-ea4b70ab023d.c000.snappy.parquet\n",
      "-rw-r--r--   3 itv007304 supergroup  140374043 2023-08-02 15:03 /user/itv007304/github/streaming/bronze/data/ghactivity/created_year=2023/created_month=07/created_dayofmonth=14/part-00003-f411756b-4e53-41af-8c8d-07709ced0d51.c000.snappy.parquet\n",
      "-rw-r--r--   3 itv007304 supergroup  170888306 2023-08-02 15:07 /user/itv007304/github/streaming/bronze/data/ghactivity/created_year=2023/created_month=07/created_dayofmonth=14/part-00004-031ef016-4f63-481a-bb3b-ee017e1bf63f.c000.snappy.parquet\n",
      "-rw-r--r--   3 itv007304 supergroup  141295767 2023-08-02 15:03 /user/itv007304/github/streaming/bronze/data/ghactivity/created_year=2023/created_month=07/created_dayofmonth=14/part-00004-697834ac-4bef-4655-a90a-f06897e71bca.c000.snappy.parquet\n",
      "-rw-r--r--   3 itv007304 supergroup  205521655 2023-08-02 15:05 /user/itv007304/github/streaming/bronze/data/ghactivity/created_year=2023/created_month=07/created_dayofmonth=14/part-00004-7d68fad9-9e7e-447d-8bd2-48b9e321ef08.c000.snappy.parquet\n",
      "-rw-r--r--   3 itv007304 supergroup  202815680 2023-08-02 15:05 /user/itv007304/github/streaming/bronze/data/ghactivity/created_year=2023/created_month=07/created_dayofmonth=14/part-00005-2a7b8f55-ce19-4960-96d4-e63d9987a37a.c000.snappy.parquet\n",
      "-rw-r--r--   3 itv007304 supergroup  139206560 2023-08-02 15:03 /user/itv007304/github/streaming/bronze/data/ghactivity/created_year=2023/created_month=07/created_dayofmonth=14/part-00005-c7a4ed63-612d-4eb0-b6be-5be037ebcb59.c000.snappy.parquet\n",
      "-rw-r--r--   3 itv007304 supergroup  153786483 2023-08-02 15:07 /user/itv007304/github/streaming/bronze/data/ghactivity/created_year=2023/created_month=07/created_dayofmonth=14/part-00005-cc9e5b0b-80f0-4a4e-8c89-1a90e7539432.c000.snappy.parquet\n",
      "-rw-r--r--   3 itv007304 supergroup  195320117 2023-08-02 15:05 /user/itv007304/github/streaming/bronze/data/ghactivity/created_year=2023/created_month=07/created_dayofmonth=14/part-00006-39f0c855-125d-41df-b5e5-10577f1c1304.c000.snappy.parquet\n",
      "-rw-r--r--   3 itv007304 supergroup  243301360 2023-08-02 15:03 /user/itv007304/github/streaming/bronze/data/ghactivity/created_year=2023/created_month=07/created_dayofmonth=14/part-00006-6e0ae748-6864-40e1-906f-733859d36fd7.c000.snappy.parquet\n",
      "-rw-r--r--   3 itv007304 supergroup  145412251 2023-08-02 15:07 /user/itv007304/github/streaming/bronze/data/ghactivity/created_year=2023/created_month=07/created_dayofmonth=14/part-00006-ca26b247-f02b-40f4-beb0-0134c9c7298e.c000.snappy.parquet\n",
      "-rw-r--r--   3 itv007304 supergroup  112433421 2023-08-02 15:06 /user/itv007304/github/streaming/bronze/data/ghactivity/created_year=2023/created_month=07/created_dayofmonth=14/part-00007-80ae509a-1609-4c41-952f-927588fe3533.c000.snappy.parquet\n",
      "-rw-r--r--   3 itv007304 supergroup  184721189 2023-08-02 15:05 /user/itv007304/github/streaming/bronze/data/ghactivity/created_year=2023/created_month=07/created_dayofmonth=14/part-00007-d5a4179f-1949-4423-b8ee-098981958246.c000.snappy.parquet\n"
     ]
    }
   ],
   "source": [
    "!hdfs dfs -ls /user/${USER}/github/streaming/bronze/data/ghactivity/created_year=2023/created_month=07/created_dayofmonth=14"
   ]
  },
  {
   "cell_type": "code",
   "execution_count": null,
   "metadata": {
    "application/vnd.databricks.v1+cell": {
     "inputWidgets": {},
     "nuid": "b9f366c8-8a6f-4e35-878f-1bd79003a696",
     "showTitle": false,
     "title": ""
    }
   },
   "outputs": [],
   "source": [
    "!hdfs dfs -ls -R /user/${USER}/github/streaming/bronze/data/ghactivity"
   ]
  },
  {
   "cell_type": "markdown",
   "metadata": {
    "application/vnd.databricks.v1+cell": {
     "inputWidgets": {},
     "nuid": "3470cc47-5ed2-462c-b6ea-90bfaa96ffe0",
     "showTitle": false,
     "title": ""
    }
   },
   "source": [
    "* Validating the archive folder"
   ]
  },
  {
   "cell_type": "code",
   "execution_count": 21,
   "metadata": {},
   "outputs": [
    {
     "name": "stdout",
     "output_type": "stream",
     "text": [
      "drwxr-xr-x   - itv007304 supergroup          0 2023-08-02 15:02 /user/itv007304/github/streaming/landing/archive/ghactivity/user\n",
      "drwxr-xr-x   - itv007304 supergroup          0 2023-08-02 15:02 /user/itv007304/github/streaming/landing/archive/ghactivity/user/itv007304\n",
      "drwxr-xr-x   - itv007304 supergroup          0 2023-08-02 15:02 /user/itv007304/github/streaming/landing/archive/ghactivity/user/itv007304/github\n",
      "drwxr-xr-x   - itv007304 supergroup          0 2023-08-02 15:02 /user/itv007304/github/streaming/landing/archive/ghactivity/user/itv007304/github/streaming\n",
      "drwxr-xr-x   - itv007304 supergroup          0 2023-08-02 15:02 /user/itv007304/github/streaming/landing/archive/ghactivity/user/itv007304/github/streaming/landing\n",
      "drwxr-xr-x   - itv007304 supergroup          0 2023-08-02 15:02 /user/itv007304/github/streaming/landing/archive/ghactivity/user/itv007304/github/streaming/landing/ghactivity\n",
      "drwxr-xr-x   - itv007304 supergroup          0 2023-08-02 15:02 /user/itv007304/github/streaming/landing/archive/ghactivity/user/itv007304/github/streaming/landing/ghactivity/year=2023\n",
      "drwxr-xr-x   - itv007304 supergroup          0 2023-08-02 15:04 /user/itv007304/github/streaming/landing/archive/ghactivity/user/itv007304/github/streaming/landing/ghactivity/year=2023/month=07\n",
      "drwxr-xr-x   - itv007304 supergroup          0 2023-08-02 15:02 /user/itv007304/github/streaming/landing/archive/ghactivity/user/itv007304/github/streaming/landing/ghactivity/year=2023/month=07/dayofmonth=13\n",
      "-rw-r--r--   3 itv007304 supergroup   79630690 2023-07-28 23:25 /user/itv007304/github/streaming/landing/archive/ghactivity/user/itv007304/github/streaming/landing/ghactivity/year=2023/month=07/dayofmonth=13/2023-07-13-0.json.gz\n",
      "-rw-r--r--   3 itv007304 supergroup   79798127 2023-07-28 23:26 /user/itv007304/github/streaming/landing/archive/ghactivity/user/itv007304/github/streaming/landing/ghactivity/year=2023/month=07/dayofmonth=13/2023-07-13-1.json.gz\n",
      "-rw-r--r--   3 itv007304 supergroup   77867768 2023-07-28 23:26 /user/itv007304/github/streaming/landing/archive/ghactivity/user/itv007304/github/streaming/landing/ghactivity/year=2023/month=07/dayofmonth=13/2023-07-13-2.json.gz\n",
      "-rw-r--r--   3 itv007304 supergroup   69145000 2023-07-28 23:26 /user/itv007304/github/streaming/landing/archive/ghactivity/user/itv007304/github/streaming/landing/ghactivity/year=2023/month=07/dayofmonth=13/2023-07-13-3.json.gz\n",
      "-rw-r--r--   3 itv007304 supergroup   69972124 2023-07-28 23:26 /user/itv007304/github/streaming/landing/archive/ghactivity/user/itv007304/github/streaming/landing/ghactivity/year=2023/month=07/dayofmonth=13/2023-07-13-4.json.gz\n",
      "-rw-r--r--   3 itv007304 supergroup   77412726 2023-07-28 23:27 /user/itv007304/github/streaming/landing/archive/ghactivity/user/itv007304/github/streaming/landing/ghactivity/year=2023/month=07/dayofmonth=13/2023-07-13-5.json.gz\n",
      "-rw-r--r--   3 itv007304 supergroup   90294865 2023-07-28 23:27 /user/itv007304/github/streaming/landing/archive/ghactivity/user/itv007304/github/streaming/landing/ghactivity/year=2023/month=07/dayofmonth=13/2023-07-13-6.json.gz\n",
      "-rw-r--r--   3 itv007304 supergroup  103173997 2023-07-28 23:27 /user/itv007304/github/streaming/landing/archive/ghactivity/user/itv007304/github/streaming/landing/ghactivity/year=2023/month=07/dayofmonth=13/2023-07-13-7.json.gz\n",
      "drwxr-xr-x   - itv007304 supergroup          0 2023-08-02 15:06 /user/itv007304/github/streaming/landing/archive/ghactivity/user/itv007304/github/streaming/landing/ghactivity/year=2023/month=07/dayofmonth=14\n",
      "-rw-r--r--   3 itv007304 supergroup   72034652 2023-08-02 14:38 /user/itv007304/github/streaming/landing/archive/ghactivity/user/itv007304/github/streaming/landing/ghactivity/year=2023/month=07/dayofmonth=14/2023-07-14-0.json.gz\n",
      "-rw-r--r--   3 itv007304 supergroup   73741237 2023-08-02 14:39 /user/itv007304/github/streaming/landing/archive/ghactivity/user/itv007304/github/streaming/landing/ghactivity/year=2023/month=07/dayofmonth=14/2023-07-14-1.json.gz\n",
      "-rw-r--r--   3 itv007304 supergroup   98287908 2023-08-02 14:40 /user/itv007304/github/streaming/landing/archive/ghactivity/user/itv007304/github/streaming/landing/ghactivity/year=2023/month=07/dayofmonth=14/2023-07-14-10.json.gz\n",
      "-rw-r--r--   3 itv007304 supergroup   92923243 2023-08-02 14:41 /user/itv007304/github/streaming/landing/archive/ghactivity/user/itv007304/github/streaming/landing/ghactivity/year=2023/month=07/dayofmonth=14/2023-07-14-11.json.gz\n",
      "-rw-r--r--   3 itv007304 supergroup  103138399 2023-08-02 14:41 /user/itv007304/github/streaming/landing/archive/ghactivity/user/itv007304/github/streaming/landing/ghactivity/year=2023/month=07/dayofmonth=14/2023-07-14-12.json.gz\n",
      "-rw-r--r--   3 itv007304 supergroup  109128709 2023-08-02 14:41 /user/itv007304/github/streaming/landing/archive/ghactivity/user/itv007304/github/streaming/landing/ghactivity/year=2023/month=07/dayofmonth=14/2023-07-14-13.json.gz\n",
      "-rw-r--r--   3 itv007304 supergroup  109062045 2023-08-02 14:41 /user/itv007304/github/streaming/landing/archive/ghactivity/user/itv007304/github/streaming/landing/ghactivity/year=2023/month=07/dayofmonth=14/2023-07-14-14.json.gz\n",
      "-rw-r--r--   3 itv007304 supergroup  105830355 2023-08-02 14:42 /user/itv007304/github/streaming/landing/archive/ghactivity/user/itv007304/github/streaming/landing/ghactivity/year=2023/month=07/dayofmonth=14/2023-07-14-15.json.gz\n",
      "-rw-r--r--   3 itv007304 supergroup   71614006 2023-08-02 14:39 /user/itv007304/github/streaming/landing/archive/ghactivity/user/itv007304/github/streaming/landing/ghactivity/year=2023/month=07/dayofmonth=14/2023-07-14-2.json.gz\n",
      "-rw-r--r--   3 itv007304 supergroup   66568797 2023-08-02 14:39 /user/itv007304/github/streaming/landing/archive/ghactivity/user/itv007304/github/streaming/landing/ghactivity/year=2023/month=07/dayofmonth=14/2023-07-14-3.json.gz\n",
      "-rw-r--r--   3 itv007304 supergroup   62057655 2023-08-02 14:39 /user/itv007304/github/streaming/landing/archive/ghactivity/user/itv007304/github/streaming/landing/ghactivity/year=2023/month=07/dayofmonth=14/2023-07-14-4.json.gz\n",
      "-rw-r--r--   3 itv007304 supergroup   72732765 2023-08-02 14:39 /user/itv007304/github/streaming/landing/archive/ghactivity/user/itv007304/github/streaming/landing/ghactivity/year=2023/month=07/dayofmonth=14/2023-07-14-5.json.gz\n",
      "-rw-r--r--   3 itv007304 supergroup   83005393 2023-08-02 14:39 /user/itv007304/github/streaming/landing/archive/ghactivity/user/itv007304/github/streaming/landing/ghactivity/year=2023/month=07/dayofmonth=14/2023-07-14-6.json.gz\n",
      "-rw-r--r--   3 itv007304 supergroup   93037488 2023-08-02 14:40 /user/itv007304/github/streaming/landing/archive/ghactivity/user/itv007304/github/streaming/landing/ghactivity/year=2023/month=07/dayofmonth=14/2023-07-14-7.json.gz\n",
      "-rw-r--r--   3 itv007304 supergroup  102369823 2023-08-02 14:40 /user/itv007304/github/streaming/landing/archive/ghactivity/user/itv007304/github/streaming/landing/ghactivity/year=2023/month=07/dayofmonth=14/2023-07-14-8.json.gz\n",
      "-rw-r--r--   3 itv007304 supergroup  102590123 2023-08-02 14:40 /user/itv007304/github/streaming/landing/archive/ghactivity/user/itv007304/github/streaming/landing/ghactivity/year=2023/month=07/dayofmonth=14/2023-07-14-9.json.gz\n"
     ]
    }
   ],
   "source": [
    "!hdfs dfs -ls -R /user/${USER}/github/streaming/landing/archive/ghactivity"
   ]
  },
  {
   "cell_type": "code",
   "execution_count": null,
   "metadata": {},
   "outputs": [],
   "source": []
  }
 ],
 "metadata": {
  "application/vnd.databricks.v1+notebook": {
   "dashboards": [],
   "language": "python",
   "notebookMetadata": {
    "pythonIndentUnit": 2
   },
   "notebookName": "10 Load Data Incrementally to Target Table",
   "notebookOrigID": 1346813181782072,
   "widgets": {}
  },
  "kernelspec": {
   "display_name": "Pyspark 3",
   "language": "python",
   "name": "pyspark3"
  },
  "language_info": {
   "codemirror_mode": {
    "name": "ipython",
    "version": 3
   },
   "file_extension": ".py",
   "mimetype": "text/x-python",
   "name": "python",
   "nbconvert_exporter": "python",
   "pygments_lexer": "ipython3",
   "version": "3.6.12"
  }
 },
 "nbformat": 4,
 "nbformat_minor": 4
}
