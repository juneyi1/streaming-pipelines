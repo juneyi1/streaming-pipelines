{
 "cells": [
  {
   "cell_type": "markdown",
   "metadata": {
    "application/vnd.databricks.v1+cell": {
     "inputWidgets": {},
     "nuid": "f1f6781d-04aa-4518-8b59-f5a7a20faa94",
     "showTitle": false,
     "title": ""
    }
   },
   "source": [
    "##  Using maxFilesPerTrigger and latestFirst\n",
    "\n",
    "Let us go through the details about reading and writing data to target location leveraging Spark Structured Streaming APIs using `maxFilesPerTrigger`. We will also see how to process the latest files first.\n",
    "\n",
    "* `maxFilesPerTrigger` is primarily used to keep the usage of resources under control. E\n",
    "* It is useful for baseline loads as well as sudden spikes in incremental loads. \n",
    "* By default old files based upon the timestamp associated with the files will be read first, however we can change the behavior using `latestFirst`.\n",
    "* We will also validate by running `hdfs fs -ls` command to see if the pqrquet files are copied or not.\n",
    "* The files that are available at source at this time will be picked up automatically. However, only latest 8 files will be picked as part of the first iteration. \n",
    "\n",
    "`maxFilesPerTrigger` is only applicable when we trigger job runs using frequent interval batches, not `trigger(once=True)`."
   ]
  },
  {
   "cell_type": "code",
   "execution_count": 1,
   "metadata": {},
   "outputs": [],
   "source": [
    "from pyspark.sql import SparkSession\n",
    "\n",
    "import getpass\n",
    "username = getpass.getuser()\n",
    "\n",
    "spark = SparkSession. \\\n",
    "    builder. \\\n",
    "    config('spark.ui.port', '0'). \\\n",
    "    config('spark.sql.warehouse.dir', f'/user/{username}/warehouse'). \\\n",
    "    enableHiveSupport(). \\\n",
    "    appName(f'{username} | Python - Incremental Loads using Spark Structured Streaming'). \\\n",
    "    master('yarn'). \\\n",
    "    getOrCreate()"
   ]
  },
  {
   "cell_type": "code",
   "execution_count": 2,
   "metadata": {
    "application/vnd.databricks.v1+cell": {
     "inputWidgets": {},
     "nuid": "f3db9a4b-db22-406b-8c7c-67e2db02c0e3",
     "showTitle": false,
     "title": ""
    }
   },
   "outputs": [],
   "source": [
    "spark.conf.set('spark.sql.shuffle.partitions', '8')\n",
    "spark.conf.set('spark.sql.streaming.schemaInference', 'true')"
   ]
  },
  {
   "cell_type": "code",
   "execution_count": 3,
   "metadata": {},
   "outputs": [],
   "source": [
    "ghactivity_df = spark. \\\n",
    "    readStream. \\\n",
    "    format('json'). \\\n",
    "    option('maxFilesPerTrigger', 8). \\\n",
    "    option('latestFirst', True). \\\n",
    "    option('cleanSource', 'delete'). \\\n",
    "    load(f'/user/{username}/github/streaming/landing/ghactivity/')"
   ]
  },
  {
   "cell_type": "code",
   "execution_count": 4,
   "metadata": {},
   "outputs": [],
   "source": [
    "from pyspark.sql.functions import year, month, dayofmonth, lpad"
   ]
  },
  {
   "cell_type": "code",
   "execution_count": 5,
   "metadata": {},
   "outputs": [],
   "source": [
    "ghactivity_df = ghactivity_df. \\\n",
    "    withColumn('created_year', year('created_at')). \\\n",
    "    withColumn('created_month', lpad(month('created_at'), 2, '0')). \\\n",
    "    withColumn('created_dayofmonth', lpad(dayofmonth('created_at'), 2, '0'))"
   ]
  },
  {
   "cell_type": "code",
   "execution_count": 6,
   "metadata": {},
   "outputs": [
    {
     "data": {
      "text/plain": [
       "<pyspark.sql.streaming.StreamingQuery at 0x7fba5f7fe518>"
      ]
     },
     "execution_count": 6,
     "metadata": {},
     "output_type": "execute_result"
    }
   ],
   "source": [
    "ghactivity_df. \\\n",
    "    writeStream. \\\n",
    "    partitionBy('created_year', 'created_month', 'created_dayofmonth'). \\\n",
    "    format('parquet'). \\\n",
    "    option(\"checkpointLocation\", f\"/user/{username}/github/streaming/bronze/checkpoint/ghactivity\"). \\\n",
    "    option(\"path\", f\"/user/{username}/github/streaming/bronze/data/ghactivity\"). \\\n",
    "    trigger(processingTime='60 seconds'). \\\n",
    "    start()\n",
    "\n",
    "# If the job run is completed before 60 seconds, it will wait up to 60 seconds for the next run.\n",
    "# If the job run takes more than 60 seconds to complete, then next run will start immediately."
   ]
  },
  {
   "cell_type": "markdown",
   "metadata": {
    "application/vnd.databricks.v1+cell": {
     "inputWidgets": {},
     "nuid": "35a8fc0d-cd29-4c3d-aed2-9d4712ba5731",
     "showTitle": false,
     "title": ""
    }
   },
   "source": [
    "* Validating the checkpoint location. We can see multiple folders. These folders will have all the files that are required for the overhead of the checkpoint."
   ]
  },
  {
   "cell_type": "code",
   "execution_count": 7,
   "metadata": {
    "application/vnd.databricks.v1+cell": {
     "inputWidgets": {},
     "nuid": "a09e7932-76d4-4f4b-ad1c-2c0d3f66369b",
     "showTitle": false,
     "title": ""
    }
   },
   "outputs": [
    {
     "name": "stdout",
     "output_type": "stream",
     "text": [
      "Found 4 items\n",
      "drwxr-xr-x   - itv007304 supergroup          0 2023-07-25 10:33 /user/itv007304/github/streaming/bronze/checkpoint/ghactivity/commits\n",
      "-rw-r--r--   3 itv007304 supergroup         45 2023-07-14 12:17 /user/itv007304/github/streaming/bronze/checkpoint/ghactivity/metadata\n",
      "drwxr-xr-x   - itv007304 supergroup          0 2023-07-29 00:15 /user/itv007304/github/streaming/bronze/checkpoint/ghactivity/offsets\n",
      "drwxr-xr-x   - itv007304 supergroup          0 2023-07-14 12:17 /user/itv007304/github/streaming/bronze/checkpoint/ghactivity/sources\n"
     ]
    }
   ],
   "source": [
    "!hdfs dfs -ls /user/${USER}/github/streaming/bronze/checkpoint/ghactivity"
   ]
  },
  {
   "cell_type": "code",
   "execution_count": 9,
   "metadata": {},
   "outputs": [
    {
     "name": "stdout",
     "output_type": "stream",
     "text": [
      "drwxr-xr-x   - itv007304 supergroup          0 2023-07-29 00:18 /user/itv007304/github/streaming/bronze/checkpoint/ghactivity/sources/0\n",
      "-rw-r--r--   3 itv007304 supergroup       4432 2023-07-14 12:17 /user/itv007304/github/streaming/bronze/checkpoint/ghactivity/sources/0/0\n",
      "-rw-r--r--   3 itv007304 supergroup       4432 2023-07-25 10:27 /user/itv007304/github/streaming/bronze/checkpoint/ghactivity/sources/0/1\n",
      "-rw-r--r--   3 itv007304 supergroup       1482 2023-07-29 00:15 /user/itv007304/github/streaming/bronze/checkpoint/ghactivity/sources/0/2\n",
      "-rw-r--r--   3 itv007304 supergroup       1480 2023-07-29 00:18 /user/itv007304/github/streaming/bronze/checkpoint/ghactivity/sources/0/3\n"
     ]
    }
   ],
   "source": [
    "!hdfs dfs -ls -R /user/${USER}/github/streaming/bronze/checkpoint/ghactivity/sources"
   ]
  },
  {
   "cell_type": "code",
   "execution_count": 10,
   "metadata": {},
   "outputs": [
    {
     "name": "stdout",
     "output_type": "stream",
     "text": [
      "v1\n",
      "{\"path\":\"hdfs://m01.itversity.com:9000/user/itv007304/github/streaming/landing/ghactivity/year=2023/month=07/dayofmonth=11/2023-07-11-0.json.gz\",\"timestamp\":1689199156255,\"batchId\":0}\n",
      "{\"path\":\"hdfs://m01.itversity.com:9000/user/itv007304/github/streaming/landing/ghactivity/year=2023/month=07/dayofmonth=11/2023-07-11-1.json.gz\",\"timestamp\":1689276160654,\"batchId\":0}\n",
      "{\"path\":\"hdfs://m01.itversity.com:9000/user/itv007304/github/streaming/landing/ghactivity/year=2023/month=07/dayofmonth=11/2023-07-11-2.json.gz\",\"timestamp\":1689276171657,\"batchId\":0}\n",
      "{\"path\":\"hdfs://m01.itversity.com:9000/user/itv007304/github/streaming/landing/ghactivity/year=2023/month=07/dayofmonth=11/2023-07-11-3.json.gz\",\"timestamp\":1689276182338,\"batchId\":0}\n",
      "{\"path\":\"hdfs://m01.itversity.com:9000/user/itv007304/github/streaming/landing/ghactivity/year=2023/month=07/dayofmonth=11/2023-07-11-4.json.gz\",\"timestamp\":1689276191737,\"batchId\":0}\n",
      "{\"path\":\"hdfs://m01.itversity.com:9000/user/itv007304/github/streaming/landing/ghactivity/year=2023/month=07/dayofmonth=11/2023-07-11-5.json.gz\",\"timestamp\":1689276205183,\"batchId\":0}\n",
      "{\"path\":\"hdfs://m01.itversity.com:9000/user/itv007304/github/streaming/landing/ghactivity/year=2023/month=07/dayofmonth=11/2023-07-11-6.json.gz\",\"timestamp\":1689276216966,\"batchId\":0}\n",
      "{\"path\":\"hdfs://m01.itversity.com:9000/user/itv007304/github/streaming/landing/ghactivity/year=2023/month=07/dayofmonth=11/2023-07-11-7.json.gz\",\"timestamp\":1689276229621,\"batchId\":0}\n",
      "{\"path\":\"hdfs://m01.itversity.com:9000/user/itv007304/github/streaming/landing/ghactivity/year=2023/month=07/dayofmonth=11/2023-07-11-8.json.gz\",\"timestamp\":1689276243039,\"batchId\":0}\n",
      "{\"path\":\"hdfs://m01.itversity.com:9000/user/itv007304/github/streaming/landing/ghactivity/year=2023/month=07/dayofmonth=11/2023-07-11-9.json.gz\",\"timestamp\":1689276258262,\"batchId\":0}\n",
      "{\"path\":\"hdfs://m01.itversity.com:9000/user/itv007304/github/streaming/landing/ghactivity/year=2023/month=07/dayofmonth=11/2023-07-11-10.json.gz\",\"timestamp\":1689276272277,\"batchId\":0}\n",
      "{\"path\":\"hdfs://m01.itversity.com:9000/user/itv007304/github/streaming/landing/ghactivity/year=2023/month=07/dayofmonth=11/2023-07-11-11.json.gz\",\"timestamp\":1689276285565,\"batchId\":0}\n",
      "{\"path\":\"hdfs://m01.itversity.com:9000/user/itv007304/github/streaming/landing/ghactivity/year=2023/month=07/dayofmonth=11/2023-07-11-12.json.gz\",\"timestamp\":1689276303840,\"batchId\":0}\n",
      "{\"path\":\"hdfs://m01.itversity.com:9000/user/itv007304/github/streaming/landing/ghactivity/year=2023/month=07/dayofmonth=11/2023-07-11-13.json.gz\",\"timestamp\":1689276324277,\"batchId\":0}\n",
      "{\"path\":\"hdfs://m01.itversity.com:9000/user/itv007304/github/streaming/landing/ghactivity/year=2023/month=07/dayofmonth=11/2023-07-11-14.json.gz\",\"timestamp\":1689276338934,\"batchId\":0}\n",
      "{\"path\":\"hdfs://m01.itversity.com:9000/user/itv007304/github/streaming/landing/ghactivity/year=2023/month=07/dayofmonth=11/2023-07-11-15.json.gz\",\"timestamp\":1689276351323,\"batchId\":0}\n",
      "{\"path\":\"hdfs://m01.itversity.com:9000/user/itv007304/github/streaming/landing/ghactivity/year=2023/month=07/dayofmonth=11/2023-07-11-16.json.gz\",\"timestamp\":1689276365428,\"batchId\":0}\n",
      "{\"path\":\"hdfs://m01.itversity.com:9000/user/itv007304/github/streaming/landing/ghactivity/year=2023/month=07/dayofmonth=11/2023-07-11-17.json.gz\",\"timestamp\":1689276378297,\"batchId\":0}\n",
      "{\"path\":\"hdfs://m01.itversity.com:9000/user/itv007304/github/streaming/landing/ghactivity/year=2023/month=07/dayofmonth=11/2023-07-11-18.json.gz\",\"timestamp\":1689276391047,\"batchId\":0}\n",
      "{\"path\":\"hdfs://m01.itversity.com:9000/user/itv007304/github/streaming/landing/ghactivity/year=2023/month=07/dayofmonth=11/2023-07-11-19.json.gz\",\"timestamp\":1689276402884,\"batchId\":0}\n",
      "{\"path\":\"hdfs://m01.itversity.com:9000/user/itv007304/github/streaming/landing/ghactivity/year=2023/month=07/dayofmonth=11/2023-07-11-20.json.gz\",\"timestamp\":1689276414959,\"batchId\":0}\n",
      "{\"path\":\"hdfs://m01.itversity.com:9000/user/itv007304/github/streaming/landing/ghactivity/year=2023/month=07/dayofmonth=11/2023-07-11-21.json.gz\",\"timestamp\":1689276426695,\"batchId\":0}\n",
      "{\"path\":\"hdfs://m01.itversity.com:9000/user/itv007304/github/streaming/landing/ghactivity/year=2023/month=07/dayofmonth=11/2023-07-11-22.json.gz\",\"timestamp\":1689276437182,\"batchId\":0}\n",
      "{\"path\":\"hdfs://m01.itversity.com:9000/user/itv007304/github/streaming/landing/ghactivity/year=2023/month=07/dayofmonth=11/2023-07-11-23.json.gz\",\"timestamp\":1689276447972,\"batchId\":0}"
     ]
    }
   ],
   "source": [
    "!hdfs dfs -cat /user/${USER}/github/streaming/bronze/checkpoint/ghactivity/sources/0/0"
   ]
  },
  {
   "cell_type": "code",
   "execution_count": 11,
   "metadata": {},
   "outputs": [
    {
     "name": "stdout",
     "output_type": "stream",
     "text": [
      "v1\n",
      "{\"path\":\"hdfs://m01.itversity.com:9000/user/itv007304/github/streaming/landing/ghactivity/year=2023/month=07/dayofmonth=12/2023-07-12-0.json.gz\",\"timestamp\":1690126013086,\"batchId\":1}\n",
      "{\"path\":\"hdfs://m01.itversity.com:9000/user/itv007304/github/streaming/landing/ghactivity/year=2023/month=07/dayofmonth=12/2023-07-12-1.json.gz\",\"timestamp\":1690126022761,\"batchId\":1}\n",
      "{\"path\":\"hdfs://m01.itversity.com:9000/user/itv007304/github/streaming/landing/ghactivity/year=2023/month=07/dayofmonth=12/2023-07-12-2.json.gz\",\"timestamp\":1690126032846,\"batchId\":1}\n",
      "{\"path\":\"hdfs://m01.itversity.com:9000/user/itv007304/github/streaming/landing/ghactivity/year=2023/month=07/dayofmonth=12/2023-07-12-3.json.gz\",\"timestamp\":1690126041951,\"batchId\":1}\n",
      "{\"path\":\"hdfs://m01.itversity.com:9000/user/itv007304/github/streaming/landing/ghactivity/year=2023/month=07/dayofmonth=12/2023-07-12-4.json.gz\",\"timestamp\":1690126050808,\"batchId\":1}\n",
      "{\"path\":\"hdfs://m01.itversity.com:9000/user/itv007304/github/streaming/landing/ghactivity/year=2023/month=07/dayofmonth=12/2023-07-12-5.json.gz\",\"timestamp\":1690126060800,\"batchId\":1}\n",
      "{\"path\":\"hdfs://m01.itversity.com:9000/user/itv007304/github/streaming/landing/ghactivity/year=2023/month=07/dayofmonth=12/2023-07-12-6.json.gz\",\"timestamp\":1690126071405,\"batchId\":1}\n",
      "{\"path\":\"hdfs://m01.itversity.com:9000/user/itv007304/github/streaming/landing/ghactivity/year=2023/month=07/dayofmonth=12/2023-07-12-7.json.gz\",\"timestamp\":1690126083172,\"batchId\":1}\n",
      "{\"path\":\"hdfs://m01.itversity.com:9000/user/itv007304/github/streaming/landing/ghactivity/year=2023/month=07/dayofmonth=12/2023-07-12-8.json.gz\",\"timestamp\":1690126095384,\"batchId\":1}\n",
      "{\"path\":\"hdfs://m01.itversity.com:9000/user/itv007304/github/streaming/landing/ghactivity/year=2023/month=07/dayofmonth=12/2023-07-12-9.json.gz\",\"timestamp\":1690126109781,\"batchId\":1}\n",
      "{\"path\":\"hdfs://m01.itversity.com:9000/user/itv007304/github/streaming/landing/ghactivity/year=2023/month=07/dayofmonth=12/2023-07-12-10.json.gz\",\"timestamp\":1690126121674,\"batchId\":1}\n",
      "{\"path\":\"hdfs://m01.itversity.com:9000/user/itv007304/github/streaming/landing/ghactivity/year=2023/month=07/dayofmonth=12/2023-07-12-11.json.gz\",\"timestamp\":1690126134181,\"batchId\":1}\n",
      "{\"path\":\"hdfs://m01.itversity.com:9000/user/itv007304/github/streaming/landing/ghactivity/year=2023/month=07/dayofmonth=12/2023-07-12-12.json.gz\",\"timestamp\":1690126148267,\"batchId\":1}\n",
      "{\"path\":\"hdfs://m01.itversity.com:9000/user/itv007304/github/streaming/landing/ghactivity/year=2023/month=07/dayofmonth=12/2023-07-12-13.json.gz\",\"timestamp\":1690126161653,\"batchId\":1}\n",
      "{\"path\":\"hdfs://m01.itversity.com:9000/user/itv007304/github/streaming/landing/ghactivity/year=2023/month=07/dayofmonth=12/2023-07-12-14.json.gz\",\"timestamp\":1690126175116,\"batchId\":1}\n",
      "{\"path\":\"hdfs://m01.itversity.com:9000/user/itv007304/github/streaming/landing/ghactivity/year=2023/month=07/dayofmonth=12/2023-07-12-15.json.gz\",\"timestamp\":1690126188042,\"batchId\":1}\n",
      "{\"path\":\"hdfs://m01.itversity.com:9000/user/itv007304/github/streaming/landing/ghactivity/year=2023/month=07/dayofmonth=12/2023-07-12-16.json.gz\",\"timestamp\":1690126200344,\"batchId\":1}\n",
      "{\"path\":\"hdfs://m01.itversity.com:9000/user/itv007304/github/streaming/landing/ghactivity/year=2023/month=07/dayofmonth=12/2023-07-12-17.json.gz\",\"timestamp\":1690126221704,\"batchId\":1}\n",
      "{\"path\":\"hdfs://m01.itversity.com:9000/user/itv007304/github/streaming/landing/ghactivity/year=2023/month=07/dayofmonth=12/2023-07-12-18.json.gz\",\"timestamp\":1690126235586,\"batchId\":1}\n",
      "{\"path\":\"hdfs://m01.itversity.com:9000/user/itv007304/github/streaming/landing/ghactivity/year=2023/month=07/dayofmonth=12/2023-07-12-19.json.gz\",\"timestamp\":1690126248345,\"batchId\":1}\n",
      "{\"path\":\"hdfs://m01.itversity.com:9000/user/itv007304/github/streaming/landing/ghactivity/year=2023/month=07/dayofmonth=12/2023-07-12-20.json.gz\",\"timestamp\":1690126268099,\"batchId\":1}\n",
      "{\"path\":\"hdfs://m01.itversity.com:9000/user/itv007304/github/streaming/landing/ghactivity/year=2023/month=07/dayofmonth=12/2023-07-12-21.json.gz\",\"timestamp\":1690126283098,\"batchId\":1}\n",
      "{\"path\":\"hdfs://m01.itversity.com:9000/user/itv007304/github/streaming/landing/ghactivity/year=2023/month=07/dayofmonth=12/2023-07-12-22.json.gz\",\"timestamp\":1690126298216,\"batchId\":1}\n",
      "{\"path\":\"hdfs://m01.itversity.com:9000/user/itv007304/github/streaming/landing/ghactivity/year=2023/month=07/dayofmonth=12/2023-07-12-23.json.gz\",\"timestamp\":1690126310521,\"batchId\":1}"
     ]
    }
   ],
   "source": [
    "!hdfs dfs -cat /user/${USER}/github/streaming/bronze/checkpoint/ghactivity/sources/0/1"
   ]
  },
  {
   "cell_type": "code",
   "execution_count": 12,
   "metadata": {},
   "outputs": [
    {
     "name": "stdout",
     "output_type": "stream",
     "text": [
      "v1\n",
      "{\"path\":\"hdfs://m01.itversity.com:9000/user/itv007304/github/streaming/landing/ghactivity/year=2023/month=07/dayofmonth=13/2023-07-13-23.json.gz\",\"timestamp\":1690601469796,\"batchId\":2}\n",
      "{\"path\":\"hdfs://m01.itversity.com:9000/user/itv007304/github/streaming/landing/ghactivity/year=2023/month=07/dayofmonth=13/2023-07-13-22.json.gz\",\"timestamp\":1690601458911,\"batchId\":2}\n",
      "{\"path\":\"hdfs://m01.itversity.com:9000/user/itv007304/github/streaming/landing/ghactivity/year=2023/month=07/dayofmonth=13/2023-07-13-21.json.gz\",\"timestamp\":1690601447783,\"batchId\":2}\n",
      "{\"path\":\"hdfs://m01.itversity.com:9000/user/itv007304/github/streaming/landing/ghactivity/year=2023/month=07/dayofmonth=13/2023-07-13-20.json.gz\",\"timestamp\":1690601434392,\"batchId\":2}\n",
      "{\"path\":\"hdfs://m01.itversity.com:9000/user/itv007304/github/streaming/landing/ghactivity/year=2023/month=07/dayofmonth=13/2023-07-13-19.json.gz\",\"timestamp\":1690601420916,\"batchId\":2}\n",
      "{\"path\":\"hdfs://m01.itversity.com:9000/user/itv007304/github/streaming/landing/ghactivity/year=2023/month=07/dayofmonth=13/2023-07-13-18.json.gz\",\"timestamp\":1690601403685,\"batchId\":2}\n",
      "{\"path\":\"hdfs://m01.itversity.com:9000/user/itv007304/github/streaming/landing/ghactivity/year=2023/month=07/dayofmonth=13/2023-07-13-17.json.gz\",\"timestamp\":1690601389991,\"batchId\":2}\n",
      "{\"path\":\"hdfs://m01.itversity.com:9000/user/itv007304/github/streaming/landing/ghactivity/year=2023/month=07/dayofmonth=13/2023-07-13-16.json.gz\",\"timestamp\":1690601376261,\"batchId\":2}"
     ]
    }
   ],
   "source": [
    "!hdfs dfs -cat /user/${USER}/github/streaming/bronze/checkpoint/ghactivity/sources/0/2"
   ]
  },
  {
   "cell_type": "code",
   "execution_count": 13,
   "metadata": {},
   "outputs": [
    {
     "name": "stdout",
     "output_type": "stream",
     "text": [
      "v1\n",
      "{\"path\":\"hdfs://m01.itversity.com:9000/user/itv007304/github/streaming/landing/ghactivity/year=2023/month=07/dayofmonth=13/2023-07-13-15.json.gz\",\"timestamp\":1690601362716,\"batchId\":3}\n",
      "{\"path\":\"hdfs://m01.itversity.com:9000/user/itv007304/github/streaming/landing/ghactivity/year=2023/month=07/dayofmonth=13/2023-07-13-14.json.gz\",\"timestamp\":1690601350312,\"batchId\":3}\n",
      "{\"path\":\"hdfs://m01.itversity.com:9000/user/itv007304/github/streaming/landing/ghactivity/year=2023/month=07/dayofmonth=13/2023-07-13-13.json.gz\",\"timestamp\":1690601335094,\"batchId\":3}\n",
      "{\"path\":\"hdfs://m01.itversity.com:9000/user/itv007304/github/streaming/landing/ghactivity/year=2023/month=07/dayofmonth=13/2023-07-13-12.json.gz\",\"timestamp\":1690601321692,\"batchId\":3}\n",
      "{\"path\":\"hdfs://m01.itversity.com:9000/user/itv007304/github/streaming/landing/ghactivity/year=2023/month=07/dayofmonth=13/2023-07-13-11.json.gz\",\"timestamp\":1690601307004,\"batchId\":3}\n",
      "{\"path\":\"hdfs://m01.itversity.com:9000/user/itv007304/github/streaming/landing/ghactivity/year=2023/month=07/dayofmonth=13/2023-07-13-10.json.gz\",\"timestamp\":1690601293463,\"batchId\":3}\n",
      "{\"path\":\"hdfs://m01.itversity.com:9000/user/itv007304/github/streaming/landing/ghactivity/year=2023/month=07/dayofmonth=13/2023-07-13-9.json.gz\",\"timestamp\":1690601278474,\"batchId\":3}\n",
      "{\"path\":\"hdfs://m01.itversity.com:9000/user/itv007304/github/streaming/landing/ghactivity/year=2023/month=07/dayofmonth=13/2023-07-13-8.json.gz\",\"timestamp\":1690601262905,\"batchId\":3}"
     ]
    }
   ],
   "source": [
    "!hdfs dfs -cat /user/${USER}/github/streaming/bronze/checkpoint/ghactivity/sources/0/3"
   ]
  },
  {
   "cell_type": "code",
   "execution_count": 14,
   "metadata": {},
   "outputs": [
    {
     "name": "stdout",
     "output_type": "stream",
     "text": [
      "v1\n",
      "{\"path\":\"hdfs://m01.itversity.com:9000/user/itv007304/github/streaming/landing/ghactivity/year=2023/month=07/dayofmonth=13/2023-07-13-7.json.gz\",\"timestamp\":1690601247874,\"batchId\":4}\n",
      "{\"path\":\"hdfs://m01.itversity.com:9000/user/itv007304/github/streaming/landing/ghactivity/year=2023/month=07/dayofmonth=13/2023-07-13-6.json.gz\",\"timestamp\":1690601234646,\"batchId\":4}\n",
      "{\"path\":\"hdfs://m01.itversity.com:9000/user/itv007304/github/streaming/landing/ghactivity/year=2023/month=07/dayofmonth=13/2023-07-13-5.json.gz\",\"timestamp\":1690601222349,\"batchId\":4}\n",
      "{\"path\":\"hdfs://m01.itversity.com:9000/user/itv007304/github/streaming/landing/ghactivity/year=2023/month=07/dayofmonth=13/2023-07-13-4.json.gz\",\"timestamp\":1690601210120,\"batchId\":4}\n",
      "{\"path\":\"hdfs://m01.itversity.com:9000/user/itv007304/github/streaming/landing/ghactivity/year=2023/month=07/dayofmonth=13/2023-07-13-3.json.gz\",\"timestamp\":1690601200306,\"batchId\":4}\n",
      "{\"path\":\"hdfs://m01.itversity.com:9000/user/itv007304/github/streaming/landing/ghactivity/year=2023/month=07/dayofmonth=13/2023-07-13-2.json.gz\",\"timestamp\":1690601190381,\"batchId\":4}\n",
      "{\"path\":\"hdfs://m01.itversity.com:9000/user/itv007304/github/streaming/landing/ghactivity/year=2023/month=07/dayofmonth=13/2023-07-13-1.json.gz\",\"timestamp\":1690601178996,\"batchId\":4}\n",
      "{\"path\":\"hdfs://m01.itversity.com:9000/user/itv007304/github/streaming/landing/ghactivity/year=2023/month=07/dayofmonth=13/2023-07-13-0.json.gz\",\"timestamp\":1690601154269,\"batchId\":4}"
     ]
    }
   ],
   "source": [
    "!hdfs dfs -cat /user/${USER}/github/streaming/bronze/checkpoint/ghactivity/sources/0/4"
   ]
  },
  {
   "cell_type": "code",
   "execution_count": 15,
   "metadata": {},
   "outputs": [
    {
     "name": "stdout",
     "output_type": "stream",
     "text": [
      "Found 5 items\n",
      "-rw-r--r--   3 itv007304 supergroup        471 2023-07-14 12:17 /user/itv007304/github/streaming/bronze/checkpoint/ghactivity/offsets/0\n",
      "-rw-r--r--   3 itv007304 supergroup        471 2023-07-25 10:27 /user/itv007304/github/streaming/bronze/checkpoint/ghactivity/offsets/1\n",
      "-rw-r--r--   3 itv007304 supergroup        471 2023-07-29 00:15 /user/itv007304/github/streaming/bronze/checkpoint/ghactivity/offsets/2\n",
      "-rw-r--r--   3 itv007304 supergroup        471 2023-07-29 00:18 /user/itv007304/github/streaming/bronze/checkpoint/ghactivity/offsets/3\n",
      "-rw-r--r--   3 itv007304 supergroup        471 2023-07-29 00:20 /user/itv007304/github/streaming/bronze/checkpoint/ghactivity/offsets/4\n"
     ]
    }
   ],
   "source": [
    "!hdfs dfs -ls /user/${USER}/github/streaming/bronze/checkpoint/ghactivity/offsets"
   ]
  },
  {
   "cell_type": "code",
   "execution_count": 17,
   "metadata": {},
   "outputs": [
    {
     "name": "stdout",
     "output_type": "stream",
     "text": [
      "v1\n",
      "{\"batchWatermarkMs\":0,\"batchTimestampMs\":1689351454553,\"conf\":{\"spark.sql.streaming.stateStore.providerClass\":\"org.apache.spark.sql.execution.streaming.state.HDFSBackedStateStoreProvider\",\"spark.sql.streaming.join.stateFormatVersion\":\"2\",\"spark.sql.streaming.flatMapGroupsWithState.stateFormatVersion\":\"2\",\"spark.sql.streaming.multipleWatermarkPolicy\":\"min\",\"spark.sql.streaming.aggregation.stateFormatVersion\":\"2\",\"spark.sql.shuffle.partitions\":\"16\"}}\n",
      "{\"logOffset\":0}"
     ]
    }
   ],
   "source": [
    "!hdfs dfs -cat /user/${USER}/github/streaming/bronze/checkpoint/ghactivity/offsets/0"
   ]
  },
  {
   "cell_type": "code",
   "execution_count": 19,
   "metadata": {},
   "outputs": [
    {
     "name": "stdout",
     "output_type": "stream",
     "text": [
      "v1\n",
      "{\"batchWatermarkMs\":0,\"batchTimestampMs\":1690604283947,\"conf\":{\"spark.sql.streaming.stateStore.providerClass\":\"org.apache.spark.sql.execution.streaming.state.HDFSBackedStateStoreProvider\",\"spark.sql.streaming.join.stateFormatVersion\":\"2\",\"spark.sql.streaming.flatMapGroupsWithState.stateFormatVersion\":\"2\",\"spark.sql.streaming.multipleWatermarkPolicy\":\"min\",\"spark.sql.streaming.aggregation.stateFormatVersion\":\"2\",\"spark.sql.shuffle.partitions\":\"16\"}}\n",
      "{\"logOffset\":3}"
     ]
    }
   ],
   "source": [
    "!hdfs dfs -cat /user/${USER}/github/streaming/bronze/checkpoint/ghactivity/offsets/3"
   ]
  },
  {
   "cell_type": "markdown",
   "metadata": {
    "application/vnd.databricks.v1+cell": {
     "inputWidgets": {},
     "nuid": "fee6dc7e-3083-4c9b-9096-c717748c8d0d",
     "showTitle": false,
     "title": ""
    }
   },
   "source": [
    "* Validating the data location. We should see the files in this location as we are just copying the files in the parquet file format."
   ]
  },
  {
   "cell_type": "code",
   "execution_count": 20,
   "metadata": {
    "application/vnd.databricks.v1+cell": {
     "inputWidgets": {},
     "nuid": "4a037abb-7b08-474a-ad0a-ce9062e532dd",
     "showTitle": false,
     "title": ""
    }
   },
   "outputs": [
    {
     "name": "stdout",
     "output_type": "stream",
     "text": [
      "Found 3 items\n",
      "drwxr-xr-x   - itv007304 supergroup          0 2023-07-14 12:22 /user/itv007304/github/streaming/bronze/data/ghactivity/created_year=2023/created_month=07/created_dayofmonth=11\n",
      "drwxr-xr-x   - itv007304 supergroup          0 2023-07-25 10:32 /user/itv007304/github/streaming/bronze/data/ghactivity/created_year=2023/created_month=07/created_dayofmonth=12\n",
      "drwxr-xr-x   - itv007304 supergroup          0 2023-07-29 00:20 /user/itv007304/github/streaming/bronze/data/ghactivity/created_year=2023/created_month=07/created_dayofmonth=13\n"
     ]
    }
   ],
   "source": [
    "!hdfs dfs -ls /user/${USER}/github/streaming/bronze/data/ghactivity/created_year=2023/created_month=07"
   ]
  },
  {
   "cell_type": "code",
   "execution_count": 21,
   "metadata": {},
   "outputs": [
    {
     "name": "stdout",
     "output_type": "stream",
     "text": [
      "Found 24 items\n",
      "-rw-r--r--   3 itv007304 supergroup  205772846 2023-07-29 00:22 /user/itv007304/github/streaming/bronze/data/ghactivity/created_year=2023/created_month=07/created_dayofmonth=13/part-00000-99ff4ce2-7daf-4d40-9892-8b1439259318.c000.snappy.parquet\n",
      "-rw-r--r--   3 itv007304 supergroup  223230532 2023-07-29 00:20 /user/itv007304/github/streaming/bronze/data/ghactivity/created_year=2023/created_month=07/created_dayofmonth=13/part-00000-b6f8c050-43ba-4203-a061-a50e551c5ab4.c000.snappy.parquet\n",
      "-rw-r--r--   3 itv007304 supergroup  208222488 2023-07-29 00:17 /user/itv007304/github/streaming/bronze/data/ghactivity/created_year=2023/created_month=07/created_dayofmonth=13/part-00000-ecd72c59-de78-44e3-9bff-becead37acd9.c000.snappy.parquet\n",
      "-rw-r--r--   3 itv007304 supergroup  201686617 2023-07-29 00:17 /user/itv007304/github/streaming/bronze/data/ghactivity/created_year=2023/created_month=07/created_dayofmonth=13/part-00001-2691e150-c63a-4098-8d3d-57b2ccaade59.c000.snappy.parquet\n",
      "-rw-r--r--   3 itv007304 supergroup  178795956 2023-07-29 00:22 /user/itv007304/github/streaming/bronze/data/ghactivity/created_year=2023/created_month=07/created_dayofmonth=13/part-00001-e8c913c9-3b8a-440c-a241-ba030922fa37.c000.snappy.parquet\n",
      "-rw-r--r--   3 itv007304 supergroup  218493303 2023-07-29 00:20 /user/itv007304/github/streaming/bronze/data/ghactivity/created_year=2023/created_month=07/created_dayofmonth=13/part-00001-f0677526-d848-44d7-963e-872aa4d13aee.c000.snappy.parquet\n",
      "-rw-r--r--   3 itv007304 supergroup  195725372 2023-07-29 00:18 /user/itv007304/github/streaming/bronze/data/ghactivity/created_year=2023/created_month=07/created_dayofmonth=13/part-00002-60f710ab-c566-4a6f-a4a3-4541b5eb4c5c.c000.snappy.parquet\n",
      "-rw-r--r--   3 itv007304 supergroup  213085594 2023-07-29 00:20 /user/itv007304/github/streaming/bronze/data/ghactivity/created_year=2023/created_month=07/created_dayofmonth=13/part-00002-cbc240c1-60ed-4687-9526-c79927c2586f.c000.snappy.parquet\n",
      "-rw-r--r--   3 itv007304 supergroup  155737020 2023-07-29 00:22 /user/itv007304/github/streaming/bronze/data/ghactivity/created_year=2023/created_month=07/created_dayofmonth=13/part-00002-f12d788a-2f35-4177-aa26-bfb785fb3fec.c000.snappy.parquet\n",
      "-rw-r--r--   3 itv007304 supergroup  155127691 2023-07-29 00:21 /user/itv007304/github/streaming/bronze/data/ghactivity/created_year=2023/created_month=07/created_dayofmonth=13/part-00003-22818872-5692-4055-9eba-41b59080b895.c000.snappy.parquet\n",
      "-rw-r--r--   3 itv007304 supergroup  192994494 2023-07-29 00:18 /user/itv007304/github/streaming/bronze/data/ghactivity/created_year=2023/created_month=07/created_dayofmonth=13/part-00003-5e179d65-77de-45ab-a1d2-d9fbd7b2cf10.c000.snappy.parquet\n",
      "-rw-r--r--   3 itv007304 supergroup  214630135 2023-07-29 00:19 /user/itv007304/github/streaming/bronze/data/ghactivity/created_year=2023/created_month=07/created_dayofmonth=13/part-00003-c5c16c61-6048-47df-8446-b5e34e772ef0.c000.snappy.parquet\n",
      "-rw-r--r--   3 itv007304 supergroup  151179960 2023-07-29 00:21 /user/itv007304/github/streaming/bronze/data/ghactivity/created_year=2023/created_month=07/created_dayofmonth=13/part-00004-31f1ac59-90c9-491e-be76-e34e36d31b23.c000.snappy.parquet\n",
      "-rw-r--r--   3 itv007304 supergroup  194901494 2023-07-29 00:18 /user/itv007304/github/streaming/bronze/data/ghactivity/created_year=2023/created_month=07/created_dayofmonth=13/part-00004-c38a5f70-4ec3-46f2-9cd8-86aba5d1c35a.c000.snappy.parquet\n",
      "-rw-r--r--   3 itv007304 supergroup  213980635 2023-07-29 00:20 /user/itv007304/github/streaming/bronze/data/ghactivity/created_year=2023/created_month=07/created_dayofmonth=13/part-00004-e94a23f9-7c2e-4298-8f82-ccdaa5c8cd26.c000.snappy.parquet\n",
      "-rw-r--r--   3 itv007304 supergroup  204811074 2023-07-29 00:19 /user/itv007304/github/streaming/bronze/data/ghactivity/created_year=2023/created_month=07/created_dayofmonth=13/part-00005-9b80540f-073a-4e25-8484-f2a4cc0875ca.c000.snappy.parquet\n",
      "-rw-r--r--   3 itv007304 supergroup  179413910 2023-07-29 00:17 /user/itv007304/github/streaming/bronze/data/ghactivity/created_year=2023/created_month=07/created_dayofmonth=13/part-00005-bcf7467b-f760-4339-9f1e-d52008c814d8.c000.snappy.parquet\n",
      "-rw-r--r--   3 itv007304 supergroup  152434116 2023-07-29 00:22 /user/itv007304/github/streaming/bronze/data/ghactivity/created_year=2023/created_month=07/created_dayofmonth=13/part-00005-e35d995e-65e9-483a-ac09-db00a1afb936.c000.snappy.parquet\n",
      "-rw-r--r--   3 itv007304 supergroup  209888238 2023-07-29 00:19 /user/itv007304/github/streaming/bronze/data/ghactivity/created_year=2023/created_month=07/created_dayofmonth=13/part-00006-8e0336b3-f129-4389-9622-8f1a9d2ed6bb.c000.snappy.parquet\n",
      "-rw-r--r--   3 itv007304 supergroup  157741129 2023-07-29 00:18 /user/itv007304/github/streaming/bronze/data/ghactivity/created_year=2023/created_month=07/created_dayofmonth=13/part-00006-a0632359-17f1-46b2-8e18-5a5a6197e90c.c000.snappy.parquet\n",
      "-rw-r--r--   3 itv007304 supergroup  138893457 2023-07-29 00:21 /user/itv007304/github/streaming/bronze/data/ghactivity/created_year=2023/created_month=07/created_dayofmonth=13/part-00006-e008af3e-ae4c-48ca-b9bf-23948a5a38d6.c000.snappy.parquet\n",
      "-rw-r--r--   3 itv007304 supergroup  137068598 2023-07-29 00:21 /user/itv007304/github/streaming/bronze/data/ghactivity/created_year=2023/created_month=07/created_dayofmonth=13/part-00007-4e7951ff-416c-4d79-8436-31a8e9ffb2a6.c000.snappy.parquet\n",
      "-rw-r--r--   3 itv007304 supergroup  203035937 2023-07-29 00:20 /user/itv007304/github/streaming/bronze/data/ghactivity/created_year=2023/created_month=07/created_dayofmonth=13/part-00007-a765be8a-1190-4b06-b8fb-2613a8ccc464.c000.snappy.parquet\n",
      "-rw-r--r--   3 itv007304 supergroup  142788066 2023-07-29 00:17 /user/itv007304/github/streaming/bronze/data/ghactivity/created_year=2023/created_month=07/created_dayofmonth=13/part-00007-c373b2b9-de78-45ec-9d4e-2a579d3e1762.c000.snappy.parquet\n"
     ]
    }
   ],
   "source": [
    "!hdfs dfs -ls /user/${USER}/github/streaming/bronze/data/ghactivity/created_year=2023/created_month=07/created_dayofmonth=13"
   ]
  },
  {
   "cell_type": "code",
   "execution_count": null,
   "metadata": {
    "application/vnd.databricks.v1+cell": {
     "inputWidgets": {},
     "nuid": "b9f366c8-8a6f-4e35-878f-1bd79003a696",
     "showTitle": false,
     "title": ""
    }
   },
   "outputs": [],
   "source": [
    "!hdfs dfs -ls -R /user/${USER}/github/streaming/bronze/data/ghactivity"
   ]
  },
  {
   "cell_type": "markdown",
   "metadata": {
    "application/vnd.databricks.v1+cell": {
     "inputWidgets": {},
     "nuid": "3470cc47-5ed2-462c-b6ea-90bfaa96ffe0",
     "showTitle": false,
     "title": ""
    }
   },
   "source": [
    "* Validating the source location to see if the files are delted or not. "
   ]
  },
  {
   "cell_type": "code",
   "execution_count": 23,
   "metadata": {},
   "outputs": [
    {
     "name": "stdout",
     "output_type": "stream",
     "text": [
      "drwxr-xr-x   - itv007304 supergroup          0 2023-07-12 17:57 /user/itv007304/github/streaming/landing/ghactivity/year=2023\n",
      "drwxr-xr-x   - itv007304 supergroup          0 2023-07-28 23:25 /user/itv007304/github/streaming/landing/ghactivity/year=2023/month=07\n",
      "drwxr-xr-x   - itv007304 supergroup          0 2023-07-25 10:27 /user/itv007304/github/streaming/landing/ghactivity/year=2023/month=07/dayofmonth=11\n",
      "drwxr-xr-x   - itv007304 supergroup          0 2023-07-29 00:16 /user/itv007304/github/streaming/landing/ghactivity/year=2023/month=07/dayofmonth=12\n",
      "drwxr-xr-x   - itv007304 supergroup          0 2023-07-29 00:20 /user/itv007304/github/streaming/landing/ghactivity/year=2023/month=07/dayofmonth=13\n",
      "-rw-r--r--   3 itv007304 supergroup   79630690 2023-07-28 23:25 /user/itv007304/github/streaming/landing/ghactivity/year=2023/month=07/dayofmonth=13/2023-07-13-0.json.gz\n",
      "-rw-r--r--   3 itv007304 supergroup   79798127 2023-07-28 23:26 /user/itv007304/github/streaming/landing/ghactivity/year=2023/month=07/dayofmonth=13/2023-07-13-1.json.gz\n",
      "-rw-r--r--   3 itv007304 supergroup   77867768 2023-07-28 23:26 /user/itv007304/github/streaming/landing/ghactivity/year=2023/month=07/dayofmonth=13/2023-07-13-2.json.gz\n",
      "-rw-r--r--   3 itv007304 supergroup   69145000 2023-07-28 23:26 /user/itv007304/github/streaming/landing/ghactivity/year=2023/month=07/dayofmonth=13/2023-07-13-3.json.gz\n",
      "-rw-r--r--   3 itv007304 supergroup   69972124 2023-07-28 23:26 /user/itv007304/github/streaming/landing/ghactivity/year=2023/month=07/dayofmonth=13/2023-07-13-4.json.gz\n",
      "-rw-r--r--   3 itv007304 supergroup   77412726 2023-07-28 23:27 /user/itv007304/github/streaming/landing/ghactivity/year=2023/month=07/dayofmonth=13/2023-07-13-5.json.gz\n",
      "-rw-r--r--   3 itv007304 supergroup   90294865 2023-07-28 23:27 /user/itv007304/github/streaming/landing/ghactivity/year=2023/month=07/dayofmonth=13/2023-07-13-6.json.gz\n",
      "-rw-r--r--   3 itv007304 supergroup  103173997 2023-07-28 23:27 /user/itv007304/github/streaming/landing/ghactivity/year=2023/month=07/dayofmonth=13/2023-07-13-7.json.gz\n"
     ]
    }
   ],
   "source": [
    "!hdfs dfs -ls -R /user/${USER}/github/streaming/landing/ghactivity"
   ]
  },
  {
   "cell_type": "code",
   "execution_count": null,
   "metadata": {},
   "outputs": [],
   "source": []
  }
 ],
 "metadata": {
  "application/vnd.databricks.v1+notebook": {
   "dashboards": [],
   "language": "python",
   "notebookMetadata": {
    "pythonIndentUnit": 2
   },
   "notebookName": "10 Load Data Incrementally to Target Table",
   "notebookOrigID": 1346813181782072,
   "widgets": {}
  },
  "kernelspec": {
   "display_name": "Pyspark 3",
   "language": "python",
   "name": "pyspark3"
  },
  "language_info": {
   "codemirror_mode": {
    "name": "ipython",
    "version": 3
   },
   "file_extension": ".py",
   "mimetype": "text/x-python",
   "name": "python",
   "nbconvert_exporter": "python",
   "pygments_lexer": "ipython3",
   "version": "3.6.12"
  }
 },
 "nbformat": 4,
 "nbformat_minor": 4
}
