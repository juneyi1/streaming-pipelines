{
 "cells": [
  {
   "cell_type": "markdown",
   "metadata": {
    "application/vnd.databricks.v1+cell": {
     "inputWidgets": {},
     "nuid": "8d05356d-b391-4200-997f-8d2a06b270dd",
     "showTitle": false,
     "title": ""
    }
   },
   "source": [
    "## Add New GHActivity JSON files\n",
    "\n",
    "Let us add new files to the source and validate.\n",
    "* Create the function.\n",
    "* Run the function for all 24 hours for 2021-01-14."
   ]
  },
  {
   "cell_type": "code",
   "execution_count": null,
   "metadata": {
    "application/vnd.databricks.v1+cell": {
     "inputWidgets": {},
     "nuid": "d76e11f6-0eed-4262-811f-4aa3e5df5a61",
     "showTitle": false,
     "title": ""
    }
   },
   "outputs": [
    {
     "data": {
      "text/html": [
       "<style scoped>\n",
       "  .ansiout {\n",
       "    display: block;\n",
       "    unicode-bidi: embed;\n",
       "    white-space: pre-wrap;\n",
       "    word-wrap: break-word;\n",
       "    word-break: break-all;\n",
       "    font-family: \"Source Code Pro\", \"Menlo\", monospace;;\n",
       "    font-size: 13px;\n",
       "    color: #555;\n",
       "    margin-left: 4px;\n",
       "    line-height: 19px;\n",
       "  }\n",
       "</style>\n",
       "<div class=\"ansiout\"></div>"
      ]
     },
     "metadata": {
      "application/vnd.databricks.v1+output": {
       "addedWidgets": {},
       "arguments": {},
       "data": "<div class=\"ansiout\"></div>",
       "datasetInfos": [],
       "metadata": {},
       "removedWidgets": [],
       "type": "html"
      }
     },
     "output_type": "display_data"
    }
   ],
   "source": [
    "import requests\n",
    "import boto3\n",
    "\n",
    "def upload_gharchive_files_to_s3(file_name):\n",
    "  year = file_name[:4]\n",
    "  month = file_name[5:7]\n",
    "  dayofmonth = file_name[8:10]\n",
    "  res = requests.get(f'https://data.gharchive.org/{file_name}')\n",
    "  s3_client = boto3.client('s3')\n",
    "  upload_res = s3_client.put_object(\n",
    "    Bucket='itv-github-db',\n",
    "    Key=f'streaming/landing/ghactivity/year={year}/month={month}/dayofmonth={dayofmonth}/{file_name}',\n",
    "    Body=res.content\n",
    "  )"
   ]
  },
  {
   "cell_type": "code",
   "execution_count": null,
   "metadata": {
    "application/vnd.databricks.v1+cell": {
     "inputWidgets": {},
     "nuid": "78df4284-8b27-4b18-8b0c-4b8ff5625c09",
     "showTitle": false,
     "title": ""
    }
   },
   "outputs": [
    {
     "data": {
      "text/html": [
       "<style scoped>\n",
       "  .ansiout {\n",
       "    display: block;\n",
       "    unicode-bidi: embed;\n",
       "    white-space: pre-wrap;\n",
       "    word-wrap: break-word;\n",
       "    word-break: break-all;\n",
       "    font-family: \"Source Code Pro\", \"Menlo\", monospace;;\n",
       "    font-size: 13px;\n",
       "    color: #555;\n",
       "    margin-left: 4px;\n",
       "    line-height: 19px;\n",
       "  }\n",
       "</style>\n",
       "<div class=\"ansiout\"></div>"
      ]
     },
     "metadata": {
      "application/vnd.databricks.v1+output": {
       "addedWidgets": {},
       "arguments": {},
       "data": "<div class=\"ansiout\"></div>",
       "datasetInfos": [],
       "metadata": {},
       "removedWidgets": [],
       "type": "html"
      }
     },
     "output_type": "display_data"
    }
   ],
   "source": [
    "for hour in range(0, 24):\n",
    "  upload_gharchive_files_to_s3(f'2021-01-14-{hour}.json.gz')"
   ]
  },
  {
   "cell_type": "code",
   "execution_count": null,
   "metadata": {
    "application/vnd.databricks.v1+cell": {
     "inputWidgets": {},
     "nuid": "75e1a8ca-fdc6-4020-9205-c57169edef07",
     "showTitle": false,
     "title": ""
    }
   },
   "outputs": [
    {
     "data": {
      "text/html": [
       "<style scoped>\n",
       "  .ansiout {\n",
       "    display: block;\n",
       "    unicode-bidi: embed;\n",
       "    white-space: pre-wrap;\n",
       "    word-wrap: break-word;\n",
       "    word-break: break-all;\n",
       "    font-family: \"Source Code Pro\", \"Menlo\", monospace;;\n",
       "    font-size: 13px;\n",
       "    color: #555;\n",
       "    margin-left: 4px;\n",
       "    line-height: 19px;\n",
       "  }\n",
       "</style>\n",
       "<div class=\"ansiout\"></div>"
      ]
     },
     "metadata": {
      "application/vnd.databricks.v1+output": {
       "addedWidgets": {},
       "arguments": {},
       "data": "<div class=\"ansiout\"></div>",
       "datasetInfos": [],
       "metadata": {},
       "removedWidgets": [],
       "type": "html"
      }
     },
     "output_type": "display_data"
    }
   ],
   "source": [
    "import boto3"
   ]
  },
  {
   "cell_type": "code",
   "execution_count": null,
   "metadata": {
    "application/vnd.databricks.v1+cell": {
     "inputWidgets": {},
     "nuid": "ee6c3882-ad8e-4f99-94b6-e8a14b17f294",
     "showTitle": false,
     "title": ""
    }
   },
   "outputs": [
    {
     "data": {
      "text/html": [
       "<style scoped>\n",
       "  .ansiout {\n",
       "    display: block;\n",
       "    unicode-bidi: embed;\n",
       "    white-space: pre-wrap;\n",
       "    word-wrap: break-word;\n",
       "    word-break: break-all;\n",
       "    font-family: \"Source Code Pro\", \"Menlo\", monospace;;\n",
       "    font-size: 13px;\n",
       "    color: #555;\n",
       "    margin-left: 4px;\n",
       "    line-height: 19px;\n",
       "  }\n",
       "</style>\n",
       "<div class=\"ansiout\"></div>"
      ]
     },
     "metadata": {
      "application/vnd.databricks.v1+output": {
       "addedWidgets": {},
       "arguments": {},
       "data": "<div class=\"ansiout\"></div>",
       "datasetInfos": [],
       "metadata": {},
       "removedWidgets": [],
       "type": "html"
      }
     },
     "output_type": "display_data"
    }
   ],
   "source": [
    "s3_client = boto3.client('s3')"
   ]
  },
  {
   "cell_type": "code",
   "execution_count": null,
   "metadata": {
    "application/vnd.databricks.v1+cell": {
     "inputWidgets": {},
     "nuid": "b0d4e795-bf9f-48c9-8cbd-1fa0f9882cea",
     "showTitle": false,
     "title": ""
    }
   },
   "outputs": [
    {
     "data": {
      "text/html": [
       "<style scoped>\n",
       "  .ansiout {\n",
       "    display: block;\n",
       "    unicode-bidi: embed;\n",
       "    white-space: pre-wrap;\n",
       "    word-wrap: break-word;\n",
       "    word-break: break-all;\n",
       "    font-family: \"Source Code Pro\", \"Menlo\", monospace;;\n",
       "    font-size: 13px;\n",
       "    color: #555;\n",
       "    margin-left: 4px;\n",
       "    line-height: 19px;\n",
       "  }\n",
       "</style>\n",
       "<div class=\"ansiout\"></div>"
      ]
     },
     "metadata": {
      "application/vnd.databricks.v1+output": {
       "addedWidgets": {},
       "arguments": {},
       "data": "<div class=\"ansiout\"></div>",
       "datasetInfos": [],
       "metadata": {},
       "removedWidgets": [],
       "type": "html"
      }
     },
     "output_type": "display_data"
    }
   ],
   "source": [
    "objects = s3_client.list_objects(\n",
    "  Bucket='itv-github-db',\n",
    "  Prefix=f'streaming/landing/ghactivity/year=2021/month=01/dayofmonth=14/'\n",
    ")['Contents']"
   ]
  },
  {
   "cell_type": "code",
   "execution_count": null,
   "metadata": {
    "application/vnd.databricks.v1+cell": {
     "inputWidgets": {},
     "nuid": "86da9869-8a17-4ea3-9deb-1e61314d9710",
     "showTitle": false,
     "title": ""
    }
   },
   "outputs": [
    {
     "data": {
      "text/html": [
       "<style scoped>\n",
       "  .ansiout {\n",
       "    display: block;\n",
       "    unicode-bidi: embed;\n",
       "    white-space: pre-wrap;\n",
       "    word-wrap: break-word;\n",
       "    word-break: break-all;\n",
       "    font-family: \"Source Code Pro\", \"Menlo\", monospace;;\n",
       "    font-size: 13px;\n",
       "    color: #555;\n",
       "    margin-left: 4px;\n",
       "    line-height: 19px;\n",
       "  }\n",
       "</style>\n",
       "<div class=\"ansiout\">Out[6]: [{&#39;Key&#39;: &#39;streaming/landing/ghactivity/year=2021/month=01/dayofmonth=14/2021-01-14-0.json.gz&#39;,\n",
       "  &#39;LastModified&#39;: datetime.datetime(2021, 8, 9, 4, 4, 22, tzinfo=tzlocal()),\n",
       "  &#39;ETag&#39;: &#39;&#34;1a2892ffa3e18fd6c26d19d6a62f7224&#34;&#39;,\n",
       "  &#39;Size&#39;: 48939787,\n",
       "  &#39;StorageClass&#39;: &#39;STANDARD&#39;},\n",
       " {&#39;Key&#39;: &#39;streaming/landing/ghactivity/year=2021/month=01/dayofmonth=14/2021-01-14-1.json.gz&#39;,\n",
       "  &#39;LastModified&#39;: datetime.datetime(2021, 8, 9, 4, 4, 23, tzinfo=tzlocal()),\n",
       "  &#39;ETag&#39;: &#39;&#34;3660ce63d39277ed6d7b6d1c6370ab8f&#34;&#39;,\n",
       "  &#39;Size&#39;: 45571519,\n",
       "  &#39;StorageClass&#39;: &#39;STANDARD&#39;},\n",
       " {&#39;Key&#39;: &#39;streaming/landing/ghactivity/year=2021/month=01/dayofmonth=14/2021-01-14-10.json.gz&#39;,\n",
       "  &#39;LastModified&#39;: datetime.datetime(2021, 8, 9, 4, 4, 35, tzinfo=tzlocal()),\n",
       "  &#39;ETag&#39;: &#39;&#34;555610bd4b29385e89831b15cc19debe&#34;&#39;,\n",
       "  &#39;Size&#39;: 68647918,\n",
       "  &#39;StorageClass&#39;: &#39;STANDARD&#39;},\n",
       " {&#39;Key&#39;: &#39;streaming/landing/ghactivity/year=2021/month=01/dayofmonth=14/2021-01-14-11.json.gz&#39;,\n",
       "  &#39;LastModified&#39;: datetime.datetime(2021, 8, 9, 4, 4, 36, tzinfo=tzlocal()),\n",
       "  &#39;ETag&#39;: &#39;&#34;2dbaf99706928d1f412e8074621b474e&#34;&#39;,\n",
       "  &#39;Size&#39;: 64715976,\n",
       "  &#39;StorageClass&#39;: &#39;STANDARD&#39;},\n",
       " {&#39;Key&#39;: &#39;streaming/landing/ghactivity/year=2021/month=01/dayofmonth=14/2021-01-14-12.json.gz&#39;,\n",
       "  &#39;LastModified&#39;: datetime.datetime(2021, 8, 9, 4, 4, 38, tzinfo=tzlocal()),\n",
       "  &#39;ETag&#39;: &#39;&#34;91364adce16443667b51037aa322d934&#34;&#39;,\n",
       "  &#39;Size&#39;: 65023905,\n",
       "  &#39;StorageClass&#39;: &#39;STANDARD&#39;},\n",
       " {&#39;Key&#39;: &#39;streaming/landing/ghactivity/year=2021/month=01/dayofmonth=14/2021-01-14-13.json.gz&#39;,\n",
       "  &#39;LastModified&#39;: datetime.datetime(2021, 8, 9, 4, 4, 41, tzinfo=tzlocal()),\n",
       "  &#39;ETag&#39;: &#39;&#34;31a4eb14aa973fc62cc02b00fe21d6e9&#34;&#39;,\n",
       "  &#39;Size&#39;: 72086940,\n",
       "  &#39;StorageClass&#39;: &#39;STANDARD&#39;},\n",
       " {&#39;Key&#39;: &#39;streaming/landing/ghactivity/year=2021/month=01/dayofmonth=14/2021-01-14-14.json.gz&#39;,\n",
       "  &#39;LastModified&#39;: datetime.datetime(2021, 8, 9, 4, 4, 43, tzinfo=tzlocal()),\n",
       "  &#39;ETag&#39;: &#39;&#34;2ffd08b6faea8a61cb223e93e139f88f&#34;&#39;,\n",
       "  &#39;Size&#39;: 79622290,\n",
       "  &#39;StorageClass&#39;: &#39;STANDARD&#39;},\n",
       " {&#39;Key&#39;: &#39;streaming/landing/ghactivity/year=2021/month=01/dayofmonth=14/2021-01-14-15.json.gz&#39;,\n",
       "  &#39;LastModified&#39;: datetime.datetime(2021, 8, 9, 4, 4, 45, tzinfo=tzlocal()),\n",
       "  &#39;ETag&#39;: &#39;&#34;f7fac9b927d385574a650a135bca5e4c&#34;&#39;,\n",
       "  &#39;Size&#39;: 82477550,\n",
       "  &#39;StorageClass&#39;: &#39;STANDARD&#39;},\n",
       " {&#39;Key&#39;: &#39;streaming/landing/ghactivity/year=2021/month=01/dayofmonth=14/2021-01-14-16.json.gz&#39;,\n",
       "  &#39;LastModified&#39;: datetime.datetime(2021, 8, 9, 4, 4, 46, tzinfo=tzlocal()),\n",
       "  &#39;ETag&#39;: &#39;&#34;15baec55cc6ec881218f93880340c973&#34;&#39;,\n",
       "  &#39;Size&#39;: 79619325,\n",
       "  &#39;StorageClass&#39;: &#39;STANDARD&#39;},\n",
       " {&#39;Key&#39;: &#39;streaming/landing/ghactivity/year=2021/month=01/dayofmonth=14/2021-01-14-17.json.gz&#39;,\n",
       "  &#39;LastModified&#39;: datetime.datetime(2021, 8, 9, 4, 4, 48, tzinfo=tzlocal()),\n",
       "  &#39;ETag&#39;: &#39;&#34;195ab2570aff295272e917e087294ac2&#34;&#39;,\n",
       "  &#39;Size&#39;: 75428029,\n",
       "  &#39;StorageClass&#39;: &#39;STANDARD&#39;},\n",
       " {&#39;Key&#39;: &#39;streaming/landing/ghactivity/year=2021/month=01/dayofmonth=14/2021-01-14-18.json.gz&#39;,\n",
       "  &#39;LastModified&#39;: datetime.datetime(2021, 8, 9, 4, 4, 49, tzinfo=tzlocal()),\n",
       "  &#39;ETag&#39;: &#39;&#34;39c9f353c22ab2619f4b0e0cd94b0e1b&#34;&#39;,\n",
       "  &#39;Size&#39;: 69959798,\n",
       "  &#39;StorageClass&#39;: &#39;STANDARD&#39;},\n",
       " {&#39;Key&#39;: &#39;streaming/landing/ghactivity/year=2021/month=01/dayofmonth=14/2021-01-14-19.json.gz&#39;,\n",
       "  &#39;LastModified&#39;: datetime.datetime(2021, 8, 9, 4, 4, 50, tzinfo=tzlocal()),\n",
       "  &#39;ETag&#39;: &#39;&#34;9a2b35df65870336b56363d9bd75b1ec&#34;&#39;,\n",
       "  &#39;Size&#39;: 77306109,\n",
       "  &#39;StorageClass&#39;: &#39;STANDARD&#39;},\n",
       " {&#39;Key&#39;: &#39;streaming/landing/ghactivity/year=2021/month=01/dayofmonth=14/2021-01-14-2.json.gz&#39;,\n",
       "  &#39;LastModified&#39;: datetime.datetime(2021, 8, 9, 4, 4, 25, tzinfo=tzlocal()),\n",
       "  &#39;ETag&#39;: &#39;&#34;e45362c78ccbb35b8e7708f634a66f7e&#34;&#39;,\n",
       "  &#39;Size&#39;: 45418752,\n",
       "  &#39;StorageClass&#39;: &#39;STANDARD&#39;},\n",
       " {&#39;Key&#39;: &#39;streaming/landing/ghactivity/year=2021/month=01/dayofmonth=14/2021-01-14-20.json.gz&#39;,\n",
       "  &#39;LastModified&#39;: datetime.datetime(2021, 8, 9, 4, 4, 52, tzinfo=tzlocal()),\n",
       "  &#39;ETag&#39;: &#39;&#34;054d13fade96303c8789270ff1fe778e&#34;&#39;,\n",
       "  &#39;Size&#39;: 94160369,\n",
       "  &#39;StorageClass&#39;: &#39;STANDARD&#39;},\n",
       " {&#39;Key&#39;: &#39;streaming/landing/ghactivity/year=2021/month=01/dayofmonth=14/2021-01-14-21.json.gz&#39;,\n",
       "  &#39;LastModified&#39;: datetime.datetime(2021, 8, 9, 4, 4, 54, tzinfo=tzlocal()),\n",
       "  &#39;ETag&#39;: &#39;&#34;ad5e33d119adc350b375f19fe4220b4c&#34;&#39;,\n",
       "  &#39;Size&#39;: 65861337,\n",
       "  &#39;StorageClass&#39;: &#39;STANDARD&#39;},\n",
       " {&#39;Key&#39;: &#39;streaming/landing/ghactivity/year=2021/month=01/dayofmonth=14/2021-01-14-22.json.gz&#39;,\n",
       "  &#39;LastModified&#39;: datetime.datetime(2021, 8, 9, 4, 4, 55, tzinfo=tzlocal()),\n",
       "  &#39;ETag&#39;: &#39;&#34;f6c1b24a407ad9137ee4e4ad06bb41cb&#34;&#39;,\n",
       "  &#39;Size&#39;: 61744991,\n",
       "  &#39;StorageClass&#39;: &#39;STANDARD&#39;},\n",
       " {&#39;Key&#39;: &#39;streaming/landing/ghactivity/year=2021/month=01/dayofmonth=14/2021-01-14-23.json.gz&#39;,\n",
       "  &#39;LastModified&#39;: datetime.datetime(2021, 8, 9, 4, 4, 57, tzinfo=tzlocal()),\n",
       "  &#39;ETag&#39;: &#39;&#34;837314cf5464556d42a1bf305797ae2c&#34;&#39;,\n",
       "  &#39;Size&#39;: 54949831,\n",
       "  &#39;StorageClass&#39;: &#39;STANDARD&#39;},\n",
       " {&#39;Key&#39;: &#39;streaming/landing/ghactivity/year=2021/month=01/dayofmonth=14/2021-01-14-3.json.gz&#39;,\n",
       "  &#39;LastModified&#39;: datetime.datetime(2021, 8, 9, 4, 4, 26, tzinfo=tzlocal()),\n",
       "  &#39;ETag&#39;: &#39;&#34;b92c0180716594eb814fcd04e00e778f&#34;&#39;,\n",
       "  &#39;Size&#39;: 43278885,\n",
       "  &#39;StorageClass&#39;: &#39;STANDARD&#39;},\n",
       " {&#39;Key&#39;: &#39;streaming/landing/ghactivity/year=2021/month=01/dayofmonth=14/2021-01-14-4.json.gz&#39;,\n",
       "  &#39;LastModified&#39;: datetime.datetime(2021, 8, 9, 4, 4, 27, tzinfo=tzlocal()),\n",
       "  &#39;ETag&#39;: &#39;&#34;777037f091c3a21291f02e71d7bbb7ab&#34;&#39;,\n",
       "  &#39;Size&#39;: 42641735,\n",
       "  &#39;StorageClass&#39;: &#39;STANDARD&#39;},\n",
       " {&#39;Key&#39;: &#39;streaming/landing/ghactivity/year=2021/month=01/dayofmonth=14/2021-01-14-5.json.gz&#39;,\n",
       "  &#39;LastModified&#39;: datetime.datetime(2021, 8, 9, 4, 4, 28, tzinfo=tzlocal()),\n",
       "  &#39;ETag&#39;: &#39;&#34;cbddb040bd6c493d107d84ff9929077f&#34;&#39;,\n",
       "  &#39;Size&#39;: 55102086,\n",
       "  &#39;StorageClass&#39;: &#39;STANDARD&#39;},\n",
       " {&#39;Key&#39;: &#39;streaming/landing/ghactivity/year=2021/month=01/dayofmonth=14/2021-01-14-6.json.gz&#39;,\n",
       "  &#39;LastModified&#39;: datetime.datetime(2021, 8, 9, 4, 4, 30, tzinfo=tzlocal()),\n",
       "  &#39;ETag&#39;: &#39;&#34;8c182f35458f18a52f94a73faca599f1&#34;&#39;,\n",
       "  &#39;Size&#39;: 65292924,\n",
       "  &#39;StorageClass&#39;: &#39;STANDARD&#39;},\n",
       " {&#39;Key&#39;: &#39;streaming/landing/ghactivity/year=2021/month=01/dayofmonth=14/2021-01-14-7.json.gz&#39;,\n",
       "  &#39;LastModified&#39;: datetime.datetime(2021, 8, 9, 4, 4, 31, tzinfo=tzlocal()),\n",
       "  &#39;ETag&#39;: &#39;&#34;d5e8628908efca4a61211ce79fc4147f&#34;&#39;,\n",
       "  &#39;Size&#39;: 64296969,\n",
       "  &#39;StorageClass&#39;: &#39;STANDARD&#39;},\n",
       " {&#39;Key&#39;: &#39;streaming/landing/ghactivity/year=2021/month=01/dayofmonth=14/2021-01-14-8.json.gz&#39;,\n",
       "  &#39;LastModified&#39;: datetime.datetime(2021, 8, 9, 4, 4, 33, tzinfo=tzlocal()),\n",
       "  &#39;ETag&#39;: &#39;&#34;949ca4ec96df2cae96128fd8fc975eee&#34;&#39;,\n",
       "  &#39;Size&#39;: 63686075,\n",
       "  &#39;StorageClass&#39;: &#39;STANDARD&#39;},\n",
       " {&#39;Key&#39;: &#39;streaming/landing/ghactivity/year=2021/month=01/dayofmonth=14/2021-01-14-9.json.gz&#39;,\n",
       "  &#39;LastModified&#39;: datetime.datetime(2021, 8, 9, 4, 4, 34, tzinfo=tzlocal()),\n",
       "  &#39;ETag&#39;: &#39;&#34;a72ce91a477aae4777ae76b134f060a6&#34;&#39;,\n",
       "  &#39;Size&#39;: 70178774,\n",
       "  &#39;StorageClass&#39;: &#39;STANDARD&#39;}]</div>"
      ]
     },
     "metadata": {
      "application/vnd.databricks.v1+output": {
       "addedWidgets": {},
       "arguments": {},
       "data": "<div class=\"ansiout\">Out[6]: [{&#39;Key&#39;: &#39;streaming/landing/ghactivity/year=2021/month=01/dayofmonth=14/2021-01-14-0.json.gz&#39;,\n  &#39;LastModified&#39;: datetime.datetime(2021, 8, 9, 4, 4, 22, tzinfo=tzlocal()),\n  &#39;ETag&#39;: &#39;&#34;1a2892ffa3e18fd6c26d19d6a62f7224&#34;&#39;,\n  &#39;Size&#39;: 48939787,\n  &#39;StorageClass&#39;: &#39;STANDARD&#39;},\n {&#39;Key&#39;: &#39;streaming/landing/ghactivity/year=2021/month=01/dayofmonth=14/2021-01-14-1.json.gz&#39;,\n  &#39;LastModified&#39;: datetime.datetime(2021, 8, 9, 4, 4, 23, tzinfo=tzlocal()),\n  &#39;ETag&#39;: &#39;&#34;3660ce63d39277ed6d7b6d1c6370ab8f&#34;&#39;,\n  &#39;Size&#39;: 45571519,\n  &#39;StorageClass&#39;: &#39;STANDARD&#39;},\n {&#39;Key&#39;: &#39;streaming/landing/ghactivity/year=2021/month=01/dayofmonth=14/2021-01-14-10.json.gz&#39;,\n  &#39;LastModified&#39;: datetime.datetime(2021, 8, 9, 4, 4, 35, tzinfo=tzlocal()),\n  &#39;ETag&#39;: &#39;&#34;555610bd4b29385e89831b15cc19debe&#34;&#39;,\n  &#39;Size&#39;: 68647918,\n  &#39;StorageClass&#39;: &#39;STANDARD&#39;},\n {&#39;Key&#39;: &#39;streaming/landing/ghactivity/year=2021/month=01/dayofmonth=14/2021-01-14-11.json.gz&#39;,\n  &#39;LastModified&#39;: datetime.datetime(2021, 8, 9, 4, 4, 36, tzinfo=tzlocal()),\n  &#39;ETag&#39;: &#39;&#34;2dbaf99706928d1f412e8074621b474e&#34;&#39;,\n  &#39;Size&#39;: 64715976,\n  &#39;StorageClass&#39;: &#39;STANDARD&#39;},\n {&#39;Key&#39;: &#39;streaming/landing/ghactivity/year=2021/month=01/dayofmonth=14/2021-01-14-12.json.gz&#39;,\n  &#39;LastModified&#39;: datetime.datetime(2021, 8, 9, 4, 4, 38, tzinfo=tzlocal()),\n  &#39;ETag&#39;: &#39;&#34;91364adce16443667b51037aa322d934&#34;&#39;,\n  &#39;Size&#39;: 65023905,\n  &#39;StorageClass&#39;: &#39;STANDARD&#39;},\n {&#39;Key&#39;: &#39;streaming/landing/ghactivity/year=2021/month=01/dayofmonth=14/2021-01-14-13.json.gz&#39;,\n  &#39;LastModified&#39;: datetime.datetime(2021, 8, 9, 4, 4, 41, tzinfo=tzlocal()),\n  &#39;ETag&#39;: &#39;&#34;31a4eb14aa973fc62cc02b00fe21d6e9&#34;&#39;,\n  &#39;Size&#39;: 72086940,\n  &#39;StorageClass&#39;: &#39;STANDARD&#39;},\n {&#39;Key&#39;: &#39;streaming/landing/ghactivity/year=2021/month=01/dayofmonth=14/2021-01-14-14.json.gz&#39;,\n  &#39;LastModified&#39;: datetime.datetime(2021, 8, 9, 4, 4, 43, tzinfo=tzlocal()),\n  &#39;ETag&#39;: &#39;&#34;2ffd08b6faea8a61cb223e93e139f88f&#34;&#39;,\n  &#39;Size&#39;: 79622290,\n  &#39;StorageClass&#39;: &#39;STANDARD&#39;},\n {&#39;Key&#39;: &#39;streaming/landing/ghactivity/year=2021/month=01/dayofmonth=14/2021-01-14-15.json.gz&#39;,\n  &#39;LastModified&#39;: datetime.datetime(2021, 8, 9, 4, 4, 45, tzinfo=tzlocal()),\n  &#39;ETag&#39;: &#39;&#34;f7fac9b927d385574a650a135bca5e4c&#34;&#39;,\n  &#39;Size&#39;: 82477550,\n  &#39;StorageClass&#39;: &#39;STANDARD&#39;},\n {&#39;Key&#39;: &#39;streaming/landing/ghactivity/year=2021/month=01/dayofmonth=14/2021-01-14-16.json.gz&#39;,\n  &#39;LastModified&#39;: datetime.datetime(2021, 8, 9, 4, 4, 46, tzinfo=tzlocal()),\n  &#39;ETag&#39;: &#39;&#34;15baec55cc6ec881218f93880340c973&#34;&#39;,\n  &#39;Size&#39;: 79619325,\n  &#39;StorageClass&#39;: &#39;STANDARD&#39;},\n {&#39;Key&#39;: &#39;streaming/landing/ghactivity/year=2021/month=01/dayofmonth=14/2021-01-14-17.json.gz&#39;,\n  &#39;LastModified&#39;: datetime.datetime(2021, 8, 9, 4, 4, 48, tzinfo=tzlocal()),\n  &#39;ETag&#39;: &#39;&#34;195ab2570aff295272e917e087294ac2&#34;&#39;,\n  &#39;Size&#39;: 75428029,\n  &#39;StorageClass&#39;: &#39;STANDARD&#39;},\n {&#39;Key&#39;: &#39;streaming/landing/ghactivity/year=2021/month=01/dayofmonth=14/2021-01-14-18.json.gz&#39;,\n  &#39;LastModified&#39;: datetime.datetime(2021, 8, 9, 4, 4, 49, tzinfo=tzlocal()),\n  &#39;ETag&#39;: &#39;&#34;39c9f353c22ab2619f4b0e0cd94b0e1b&#34;&#39;,\n  &#39;Size&#39;: 69959798,\n  &#39;StorageClass&#39;: &#39;STANDARD&#39;},\n {&#39;Key&#39;: &#39;streaming/landing/ghactivity/year=2021/month=01/dayofmonth=14/2021-01-14-19.json.gz&#39;,\n  &#39;LastModified&#39;: datetime.datetime(2021, 8, 9, 4, 4, 50, tzinfo=tzlocal()),\n  &#39;ETag&#39;: &#39;&#34;9a2b35df65870336b56363d9bd75b1ec&#34;&#39;,\n  &#39;Size&#39;: 77306109,\n  &#39;StorageClass&#39;: &#39;STANDARD&#39;},\n {&#39;Key&#39;: &#39;streaming/landing/ghactivity/year=2021/month=01/dayofmonth=14/2021-01-14-2.json.gz&#39;,\n  &#39;LastModified&#39;: datetime.datetime(2021, 8, 9, 4, 4, 25, tzinfo=tzlocal()),\n  &#39;ETag&#39;: &#39;&#34;e45362c78ccbb35b8e7708f634a66f7e&#34;&#39;,\n  &#39;Size&#39;: 45418752,\n  &#39;StorageClass&#39;: &#39;STANDARD&#39;},\n {&#39;Key&#39;: &#39;streaming/landing/ghactivity/year=2021/month=01/dayofmonth=14/2021-01-14-20.json.gz&#39;,\n  &#39;LastModified&#39;: datetime.datetime(2021, 8, 9, 4, 4, 52, tzinfo=tzlocal()),\n  &#39;ETag&#39;: &#39;&#34;054d13fade96303c8789270ff1fe778e&#34;&#39;,\n  &#39;Size&#39;: 94160369,\n  &#39;StorageClass&#39;: &#39;STANDARD&#39;},\n {&#39;Key&#39;: &#39;streaming/landing/ghactivity/year=2021/month=01/dayofmonth=14/2021-01-14-21.json.gz&#39;,\n  &#39;LastModified&#39;: datetime.datetime(2021, 8, 9, 4, 4, 54, tzinfo=tzlocal()),\n  &#39;ETag&#39;: &#39;&#34;ad5e33d119adc350b375f19fe4220b4c&#34;&#39;,\n  &#39;Size&#39;: 65861337,\n  &#39;StorageClass&#39;: &#39;STANDARD&#39;},\n {&#39;Key&#39;: &#39;streaming/landing/ghactivity/year=2021/month=01/dayofmonth=14/2021-01-14-22.json.gz&#39;,\n  &#39;LastModified&#39;: datetime.datetime(2021, 8, 9, 4, 4, 55, tzinfo=tzlocal()),\n  &#39;ETag&#39;: &#39;&#34;f6c1b24a407ad9137ee4e4ad06bb41cb&#34;&#39;,\n  &#39;Size&#39;: 61744991,\n  &#39;StorageClass&#39;: &#39;STANDARD&#39;},\n {&#39;Key&#39;: &#39;streaming/landing/ghactivity/year=2021/month=01/dayofmonth=14/2021-01-14-23.json.gz&#39;,\n  &#39;LastModified&#39;: datetime.datetime(2021, 8, 9, 4, 4, 57, tzinfo=tzlocal()),\n  &#39;ETag&#39;: &#39;&#34;837314cf5464556d42a1bf305797ae2c&#34;&#39;,\n  &#39;Size&#39;: 54949831,\n  &#39;StorageClass&#39;: &#39;STANDARD&#39;},\n {&#39;Key&#39;: &#39;streaming/landing/ghactivity/year=2021/month=01/dayofmonth=14/2021-01-14-3.json.gz&#39;,\n  &#39;LastModified&#39;: datetime.datetime(2021, 8, 9, 4, 4, 26, tzinfo=tzlocal()),\n  &#39;ETag&#39;: &#39;&#34;b92c0180716594eb814fcd04e00e778f&#34;&#39;,\n  &#39;Size&#39;: 43278885,\n  &#39;StorageClass&#39;: &#39;STANDARD&#39;},\n {&#39;Key&#39;: &#39;streaming/landing/ghactivity/year=2021/month=01/dayofmonth=14/2021-01-14-4.json.gz&#39;,\n  &#39;LastModified&#39;: datetime.datetime(2021, 8, 9, 4, 4, 27, tzinfo=tzlocal()),\n  &#39;ETag&#39;: &#39;&#34;777037f091c3a21291f02e71d7bbb7ab&#34;&#39;,\n  &#39;Size&#39;: 42641735,\n  &#39;StorageClass&#39;: &#39;STANDARD&#39;},\n {&#39;Key&#39;: &#39;streaming/landing/ghactivity/year=2021/month=01/dayofmonth=14/2021-01-14-5.json.gz&#39;,\n  &#39;LastModified&#39;: datetime.datetime(2021, 8, 9, 4, 4, 28, tzinfo=tzlocal()),\n  &#39;ETag&#39;: &#39;&#34;cbddb040bd6c493d107d84ff9929077f&#34;&#39;,\n  &#39;Size&#39;: 55102086,\n  &#39;StorageClass&#39;: &#39;STANDARD&#39;},\n {&#39;Key&#39;: &#39;streaming/landing/ghactivity/year=2021/month=01/dayofmonth=14/2021-01-14-6.json.gz&#39;,\n  &#39;LastModified&#39;: datetime.datetime(2021, 8, 9, 4, 4, 30, tzinfo=tzlocal()),\n  &#39;ETag&#39;: &#39;&#34;8c182f35458f18a52f94a73faca599f1&#34;&#39;,\n  &#39;Size&#39;: 65292924,\n  &#39;StorageClass&#39;: &#39;STANDARD&#39;},\n {&#39;Key&#39;: &#39;streaming/landing/ghactivity/year=2021/month=01/dayofmonth=14/2021-01-14-7.json.gz&#39;,\n  &#39;LastModified&#39;: datetime.datetime(2021, 8, 9, 4, 4, 31, tzinfo=tzlocal()),\n  &#39;ETag&#39;: &#39;&#34;d5e8628908efca4a61211ce79fc4147f&#34;&#39;,\n  &#39;Size&#39;: 64296969,\n  &#39;StorageClass&#39;: &#39;STANDARD&#39;},\n {&#39;Key&#39;: &#39;streaming/landing/ghactivity/year=2021/month=01/dayofmonth=14/2021-01-14-8.json.gz&#39;,\n  &#39;LastModified&#39;: datetime.datetime(2021, 8, 9, 4, 4, 33, tzinfo=tzlocal()),\n  &#39;ETag&#39;: &#39;&#34;949ca4ec96df2cae96128fd8fc975eee&#34;&#39;,\n  &#39;Size&#39;: 63686075,\n  &#39;StorageClass&#39;: &#39;STANDARD&#39;},\n {&#39;Key&#39;: &#39;streaming/landing/ghactivity/year=2021/month=01/dayofmonth=14/2021-01-14-9.json.gz&#39;,\n  &#39;LastModified&#39;: datetime.datetime(2021, 8, 9, 4, 4, 34, tzinfo=tzlocal()),\n  &#39;ETag&#39;: &#39;&#34;a72ce91a477aae4777ae76b134f060a6&#34;&#39;,\n  &#39;Size&#39;: 70178774,\n  &#39;StorageClass&#39;: &#39;STANDARD&#39;}]</div>",
       "datasetInfos": [],
       "metadata": {},
       "removedWidgets": [],
       "type": "html"
      }
     },
     "output_type": "display_data"
    }
   ],
   "source": [
    "objects"
   ]
  },
  {
   "cell_type": "code",
   "execution_count": null,
   "metadata": {
    "application/vnd.databricks.v1+cell": {
     "inputWidgets": {},
     "nuid": "3f3c2817-6bfb-4099-99ea-b5882f183dce",
     "showTitle": false,
     "title": ""
    }
   },
   "outputs": [
    {
     "data": {
      "text/html": [
       "<style scoped>\n",
       "  .ansiout {\n",
       "    display: block;\n",
       "    unicode-bidi: embed;\n",
       "    white-space: pre-wrap;\n",
       "    word-wrap: break-word;\n",
       "    word-break: break-all;\n",
       "    font-family: \"Source Code Pro\", \"Menlo\", monospace;;\n",
       "    font-size: 13px;\n",
       "    color: #555;\n",
       "    margin-left: 4px;\n",
       "    line-height: 19px;\n",
       "  }\n",
       "</style>\n",
       "<div class=\"ansiout\">Out[7]: [&#39;streaming/landing/ghactivity/year=2021/month=01/dayofmonth=14/2021-01-14-0.json.gz&#39;,\n",
       " &#39;streaming/landing/ghactivity/year=2021/month=01/dayofmonth=14/2021-01-14-1.json.gz&#39;,\n",
       " &#39;streaming/landing/ghactivity/year=2021/month=01/dayofmonth=14/2021-01-14-10.json.gz&#39;,\n",
       " &#39;streaming/landing/ghactivity/year=2021/month=01/dayofmonth=14/2021-01-14-11.json.gz&#39;,\n",
       " &#39;streaming/landing/ghactivity/year=2021/month=01/dayofmonth=14/2021-01-14-12.json.gz&#39;,\n",
       " &#39;streaming/landing/ghactivity/year=2021/month=01/dayofmonth=14/2021-01-14-13.json.gz&#39;,\n",
       " &#39;streaming/landing/ghactivity/year=2021/month=01/dayofmonth=14/2021-01-14-14.json.gz&#39;,\n",
       " &#39;streaming/landing/ghactivity/year=2021/month=01/dayofmonth=14/2021-01-14-15.json.gz&#39;,\n",
       " &#39;streaming/landing/ghactivity/year=2021/month=01/dayofmonth=14/2021-01-14-16.json.gz&#39;,\n",
       " &#39;streaming/landing/ghactivity/year=2021/month=01/dayofmonth=14/2021-01-14-17.json.gz&#39;,\n",
       " &#39;streaming/landing/ghactivity/year=2021/month=01/dayofmonth=14/2021-01-14-18.json.gz&#39;,\n",
       " &#39;streaming/landing/ghactivity/year=2021/month=01/dayofmonth=14/2021-01-14-19.json.gz&#39;,\n",
       " &#39;streaming/landing/ghactivity/year=2021/month=01/dayofmonth=14/2021-01-14-2.json.gz&#39;,\n",
       " &#39;streaming/landing/ghactivity/year=2021/month=01/dayofmonth=14/2021-01-14-20.json.gz&#39;,\n",
       " &#39;streaming/landing/ghactivity/year=2021/month=01/dayofmonth=14/2021-01-14-21.json.gz&#39;,\n",
       " &#39;streaming/landing/ghactivity/year=2021/month=01/dayofmonth=14/2021-01-14-22.json.gz&#39;,\n",
       " &#39;streaming/landing/ghactivity/year=2021/month=01/dayofmonth=14/2021-01-14-23.json.gz&#39;,\n",
       " &#39;streaming/landing/ghactivity/year=2021/month=01/dayofmonth=14/2021-01-14-3.json.gz&#39;,\n",
       " &#39;streaming/landing/ghactivity/year=2021/month=01/dayofmonth=14/2021-01-14-4.json.gz&#39;,\n",
       " &#39;streaming/landing/ghactivity/year=2021/month=01/dayofmonth=14/2021-01-14-5.json.gz&#39;,\n",
       " &#39;streaming/landing/ghactivity/year=2021/month=01/dayofmonth=14/2021-01-14-6.json.gz&#39;,\n",
       " &#39;streaming/landing/ghactivity/year=2021/month=01/dayofmonth=14/2021-01-14-7.json.gz&#39;,\n",
       " &#39;streaming/landing/ghactivity/year=2021/month=01/dayofmonth=14/2021-01-14-8.json.gz&#39;,\n",
       " &#39;streaming/landing/ghactivity/year=2021/month=01/dayofmonth=14/2021-01-14-9.json.gz&#39;]</div>"
      ]
     },
     "metadata": {
      "application/vnd.databricks.v1+output": {
       "addedWidgets": {},
       "arguments": {},
       "data": "<div class=\"ansiout\">Out[7]: [&#39;streaming/landing/ghactivity/year=2021/month=01/dayofmonth=14/2021-01-14-0.json.gz&#39;,\n &#39;streaming/landing/ghactivity/year=2021/month=01/dayofmonth=14/2021-01-14-1.json.gz&#39;,\n &#39;streaming/landing/ghactivity/year=2021/month=01/dayofmonth=14/2021-01-14-10.json.gz&#39;,\n &#39;streaming/landing/ghactivity/year=2021/month=01/dayofmonth=14/2021-01-14-11.json.gz&#39;,\n &#39;streaming/landing/ghactivity/year=2021/month=01/dayofmonth=14/2021-01-14-12.json.gz&#39;,\n &#39;streaming/landing/ghactivity/year=2021/month=01/dayofmonth=14/2021-01-14-13.json.gz&#39;,\n &#39;streaming/landing/ghactivity/year=2021/month=01/dayofmonth=14/2021-01-14-14.json.gz&#39;,\n &#39;streaming/landing/ghactivity/year=2021/month=01/dayofmonth=14/2021-01-14-15.json.gz&#39;,\n &#39;streaming/landing/ghactivity/year=2021/month=01/dayofmonth=14/2021-01-14-16.json.gz&#39;,\n &#39;streaming/landing/ghactivity/year=2021/month=01/dayofmonth=14/2021-01-14-17.json.gz&#39;,\n &#39;streaming/landing/ghactivity/year=2021/month=01/dayofmonth=14/2021-01-14-18.json.gz&#39;,\n &#39;streaming/landing/ghactivity/year=2021/month=01/dayofmonth=14/2021-01-14-19.json.gz&#39;,\n &#39;streaming/landing/ghactivity/year=2021/month=01/dayofmonth=14/2021-01-14-2.json.gz&#39;,\n &#39;streaming/landing/ghactivity/year=2021/month=01/dayofmonth=14/2021-01-14-20.json.gz&#39;,\n &#39;streaming/landing/ghactivity/year=2021/month=01/dayofmonth=14/2021-01-14-21.json.gz&#39;,\n &#39;streaming/landing/ghactivity/year=2021/month=01/dayofmonth=14/2021-01-14-22.json.gz&#39;,\n &#39;streaming/landing/ghactivity/year=2021/month=01/dayofmonth=14/2021-01-14-23.json.gz&#39;,\n &#39;streaming/landing/ghactivity/year=2021/month=01/dayofmonth=14/2021-01-14-3.json.gz&#39;,\n &#39;streaming/landing/ghactivity/year=2021/month=01/dayofmonth=14/2021-01-14-4.json.gz&#39;,\n &#39;streaming/landing/ghactivity/year=2021/month=01/dayofmonth=14/2021-01-14-5.json.gz&#39;,\n &#39;streaming/landing/ghactivity/year=2021/month=01/dayofmonth=14/2021-01-14-6.json.gz&#39;,\n &#39;streaming/landing/ghactivity/year=2021/month=01/dayofmonth=14/2021-01-14-7.json.gz&#39;,\n &#39;streaming/landing/ghactivity/year=2021/month=01/dayofmonth=14/2021-01-14-8.json.gz&#39;,\n &#39;streaming/landing/ghactivity/year=2021/month=01/dayofmonth=14/2021-01-14-9.json.gz&#39;]</div>",
       "datasetInfos": [],
       "metadata": {},
       "removedWidgets": [],
       "type": "html"
      }
     },
     "output_type": "display_data"
    }
   ],
   "source": [
    "list(map(lambda object: object['Key'], objects))"
   ]
  },
  {
   "cell_type": "code",
   "execution_count": null,
   "metadata": {
    "application/vnd.databricks.v1+cell": {
     "inputWidgets": {},
     "nuid": "ba80cf08-09f5-478d-ab0b-841ba1caee37",
     "showTitle": false,
     "title": ""
    }
   },
   "outputs": [],
   "source": []
  }
 ],
 "metadata": {
  "application/vnd.databricks.v1+notebook": {
   "dashboards": [],
   "language": "python",
   "notebookMetadata": {
    "pythonIndentUnit": 2
   },
   "notebookName": "09 Add New GHActivity JSON files",
   "notebookOrigID": 3881066461251993,
   "widgets": {}
  },
  "kernelspec": {
   "display_name": "Python 3",
   "language": "python",
   "name": "python3"
  },
  "language_info": {
   "codemirror_mode": {
    "name": "ipython",
    "version": 3
   },
   "file_extension": ".py",
   "mimetype": "text/x-python",
   "name": "python",
   "nbconvert_exporter": "python",
   "pygments_lexer": "ipython3",
   "version": "3.6.12"
  }
 },
 "nbformat": 4,
 "nbformat_minor": 4
}
