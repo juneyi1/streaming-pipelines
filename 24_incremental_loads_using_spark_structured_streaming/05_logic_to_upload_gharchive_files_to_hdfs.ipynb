{
 "cells": [
  {
   "cell_type": "markdown",
   "metadata": {
    "application/vnd.databricks.v1+cell": {
     "inputWidgets": {},
     "nuid": "12322148-76da-40e7-b80c-66e0ebbbb2a2",
     "showTitle": false,
     "title": ""
    }
   },
   "source": [
    "## Logic to upload GHArchive Files\n",
    "\n",
    "Let us upload the files from GHArchive website to HDFS.\n",
    "* Make sure the folder is created to place the files.\n",
    "* Get the content of the file using `requests` module using`requests.get`. We need to pass the URI from which the files are supposed to be downloaded.\n",
    "* It will return an object of type **Response** which contain the `content` attribute.\n",
    "* The content can be uploaded to any file system. As our cluster is not confifured with Web HDFS, we will first add files to local file system, then we will upload to HDFS using `hdfs dfs -put` command."
   ]
  },
  {
   "cell_type": "markdown",
   "metadata": {
    "application/vnd.databricks.v1+cell": {
     "inputWidgets": {},
     "nuid": "34d78f68-74fe-4fdb-978b-740cb6c2ff7c",
     "showTitle": false,
     "title": ""
    }
   },
   "source": [
    "* Creating the base directory."
   ]
  },
  {
   "cell_type": "code",
   "execution_count": 1,
   "metadata": {},
   "outputs": [
    {
     "name": "stdout",
     "output_type": "stream",
     "text": [
      "rm: `/user/itv007304/github/streaming/landing/ghactivity': No such file or directory\n"
     ]
    }
   ],
   "source": [
    "!hdfs dfs -rm -R -skipTrash /user/${USER}/github/streaming/landing/ghactivity"
   ]
  },
  {
   "cell_type": "code",
   "execution_count": 2,
   "metadata": {},
   "outputs": [],
   "source": [
    "!hdfs dfs -mkdir -p /user/${USER}/github/streaming/landing/ghactivity"
   ]
  },
  {
   "cell_type": "markdown",
   "metadata": {
    "application/vnd.databricks.v1+cell": {
     "inputWidgets": {},
     "nuid": "939cfc77-9212-4afa-a76c-80d4df6afdf0",
     "showTitle": false,
     "title": ""
    }
   },
   "source": [
    "* Get the content of the file."
   ]
  },
  {
   "cell_type": "code",
   "execution_count": 3,
   "metadata": {
    "application/vnd.databricks.v1+cell": {
     "inputWidgets": {},
     "nuid": "63e11e2c-30ce-406b-925e-dba1c9f7f9de",
     "showTitle": false,
     "title": ""
    }
   },
   "outputs": [],
   "source": [
    "import requests"
   ]
  },
  {
   "cell_type": "code",
   "execution_count": 4,
   "metadata": {
    "application/vnd.databricks.v1+cell": {
     "inputWidgets": {},
     "nuid": "c11bdaa1-339c-4000-9d1f-ba45307a18e6",
     "showTitle": false,
     "title": ""
    }
   },
   "outputs": [],
   "source": [
    "file = '2023-07-11-0.json.gz'"
   ]
  },
  {
   "cell_type": "code",
   "execution_count": 5,
   "metadata": {
    "application/vnd.databricks.v1+cell": {
     "inputWidgets": {},
     "nuid": "ba81eb58-f95a-43a4-a56a-a161818a3cfe",
     "showTitle": false,
     "title": ""
    }
   },
   "outputs": [],
   "source": [
    "res = requests.get(f'https://data.gharchive.org/{file}')"
   ]
  },
  {
   "cell_type": "code",
   "execution_count": 6,
   "metadata": {},
   "outputs": [
    {
     "data": {
      "text/plain": [
       "bytes"
      ]
     },
     "execution_count": 6,
     "metadata": {},
     "output_type": "execute_result"
    }
   ],
   "source": [
    "type(res.content)"
   ]
  },
  {
   "cell_type": "code",
   "execution_count": 7,
   "metadata": {},
   "outputs": [
    {
     "data": {
      "text/plain": [
       "<Response [200]>"
      ]
     },
     "execution_count": 7,
     "metadata": {},
     "output_type": "execute_result"
    }
   ],
   "source": [
    "res"
   ]
  },
  {
   "cell_type": "markdown",
   "metadata": {
    "application/vnd.databricks.v1+cell": {
     "inputWidgets": {},
     "nuid": "119c0653-c0cd-45b8-a1c0-677d7f1fc583",
     "showTitle": false,
     "title": ""
    }
   },
   "source": [
    "* Uploading the file to local file system."
   ]
  },
  {
   "cell_type": "code",
   "execution_count": 8,
   "metadata": {},
   "outputs": [],
   "source": [
    "!rm -rf /home/${USER}/data/ghactivity"
   ]
  },
  {
   "cell_type": "code",
   "execution_count": 9,
   "metadata": {},
   "outputs": [],
   "source": [
    "!mkdir -p /home/${USER}/data/ghactivity"
   ]
  },
  {
   "cell_type": "code",
   "execution_count": 10,
   "metadata": {},
   "outputs": [
    {
     "data": {
      "text/plain": [
       "'itv007304'"
      ]
     },
     "execution_count": 10,
     "metadata": {},
     "output_type": "execute_result"
    }
   ],
   "source": [
    "import getpass\n",
    "\n",
    "username = getpass.getuser()\n",
    "username"
   ]
  },
  {
   "cell_type": "code",
   "execution_count": 11,
   "metadata": {
    "application/vnd.databricks.v1+cell": {
     "inputWidgets": {},
     "nuid": "3499860d-2ee9-4bde-aed4-7d234aecca54",
     "showTitle": false,
     "title": ""
    }
   },
   "outputs": [
    {
     "data": {
      "text/plain": [
       "'2023'"
      ]
     },
     "execution_count": 11,
     "metadata": {},
     "output_type": "execute_result"
    }
   ],
   "source": [
    "year = file[:4]\n",
    "year"
   ]
  },
  {
   "cell_type": "code",
   "execution_count": 12,
   "metadata": {
    "application/vnd.databricks.v1+cell": {
     "inputWidgets": {},
     "nuid": "64bba92a-8145-4583-b755-36858669943c",
     "showTitle": false,
     "title": ""
    }
   },
   "outputs": [
    {
     "data": {
      "text/plain": [
       "'07'"
      ]
     },
     "execution_count": 12,
     "metadata": {},
     "output_type": "execute_result"
    }
   ],
   "source": [
    "month = file[5:7]\n",
    "month"
   ]
  },
  {
   "cell_type": "code",
   "execution_count": 13,
   "metadata": {
    "application/vnd.databricks.v1+cell": {
     "inputWidgets": {},
     "nuid": "aed353a8-b09f-4233-990f-ad69305424e3",
     "showTitle": false,
     "title": ""
    }
   },
   "outputs": [
    {
     "data": {
      "text/plain": [
       "'11'"
      ]
     },
     "execution_count": 13,
     "metadata": {},
     "output_type": "execute_result"
    }
   ],
   "source": [
    "dayofmonth = file[8:10]\n",
    "dayofmonth"
   ]
  },
  {
   "cell_type": "code",
   "execution_count": 14,
   "metadata": {},
   "outputs": [
    {
     "data": {
      "text/plain": [
       "'/home/itv007304/data/ghactivity/year=2023/month=07/dayofmonth=11'"
      ]
     },
     "execution_count": 14,
     "metadata": {},
     "output_type": "execute_result"
    }
   ],
   "source": [
    "target_local_folder = f'/home/{username}/data/ghactivity/year={year}/month={month}/dayofmonth={dayofmonth}'\n",
    "target_local_folder"
   ]
  },
  {
   "cell_type": "code",
   "execution_count": 17,
   "metadata": {},
   "outputs": [
    {
     "data": {
      "text/plain": [
       "0"
      ]
     },
     "execution_count": 17,
     "metadata": {},
     "output_type": "execute_result"
    }
   ],
   "source": [
    "import subprocess\n",
    "\n",
    "subprocess.check_call(f'mkdir -p {target_local_folder}', shell=True)"
   ]
  },
  {
   "cell_type": "code",
   "execution_count": 18,
   "metadata": {},
   "outputs": [],
   "source": [
    "target_file = open(f'{target_local_folder}/{file}', 'wb')"
   ]
  },
  {
   "cell_type": "code",
   "execution_count": 19,
   "metadata": {},
   "outputs": [],
   "source": [
    "upload_res = target_file.write(res.content)"
   ]
  },
  {
   "cell_type": "code",
   "execution_count": 20,
   "metadata": {},
   "outputs": [
    {
     "data": {
      "text/plain": [
       "96670341"
      ]
     },
     "execution_count": 20,
     "metadata": {},
     "output_type": "execute_result"
    }
   ],
   "source": [
    "upload_res"
   ]
  },
  {
   "cell_type": "code",
   "execution_count": 21,
   "metadata": {},
   "outputs": [],
   "source": [
    "target_file.close()"
   ]
  },
  {
   "cell_type": "code",
   "execution_count": 4,
   "metadata": {},
   "outputs": [
    {
     "name": "stdout",
     "output_type": "stream",
     "text": [
      "-rw-r--r-- 1 itv007304 students 93M Jul 12 17:44 /home/itv007304/data/ghactivity/year=2023/month=07/dayofmonth=11/2023-07-11-0.json.gz\n"
     ]
    }
   ],
   "source": [
    "!find /home/${USER}/data/ghactivity -type f | xargs ls -ltrh"
   ]
  },
  {
   "cell_type": "code",
   "execution_count": 2,
   "metadata": {},
   "outputs": [
    {
     "name": "stdout",
     "output_type": "stream",
     "text": [
      "/home/itv007304/data/ghactivity:\n",
      "total 4\n",
      "drwxr-xr-x 3 itv007304 students 4096 Jul 12 17:23 year=2023\n",
      "\n",
      "/home/itv007304/data/ghactivity/year=2023:\n",
      "total 4\n",
      "drwxr-xr-x 3 itv007304 students 4096 Jul 12 17:23 month=07\n",
      "\n",
      "/home/itv007304/data/ghactivity/year=2023/month=07:\n",
      "total 4\n",
      "drwxr-xr-x 2 itv007304 students 4096 Jul 12 17:26 dayofmonth=11\n",
      "\n",
      "/home/itv007304/data/ghactivity/year=2023/month=07/dayofmonth=11:\n",
      "total 94412\n",
      "-rw-r--r-- 1 itv007304 students 96670341 Jul 12 17:44 2023-07-11-0.json.gz\n"
     ]
    }
   ],
   "source": [
    "!ls -lR /home/${USER}/data/ghactivity"
   ]
  },
  {
   "cell_type": "markdown",
   "metadata": {},
   "source": [
    "* Copy the files to HDFS and validate"
   ]
  },
  {
   "cell_type": "code",
   "execution_count": 23,
   "metadata": {},
   "outputs": [
    {
     "data": {
      "text/plain": [
       "'/user/itv007304/github/streaming/landing/ghactivity/year=2023/month=07/dayofmonth=11'"
      ]
     },
     "execution_count": 23,
     "metadata": {},
     "output_type": "execute_result"
    }
   ],
   "source": [
    "target_hdfs_folder = f'/user/{username}/github/streaming/landing/ghactivity/year={year}/month={month}/dayofmonth={dayofmonth}'\n",
    "target_hdfs_folder"
   ]
  },
  {
   "cell_type": "code",
   "execution_count": 24,
   "metadata": {},
   "outputs": [
    {
     "data": {
      "text/plain": [
       "0"
      ]
     },
     "execution_count": 24,
     "metadata": {},
     "output_type": "execute_result"
    }
   ],
   "source": [
    "subprocess.check_call(f'hdfs dfs -mkdir -p {target_hdfs_folder}', shell=True)"
   ]
  },
  {
   "cell_type": "code",
   "execution_count": 26,
   "metadata": {},
   "outputs": [
    {
     "data": {
      "text/plain": [
       "0"
      ]
     },
     "execution_count": 26,
     "metadata": {},
     "output_type": "execute_result"
    }
   ],
   "source": [
    "subprocess.check_call(f'hdfs dfs -put {target_local_folder}/{file} {target_hdfs_folder}', shell=True)"
   ]
  },
  {
   "cell_type": "code",
   "execution_count": 27,
   "metadata": {},
   "outputs": [
    {
     "name": "stdout",
     "output_type": "stream",
     "text": [
      "drwxr-xr-x   - itv007304 supergroup          0 2023-07-12 17:57 /user/itv007304/github/streaming/landing/ghactivity/year=2023\n",
      "drwxr-xr-x   - itv007304 supergroup          0 2023-07-12 17:57 /user/itv007304/github/streaming/landing/ghactivity/year=2023/month=07\n",
      "drwxr-xr-x   - itv007304 supergroup          0 2023-07-12 17:59 /user/itv007304/github/streaming/landing/ghactivity/year=2023/month=07/dayofmonth=11\n",
      "-rw-r--r--   3 itv007304 supergroup   96670341 2023-07-12 17:59 /user/itv007304/github/streaming/landing/ghactivity/year=2023/month=07/dayofmonth=11/2023-07-11-0.json.gz\n"
     ]
    }
   ],
   "source": [
    "!hdfs dfs -ls -R /user/${USER}/github/streaming/landing/ghactivity"
   ]
  },
  {
   "cell_type": "markdown",
   "metadata": {
    "application/vnd.databricks.v1+cell": {
     "inputWidgets": {},
     "nuid": "5534c89f-d9b0-4a1f-8fd6-5d31ffe9e6fe",
     "showTitle": false,
     "title": ""
    }
   },
   "source": [
    "* We can upload as many files as we want\n",
    "* Let's upload files for all the hours of 2023-07-11."
   ]
  },
  {
   "cell_type": "code",
   "execution_count": 9,
   "metadata": {},
   "outputs": [],
   "source": [
    "import requests\n",
    "import subprocess\n",
    "import getpass\n",
    "\n",
    "def upload_gharchive_files_to_hdfs(file_name):\n",
    "    year = file_name[:4]\n",
    "    month = file_name[5:7]\n",
    "    dayofmonth = file_name[8:10]\n",
    "    username = getpass.getuser()\n",
    "    res = requests.get(f'https://data.gharchive.org/{file_name}')\n",
    "    target_local_folder = f'/home/{username}/data/ghactivity/year={year}/month={month}/dayofmonth={dayofmonth}'\n",
    "    subprocess.check_call(f'mkdir -p {target_local_folder}', shell=True)\n",
    "    target_file = open(f'{target_local_folder}/{file_name}', 'wb')\n",
    "    upload_res = target_file.write(res.content)\n",
    "    target_file.close()\n",
    "    target_hdfs_folder = f'/user/{username}/github/streaming/landing/ghactivity/year={year}/month={month}/dayofmonth={dayofmonth}'\n",
    "    subprocess.check_call(f'hdfs dfs -mkdir -p {target_hdfs_folder}', shell=True)\n",
    "    subprocess.check_call(f'hdfs dfs -put {target_local_folder}/{file_name} {target_hdfs_folder}', shell=True)\n",
    "    "
   ]
  },
  {
   "cell_type": "code",
   "execution_count": 10,
   "metadata": {},
   "outputs": [
    {
     "name": "stdout",
     "output_type": "stream",
     "text": [
      "Processing file 2023-07-11-1.json.gz\n",
      "Processing file 2023-07-11-2.json.gz\n",
      "Processing file 2023-07-11-3.json.gz\n",
      "Processing file 2023-07-11-4.json.gz\n",
      "Processing file 2023-07-11-5.json.gz\n",
      "Processing file 2023-07-11-6.json.gz\n",
      "Processing file 2023-07-11-7.json.gz\n",
      "Processing file 2023-07-11-8.json.gz\n",
      "Processing file 2023-07-11-9.json.gz\n",
      "Processing file 2023-07-11-10.json.gz\n",
      "Processing file 2023-07-11-11.json.gz\n",
      "Processing file 2023-07-11-12.json.gz\n",
      "Processing file 2023-07-11-13.json.gz\n",
      "Processing file 2023-07-11-14.json.gz\n",
      "Processing file 2023-07-11-15.json.gz\n",
      "Processing file 2023-07-11-16.json.gz\n",
      "Processing file 2023-07-11-17.json.gz\n",
      "Processing file 2023-07-11-18.json.gz\n",
      "Processing file 2023-07-11-19.json.gz\n",
      "Processing file 2023-07-11-20.json.gz\n",
      "Processing file 2023-07-11-21.json.gz\n",
      "Processing file 2023-07-11-22.json.gz\n",
      "Processing file 2023-07-11-23.json.gz\n"
     ]
    }
   ],
   "source": [
    "for hour in range(1, 24):\n",
    "    print(f'Processing file 2023-07-11-{hour}.json.gz')\n",
    "    upload_gharchive_files_to_hdfs(f'2023-07-11-{hour}.json.gz')"
   ]
  },
  {
   "cell_type": "code",
   "execution_count": 11,
   "metadata": {},
   "outputs": [
    {
     "name": "stdout",
     "output_type": "stream",
     "text": [
      "-rw-r--r--   3 itv007304 supergroup   96670341 2023-07-12 17:59 /user/itv007304/github/streaming/landing/ghactivity/year=2023/month=07/dayofmonth=11/2023-07-11-0.json.gz\n",
      "-rw-r--r--   3 itv007304 supergroup   90660972 2023-07-13 15:22 /user/itv007304/github/streaming/landing/ghactivity/year=2023/month=07/dayofmonth=11/2023-07-11-1.json.gz\n",
      "-rw-r--r--   3 itv007304 supergroup  104839007 2023-07-13 15:24 /user/itv007304/github/streaming/landing/ghactivity/year=2023/month=07/dayofmonth=11/2023-07-11-10.json.gz\n",
      "-rw-r--r--   3 itv007304 supergroup  110194573 2023-07-13 15:24 /user/itv007304/github/streaming/landing/ghactivity/year=2023/month=07/dayofmonth=11/2023-07-11-11.json.gz\n",
      "-rw-r--r--   3 itv007304 supergroup  112296692 2023-07-13 15:25 /user/itv007304/github/streaming/landing/ghactivity/year=2023/month=07/dayofmonth=11/2023-07-11-12.json.gz\n",
      "-rw-r--r--   3 itv007304 supergroup  111578082 2023-07-13 15:25 /user/itv007304/github/streaming/landing/ghactivity/year=2023/month=07/dayofmonth=11/2023-07-11-13.json.gz\n",
      "-rw-r--r--   3 itv007304 supergroup  120593713 2023-07-13 15:25 /user/itv007304/github/streaming/landing/ghactivity/year=2023/month=07/dayofmonth=11/2023-07-11-14.json.gz\n",
      "-rw-r--r--   3 itv007304 supergroup  103488898 2023-07-13 15:25 /user/itv007304/github/streaming/landing/ghactivity/year=2023/month=07/dayofmonth=11/2023-07-11-15.json.gz\n",
      "-rw-r--r--   3 itv007304 supergroup  107369187 2023-07-13 15:26 /user/itv007304/github/streaming/landing/ghactivity/year=2023/month=07/dayofmonth=11/2023-07-11-16.json.gz\n",
      "-rw-r--r--   3 itv007304 supergroup  109427793 2023-07-13 15:26 /user/itv007304/github/streaming/landing/ghactivity/year=2023/month=07/dayofmonth=11/2023-07-11-17.json.gz\n",
      "-rw-r--r--   3 itv007304 supergroup  103817500 2023-07-13 15:26 /user/itv007304/github/streaming/landing/ghactivity/year=2023/month=07/dayofmonth=11/2023-07-11-18.json.gz\n",
      "-rw-r--r--   3 itv007304 supergroup   94707408 2023-07-13 15:26 /user/itv007304/github/streaming/landing/ghactivity/year=2023/month=07/dayofmonth=11/2023-07-11-19.json.gz\n",
      "-rw-r--r--   3 itv007304 supergroup   87462965 2023-07-13 15:22 /user/itv007304/github/streaming/landing/ghactivity/year=2023/month=07/dayofmonth=11/2023-07-11-2.json.gz\n",
      "-rw-r--r--   3 itv007304 supergroup   97568431 2023-07-13 15:26 /user/itv007304/github/streaming/landing/ghactivity/year=2023/month=07/dayofmonth=11/2023-07-11-20.json.gz\n",
      "-rw-r--r--   3 itv007304 supergroup   94099982 2023-07-13 15:27 /user/itv007304/github/streaming/landing/ghactivity/year=2023/month=07/dayofmonth=11/2023-07-11-21.json.gz\n",
      "-rw-r--r--   3 itv007304 supergroup   82178157 2023-07-13 15:27 /user/itv007304/github/streaming/landing/ghactivity/year=2023/month=07/dayofmonth=11/2023-07-11-22.json.gz\n",
      "-rw-r--r--   3 itv007304 supergroup   78356775 2023-07-13 15:27 /user/itv007304/github/streaming/landing/ghactivity/year=2023/month=07/dayofmonth=11/2023-07-11-23.json.gz\n",
      "-rw-r--r--   3 itv007304 supergroup   78345974 2023-07-13 15:23 /user/itv007304/github/streaming/landing/ghactivity/year=2023/month=07/dayofmonth=11/2023-07-11-3.json.gz\n",
      "-rw-r--r--   3 itv007304 supergroup   70414630 2023-07-13 15:23 /user/itv007304/github/streaming/landing/ghactivity/year=2023/month=07/dayofmonth=11/2023-07-11-4.json.gz\n",
      "-rw-r--r--   3 itv007304 supergroup   84607321 2023-07-13 15:23 /user/itv007304/github/streaming/landing/ghactivity/year=2023/month=07/dayofmonth=11/2023-07-11-5.json.gz\n",
      "-rw-r--r--   3 itv007304 supergroup   96419214 2023-07-13 15:23 /user/itv007304/github/streaming/landing/ghactivity/year=2023/month=07/dayofmonth=11/2023-07-11-6.json.gz\n",
      "-rw-r--r--   3 itv007304 supergroup  102474954 2023-07-13 15:23 /user/itv007304/github/streaming/landing/ghactivity/year=2023/month=07/dayofmonth=11/2023-07-11-7.json.gz\n",
      "-rw-r--r--   3 itv007304 supergroup  106619059 2023-07-13 15:24 /user/itv007304/github/streaming/landing/ghactivity/year=2023/month=07/dayofmonth=11/2023-07-11-8.json.gz\n",
      "-rw-r--r--   3 itv007304 supergroup  118116457 2023-07-13 15:24 /user/itv007304/github/streaming/landing/ghactivity/year=2023/month=07/dayofmonth=11/2023-07-11-9.json.gz\n"
     ]
    }
   ],
   "source": [
    "!hdfs dfs -ls -R /user/${USER}/github/streaming/landing/ghactivity/year=2023/month=07/dayofmonth=11"
   ]
  },
  {
   "cell_type": "code",
   "execution_count": 14,
   "metadata": {},
   "outputs": [
    {
     "name": "stdout",
     "output_type": "stream",
     "text": [
      "Found 24 items\n",
      "-rw-r--r--   3 itv007304 supergroup   96670341 2023-07-12 17:59 /user/itv007304/github/streaming/landing/ghactivity/year=2023/month=07/dayofmonth=11/2023-07-11-0.json.gz\n",
      "-rw-r--r--   3 itv007304 supergroup   90660972 2023-07-13 15:22 /user/itv007304/github/streaming/landing/ghactivity/year=2023/month=07/dayofmonth=11/2023-07-11-1.json.gz\n",
      "-rw-r--r--   3 itv007304 supergroup   87462965 2023-07-13 15:22 /user/itv007304/github/streaming/landing/ghactivity/year=2023/month=07/dayofmonth=11/2023-07-11-2.json.gz\n",
      "-rw-r--r--   3 itv007304 supergroup   78345974 2023-07-13 15:23 /user/itv007304/github/streaming/landing/ghactivity/year=2023/month=07/dayofmonth=11/2023-07-11-3.json.gz\n",
      "-rw-r--r--   3 itv007304 supergroup   70414630 2023-07-13 15:23 /user/itv007304/github/streaming/landing/ghactivity/year=2023/month=07/dayofmonth=11/2023-07-11-4.json.gz\n",
      "-rw-r--r--   3 itv007304 supergroup   84607321 2023-07-13 15:23 /user/itv007304/github/streaming/landing/ghactivity/year=2023/month=07/dayofmonth=11/2023-07-11-5.json.gz\n",
      "-rw-r--r--   3 itv007304 supergroup   96419214 2023-07-13 15:23 /user/itv007304/github/streaming/landing/ghactivity/year=2023/month=07/dayofmonth=11/2023-07-11-6.json.gz\n",
      "-rw-r--r--   3 itv007304 supergroup  102474954 2023-07-13 15:23 /user/itv007304/github/streaming/landing/ghactivity/year=2023/month=07/dayofmonth=11/2023-07-11-7.json.gz\n",
      "-rw-r--r--   3 itv007304 supergroup  106619059 2023-07-13 15:24 /user/itv007304/github/streaming/landing/ghactivity/year=2023/month=07/dayofmonth=11/2023-07-11-8.json.gz\n",
      "-rw-r--r--   3 itv007304 supergroup  118116457 2023-07-13 15:24 /user/itv007304/github/streaming/landing/ghactivity/year=2023/month=07/dayofmonth=11/2023-07-11-9.json.gz\n",
      "-rw-r--r--   3 itv007304 supergroup  104839007 2023-07-13 15:24 /user/itv007304/github/streaming/landing/ghactivity/year=2023/month=07/dayofmonth=11/2023-07-11-10.json.gz\n",
      "-rw-r--r--   3 itv007304 supergroup  110194573 2023-07-13 15:24 /user/itv007304/github/streaming/landing/ghactivity/year=2023/month=07/dayofmonth=11/2023-07-11-11.json.gz\n",
      "-rw-r--r--   3 itv007304 supergroup  112296692 2023-07-13 15:25 /user/itv007304/github/streaming/landing/ghactivity/year=2023/month=07/dayofmonth=11/2023-07-11-12.json.gz\n",
      "-rw-r--r--   3 itv007304 supergroup  111578082 2023-07-13 15:25 /user/itv007304/github/streaming/landing/ghactivity/year=2023/month=07/dayofmonth=11/2023-07-11-13.json.gz\n",
      "-rw-r--r--   3 itv007304 supergroup  120593713 2023-07-13 15:25 /user/itv007304/github/streaming/landing/ghactivity/year=2023/month=07/dayofmonth=11/2023-07-11-14.json.gz\n",
      "-rw-r--r--   3 itv007304 supergroup  103488898 2023-07-13 15:25 /user/itv007304/github/streaming/landing/ghactivity/year=2023/month=07/dayofmonth=11/2023-07-11-15.json.gz\n",
      "-rw-r--r--   3 itv007304 supergroup  107369187 2023-07-13 15:26 /user/itv007304/github/streaming/landing/ghactivity/year=2023/month=07/dayofmonth=11/2023-07-11-16.json.gz\n",
      "-rw-r--r--   3 itv007304 supergroup  109427793 2023-07-13 15:26 /user/itv007304/github/streaming/landing/ghactivity/year=2023/month=07/dayofmonth=11/2023-07-11-17.json.gz\n",
      "-rw-r--r--   3 itv007304 supergroup  103817500 2023-07-13 15:26 /user/itv007304/github/streaming/landing/ghactivity/year=2023/month=07/dayofmonth=11/2023-07-11-18.json.gz\n",
      "-rw-r--r--   3 itv007304 supergroup   94707408 2023-07-13 15:26 /user/itv007304/github/streaming/landing/ghactivity/year=2023/month=07/dayofmonth=11/2023-07-11-19.json.gz\n",
      "-rw-r--r--   3 itv007304 supergroup   97568431 2023-07-13 15:26 /user/itv007304/github/streaming/landing/ghactivity/year=2023/month=07/dayofmonth=11/2023-07-11-20.json.gz\n",
      "-rw-r--r--   3 itv007304 supergroup   94099982 2023-07-13 15:27 /user/itv007304/github/streaming/landing/ghactivity/year=2023/month=07/dayofmonth=11/2023-07-11-21.json.gz\n",
      "-rw-r--r--   3 itv007304 supergroup   82178157 2023-07-13 15:27 /user/itv007304/github/streaming/landing/ghactivity/year=2023/month=07/dayofmonth=11/2023-07-11-22.json.gz\n",
      "-rw-r--r--   3 itv007304 supergroup   78356775 2023-07-13 15:27 /user/itv007304/github/streaming/landing/ghactivity/year=2023/month=07/dayofmonth=11/2023-07-11-23.json.gz\n"
     ]
    }
   ],
   "source": [
    "!hdfs dfs -ls -t -r /user/${USER}/github/streaming/landing/ghactivity/year=2023/month=07/dayofmonth=11"
   ]
  },
  {
   "cell_type": "code",
   "execution_count": null,
   "metadata": {},
   "outputs": [],
   "source": []
  }
 ],
 "metadata": {
  "application/vnd.databricks.v1+notebook": {
   "dashboards": [],
   "language": "python",
   "notebookMetadata": {
    "pythonIndentUnit": 2
   },
   "notebookName": "05 Upload GHArchive Files to s3",
   "notebookOrigID": 1228141849143114,
   "widgets": {}
  },
  "kernelspec": {
   "display_name": "Python 3",
   "language": "python",
   "name": "python3"
  },
  "language_info": {
   "codemirror_mode": {
    "name": "ipython",
    "version": 3
   },
   "file_extension": ".py",
   "mimetype": "text/x-python",
   "name": "python",
   "nbconvert_exporter": "python",
   "pygments_lexer": "ipython3",
   "version": "3.6.12"
  }
 },
 "nbformat": 4,
 "nbformat_minor": 4
}
