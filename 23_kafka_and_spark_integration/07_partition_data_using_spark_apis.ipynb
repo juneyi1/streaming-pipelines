{
 "cells": [
  {
   "cell_type": "markdown",
   "id": "168d68f8",
   "metadata": {},
   "source": [
    "## Transform Data using Spark APIs\n",
    "\n",
    "Let us transform the data using Spark APIs to add new columns using timestamp from the log messages so that data can be partitioned by year, month and then by day of month while writing to target location.\n",
    "* We will start with creating spark session.\n",
    "* Using the spark session's `readStream` we will subscribe to Kafka Topic to create streaming Data Frame.\n",
    "* We can apply required transformations to add columns such as year, month and dayofmonth using the timestamp that is part of each and every message.\n",
    "* As part of the next lecture we will see how to partition the data using these new columns while writing to target. For now, we will validate whether new columns are added or not using `memory` as the target along with `queryName`."
   ]
  },
  {
   "cell_type": "code",
   "execution_count": 1,
   "id": "fee2dbf7",
   "metadata": {},
   "outputs": [],
   "source": [
    "from pyspark.sql import SparkSession\n",
    "\n",
    "import getpass\n",
    "username = getpass.getuser()\n",
    "\n",
    "spark = SparkSession. \\\n",
    "    builder. \\\n",
    "    config('spark.jars.packages', 'org.apache.spark:spark-sql-kafka-0-10_2.12:3.0.1'). \\\n",
    "    config('spark.ui.port', '0'). \\\n",
    "    config('spark.sql.warehouse.dir', f'/user/{username}/warehouse'). \\\n",
    "    enableHiveSupport(). \\\n",
    "    appName(f'{username} | Python - Kafka and Spark Integration'). \\\n",
    "    master('yarn'). \\\n",
    "    getOrCreate()"
   ]
  },
  {
   "cell_type": "code",
   "execution_count": 2,
   "id": "d801b1e9",
   "metadata": {},
   "outputs": [],
   "source": [
    "kafka_bootstrap_servers = 'w01.itversity.com:9092,w02.itversity.com:9092'"
   ]
  },
  {
   "cell_type": "code",
   "execution_count": 3,
   "id": "c1de4208",
   "metadata": {},
   "outputs": [],
   "source": [
    "df = spark. \\\n",
    "  readStream. \\\n",
    "  format('kafka'). \\\n",
    "  option('kafka.bootstrap.servers', kafka_bootstrap_servers). \\\n",
    "  option('subscribe', f'{username}_retail'). \\\n",
    "  load()"
   ]
  },
  {
   "cell_type": "code",
   "execution_count": 4,
   "id": "7b024197",
   "metadata": {},
   "outputs": [
    {
     "name": "stdout",
     "output_type": "stream",
     "text": [
      "root\n",
      " |-- key: binary (nullable = true)\n",
      " |-- value: binary (nullable = true)\n",
      " |-- topic: string (nullable = true)\n",
      " |-- partition: integer (nullable = true)\n",
      " |-- offset: long (nullable = true)\n",
      " |-- timestamp: timestamp (nullable = true)\n",
      " |-- timestampType: integer (nullable = true)\n",
      "\n"
     ]
    }
   ],
   "source": [
    "df.printSchema()"
   ]
  },
  {
   "cell_type": "code",
   "execution_count": 5,
   "id": "7e0855c7",
   "metadata": {},
   "outputs": [],
   "source": [
    "from pyspark.sql.functions import lit, date_format, to_date, split, substring"
   ]
  },
  {
   "cell_type": "code",
   "execution_count": 6,
   "id": "b0567ed3",
   "metadata": {},
   "outputs": [],
   "source": [
    "l = [('X',)]"
   ]
  },
  {
   "cell_type": "code",
   "execution_count": 7,
   "id": "47dad570",
   "metadata": {},
   "outputs": [
    {
     "name": "stdout",
     "output_type": "stream",
     "text": [
      "+-----+\n",
      "|dummy|\n",
      "+-----+\n",
      "|X    |\n",
      "+-----+\n",
      "\n"
     ]
    }
   ],
   "source": [
    "dual = spark.createDataFrame(l, schema='dummy STRING')\n",
    "dual.show(10, False)"
   ]
  },
  {
   "cell_type": "code",
   "execution_count": 8,
   "id": "87648e96",
   "metadata": {},
   "outputs": [
    {
     "name": "stdout",
     "output_type": "stream",
     "text": [
      "+-------------------------------------+\n",
      "|to_date('2021-Jan-21', 'yyyy-MMM-dd')|\n",
      "+-------------------------------------+\n",
      "|                           2021-01-21|\n",
      "+-------------------------------------+\n",
      "\n"
     ]
    }
   ],
   "source": [
    "dual.select(to_date(lit('2021-Jan-21'), 'yyyy-MMM-dd')).show()"
   ]
  },
  {
   "cell_type": "code",
   "execution_count": 9,
   "id": "79a44c22",
   "metadata": {},
   "outputs": [
    {
     "name": "stdout",
     "output_type": "stream",
     "text": [
      "+-------------------------------------------------------+\n",
      "|to_date('31/Dec/2021:00:37:39', 'dd/MMM/yyyy:HH:mm:ss')|\n",
      "+-------------------------------------------------------+\n",
      "|                                             2021-12-31|\n",
      "+-------------------------------------------------------+\n",
      "\n"
     ]
    }
   ],
   "source": [
    "dual.select(to_date(lit('31/Dec/2021:00:37:39'), 'dd/MMM/yyyy:HH:mm:ss')).show()"
   ]
  },
  {
   "cell_type": "code",
   "execution_count": 10,
   "id": "d83ef3a0",
   "metadata": {},
   "outputs": [
    {
     "data": {
      "text/plain": [
       "<pyspark.sql.streaming.StreamingQuery at 0x7f427f7fe518>"
      ]
     },
     "execution_count": 10,
     "metadata": {},
     "output_type": "execute_result"
    }
   ],
   "source": [
    "df.selectExpr(\"CAST(key AS STRING)\", \"CAST(value AS STRING)\"). \\\n",
    "    writeStream. \\\n",
    "    format(\"memory\"). \\\n",
    "    queryName(\"log_messages_raw\"). \\\n",
    "    start()"
   ]
  },
  {
   "cell_type": "code",
   "execution_count": 13,
   "id": "2388f792",
   "metadata": {},
   "outputs": [
    {
     "name": "stdout",
     "output_type": "stream",
     "text": [
      "+----+--------------------------------------------------------------------------------------------------------------------------------------------------------------------------------------------------------------------------------------+\n",
      "|key |value                                                                                                                                                                                                                                 |\n",
      "+----+--------------------------------------------------------------------------------------------------------------------------------------------------------------------------------------------------------------------------------------+\n",
      "|null|58.138.168.125 - - [23/Feb/2023:11:45:38 -0800] \"GET /categories/tennis%20%26%20racquet/products HTTP/1.1\" 200 338 \"-\" \"Mozilla/5.0 (Windows NT 6.1; WOW64) AppleWebKit/537.36 (KHTML, like Gecko) Chrome/36.0.1985.125 Safari/537.36\"|\n",
      "|null|148.171.173.137 - - [23/Feb/2023:11:45:39 -0800] \"GET /product/807 HTTP/1.1\" 200 2086 \"-\" \"Mozilla/5.0 (Windows NT 6.1; WOW64; rv:30.0) Gecko/20100101 Firefox/30.0\"                                                                  |\n",
      "|null|111.68.40.161 - - [23/Feb/2023:11:45:40 -0800] \"GET /product/351 HTTP/1.1\" 200 834 \"-\" \"Mozilla/5.0 (Windows NT 6.1; WOW64) AppleWebKit/537.36 (KHTML, like Gecko) Chrome/35.0.1916.153 Safari/537.36\"                                |\n",
      "|null|58.138.168.125 - - [23/Feb/2023:11:45:41 -0800] \"GET /departments HTTP/1.1\" 200 1497 \"-\" \"Mozilla/5.0 (Windows NT 6.3; WOW64) AppleWebKit/537.36 (KHTML, like Gecko) Chrome/35.0.1916.153 Safari/537.36\"                              |\n",
      "|null|133.221.177.45 - - [23/Feb/2023:11:45:42 -0800] \"GET /department/outdoors/products HTTP/1.1\" 200 665 \"-\" \"Mozilla/5.0 (Windows NT 6.1; WOW64) AppleWebKit/537.36 (KHTML, like Gecko) Chrome/36.0.1985.125 Safari/537.36\"              |\n",
      "|null|192.66.231.99 - - [23/Feb/2023:11:45:43 -0800] \"GET /departments HTTP/1.1\" 200 746 \"-\" \"Mozilla/5.0 (X11; Linux x86_64) AppleWebKit/537.36 (KHTML, like Gecko) Chrome/35.0.1916.153 Safari/537.36\"                                    |\n",
      "|null|142.242.27.212 - - [23/Feb/2023:11:45:44 -0800] \"GET /departments HTTP/1.1\" 200 1841 \"-\" \"Mozilla/5.0 (Windows NT 6.1; WOW64; rv:30.0) Gecko/20100101 Firefox/30.0\"                                                                   |\n",
      "|null|192.66.231.99 - - [23/Feb/2023:11:45:45 -0800] \"GET /departments HTTP/1.1\" 200 1452 \"-\" \"Mozilla/5.0 (Macintosh; Intel Mac OS X 10_9_4) AppleWebKit/537.77.4 (KHTML, like Gecko) Version/7.0.5 Safari/537.77.4\"                       |\n",
      "|null|26.67.128.17 - - [23/Feb/2023:11:45:46 -0800] \"GET /departments HTTP/1.1\" 200 1461 \"-\" \"Mozilla/5.0 (Macintosh; Intel Mac OS X 10_9_3) AppleWebKit/537.36 (KHTML, like Gecko) Chrome/35.0.1916.153 Safari/537.36\"                     |\n",
      "|null|180.20.106.78 - - [23/Feb/2023:11:45:47 -0800] \"GET /checkout HTTP/1.1\" 200 600 \"-\" \"Mozilla/5.0 (Windows NT 6.1) AppleWebKit/537.36 (KHTML, like Gecko) Chrome/35.0.1916.153 Safari/537.36\"                                          |\n",
      "|null|72.62.138.217 - - [23/Feb/2023:11:45:48 -0800] \"GET /department/footwear/categories HTTP/1.1\" 200 896 \"-\" \"Mozilla/5.0 (Windows NT 6.1; WOW64) AppleWebKit/537.36 (KHTML, like Gecko) Chrome/35.0.1916.153 Safari/537.36\"             |\n",
      "|null|88.57.179.2 - - [23/Feb/2023:11:45:49 -0800] \"GET /department/outdoors/products HTTP/1.1\" 200 1140 \"-\" \"Mozilla/5.0 (Macintosh; Intel Mac OS X 10_9_4) AppleWebKit/537.36 (KHTML, like Gecko) Chrome/36.0.1985.125 Safari/537.36\"     |\n",
      "|null|32.99.200.126 - - [23/Feb/2023:11:45:50 -0800] \"GET /department/fan%20shop/categories HTTP/1.1\" 200 758 \"-\" \"Mozilla/5.0 (Macintosh; Intel Mac OS X 10_9_4) AppleWebKit/537.36 (KHTML, like Gecko) Chrome/36.0.1985.125 Safari/537.36\"|\n",
      "|null|148.171.173.137 - - [23/Feb/2023:11:45:51 -0800] \"GET /department/outdoors/products HTTP/1.1\" 200 1152 \"-\" \"Mozilla/5.0 (Macintosh; Intel Mac OS X 10_9_3) AppleWebKit/537.36 (KHTML, like Gecko) Chrome/35.0.1916.153 Safari/537.36\" |\n",
      "|null|168.113.225.27 - - [23/Feb/2023:11:45:52 -0800] \"GET /departments HTTP/1.1\" 200 1505 \"-\" \"Mozilla/5.0 (Macintosh; Intel Mac OS X 10.9; rv:30.0) Gecko/20100101 Firefox/30.0\"                                                          |\n",
      "|null|31.177.245.46 - - [23/Feb/2023:11:45:53 -0800] \"GET /departments HTTP/1.1\" 200 918 \"-\" \"Mozilla/5.0 (Windows NT 6.1; WOW64) AppleWebKit/537.36 (KHTML, like Gecko) Chrome/36.0.1985.125 Safari/537.36\"                                |\n",
      "|null|168.113.225.27 - - [23/Feb/2023:11:45:54 -0800] \"GET /checkout HTTP/1.1\" 200 1472 \"-\" \"Mozilla/5.0 (Windows NT 6.1; WOW64; rv:30.0) Gecko/20100101 Firefox/30.0\"                                                                      |\n",
      "|null|187.129.99.175 - - [23/Feb/2023:11:45:55 -0800] \"GET /categories/golf%20apparel/products HTTP/1.1\" 200 868 \"-\" \"Mozilla/5.0 (Windows NT 6.1; WOW64) AppleWebKit/537.36 (KHTML, like Gecko) Chrome/36.0.1985.125 Safari/537.36\"        |\n",
      "|null|133.221.177.45 - - [23/Feb/2023:11:45:56 -0800] \"GET /department/fan%20shop/products HTTP/1.1\" 404 657 \"-\" \"Mozilla/5.0 (Windows NT 6.1; WOW64; rv:30.0) Gecko/20100101 Firefox/30.0\"                                                 |\n",
      "|null|39.2.68.206 - - [23/Feb/2023:11:45:57 -0800] \"GET /departments HTTP/1.1\" 200 1318 \"-\" \"Mozilla/5.0 (X11; Ubuntu; Linux x86_64; rv:30.0) Gecko/20100101 Firefox/30.0\"                                                                  |\n",
      "+----+--------------------------------------------------------------------------------------------------------------------------------------------------------------------------------------------------------------------------------------+\n",
      "only showing top 20 rows\n",
      "\n"
     ]
    }
   ],
   "source": [
    "spark.sql('SELECT * FROM log_messages_raw').show(truncate=False)"
   ]
  },
  {
   "cell_type": "code",
   "execution_count": 26,
   "id": "04c46cf3",
   "metadata": {},
   "outputs": [
    {
     "name": "stdout",
     "output_type": "stream",
     "text": [
      "+--------+\n",
      "|count(1)|\n",
      "+--------+\n",
      "|20000   |\n",
      "+--------+\n",
      "\n"
     ]
    }
   ],
   "source": [
    "spark.sql('SELECT count(1) FROM log_messages_raw').show(truncate=False)"
   ]
  },
  {
   "cell_type": "code",
   "execution_count": null,
   "id": "65c2ddaa",
   "metadata": {},
   "outputs": [],
   "source": [
    "df.selectExpr(\"CAST(key AS STRING)\", \"CAST(value AS STRING)\"). \\\n",
    "    withColumn('log_date', to_date(substring(split('value', ' ')[3], 2, 21), 'dd/MMM/yyyy:HH:mm:ss')). \\\n",
    "    withColumn('year', date_format('log_date', 'yyyy')). \\\n",
    "    withColumn('month', date_format('log_date', 'MM')). \\\n",
    "    withColumn('dayofmonth', date_format('log_date', 'dd')). \\\n",
    "    writeStream. \\\n",
    "    format(\"memory\"). \\\n",
    "    queryName(\"log_messages\"). \\\n",
    "    start()"
   ]
  },
  {
   "cell_type": "code",
   "execution_count": 24,
   "id": "80345a1a",
   "metadata": {},
   "outputs": [
    {
     "name": "stdout",
     "output_type": "stream",
     "text": [
      "+----+---------------------------------------------------------------------------------------------------------------------------------------------------------------------------------------------------------------------------------------+----------+----+-----+----------+\n",
      "|key |value                                                                                                                                                                                                                                  |log_date  |year|month|dayofmonth|\n",
      "+----+---------------------------------------------------------------------------------------------------------------------------------------------------------------------------------------------------------------------------------------+----------+----+-----+----------+\n",
      "|null|208.81.232.6 - - [23/Feb/2023:06:43:39 -0800] \"GET /departments HTTP/1.1\" 200 1004 \"-\" \"Mozilla/5.0 (Windows NT 6.3; WOW64) AppleWebKit/537.36 (KHTML, like Gecko) Chrome/35.0.1916.153 Safari/537.36\"                                 |2023-02-23|2023|02   |23        |\n",
      "|null|87.212.65.58 - - [23/Feb/2023:06:43:40 -0800] \"GET /checkout HTTP/1.1\" 200 738 \"-\" \"Mozilla/5.0 (Windows NT 6.1; WOW64) AppleWebKit/537.36 (KHTML, like Gecko) Chrome/35.0.1916.153 Safari/537.36\"                                     |2023-02-23|2023|02   |23        |\n",
      "|null|13.102.2.49 - - [23/Feb/2023:06:43:41 -0800] \"GET /categories/golf%20gloves/products HTTP/1.1\" 200 1228 \"-\" \"Mozilla/5.0 (Macintosh; Intel Mac OS X 10_9_3) AppleWebKit/537.36 (KHTML, like Gecko) Chrome/35.0.1916.153 Safari/537.36\" |2023-02-23|2023|02   |23        |\n",
      "|null|23.106.96.136 - - [23/Feb/2023:06:43:42 -0800] \"GET /login HTTP/1.1\" 200 2127 \"-\" \"Mozilla/5.0 (Windows NT 6.1; WOW64; rv:30.0) Gecko/20100101 Firefox/30.0\"                                                                           |2023-02-23|2023|02   |23        |\n",
      "|null|79.17.11.204 - - [23/Feb/2023:06:43:43 -0800] \"GET /categories/yoga%20%26%20pilates/products HTTP/1.1\" 200 2212 \"-\" \"Mozilla/5.0 (Windows NT 6.3; WOW64) AppleWebKit/537.36 (KHTML, like Gecko) Chrome/35.0.1916.153 Safari/537.36\"    |2023-02-23|2023|02   |23        |\n",
      "|null|209.33.98.102 - - [23/Feb/2023:06:43:44 -0800] \"GET /department/team%20sports/categories HTTP/1.1\" 503 1043 \"-\" \"Mozilla/5.0 (Macintosh; Intel Mac OS X 10_9_4) AppleWebKit/537.77.4 (KHTML, like Gecko) Version/7.0.5 Safari/537.77.4\"|2023-02-23|2023|02   |23        |\n",
      "|null|8.159.243.208 - - [23/Feb/2023:06:43:45 -0800] \"GET /checkout HTTP/1.1\" 200 208 \"-\" \"Mozilla/5.0 (Macintosh; Intel Mac OS X 10_9_3) AppleWebKit/537.76.4 (KHTML, like Gecko) Version/7.0.4 Safari/537.76.4\"                            |2023-02-23|2023|02   |23        |\n",
      "|null|79.119.49.73 - - [23/Feb/2023:06:43:46 -0800] \"GET /support HTTP/1.1\" 200 438 \"-\" \"Mozilla/5.0 (Windows NT 6.1; WOW64) AppleWebKit/537.36 (KHTML, like Gecko) Chrome/35.0.1916.153 Safari/537.36\"                                      |2023-02-23|2023|02   |23        |\n",
      "|null|109.51.239.39 - - [23/Feb/2023:06:43:47 -0800] \"GET /checkout HTTP/1.1\" 200 1851 \"-\" \"Mozilla/5.0 (Windows NT 6.3; WOW64) AppleWebKit/537.36 (KHTML, like Gecko) Chrome/35.0.1916.153 Safari/537.36\"                                   |2023-02-23|2023|02   |23        |\n",
      "|null|72.186.92.28 - - [23/Feb/2023:06:43:48 -0800] \"GET /department/team%20sports/categories HTTP/1.1\" 200 2086 \"-\" \"Mozilla/5.0 (Windows NT 6.3; WOW64; rv:30.0) Gecko/20100101 Firefox/30.0\"                                              |2023-02-23|2023|02   |23        |\n",
      "|null|117.149.206.111 - - [23/Feb/2023:06:43:49 -0800] \"GET /departments HTTP/1.1\" 200 1203 \"-\" \"Mozilla/5.0 (Windows NT 6.1; WOW64) AppleWebKit/537.36 (KHTML, like Gecko) Chrome/35.0.1916.153 Safari/537.36\"                              |2023-02-23|2023|02   |23        |\n",
      "|null|17.227.136.66 - - [23/Feb/2023:06:43:50 -0800] \"GET /departments HTTP/1.1\" 200 1824 \"-\" \"Mozilla/5.0 (Windows NT 6.1; WOW64; rv:30.0) Gecko/20100101 Firefox/30.0\"                                                                     |2023-02-23|2023|02   |23        |\n",
      "|null|128.52.68.182 - - [23/Feb/2023:06:43:51 -0800] \"GET /department/apparel/categories HTTP/1.1\" 200 1205 \"-\" \"Mozilla/5.0 (X11; Ubuntu; Linux x86_64; rv:30.0) Gecko/20100101 Firefox/30.0\"                                               |2023-02-23|2023|02   |23        |\n",
      "|null|28.77.100.44 - - [23/Feb/2023:06:43:52 -0800] \"GET /department/apparel/categories HTTP/1.1\" 200 666 \"-\" \"Mozilla/5.0 (Windows NT 6.1; WOW64) AppleWebKit/537.36 (KHTML, like Gecko) Chrome/35.0.1916.153 Safari/537.36\"                |2023-02-23|2023|02   |23        |\n",
      "|null|140.192.100.33 - - [23/Feb/2023:06:43:53 -0800] \"GET /departments HTTP/1.1\" 200 1461 \"-\" \"Mozilla/5.0 (Windows NT 6.1; WOW64) AppleWebKit/537.36 (KHTML, like Gecko) Chrome/35.0.1916.153 Safari/537.36\"                               |2023-02-23|2023|02   |23        |\n",
      "|null|48.98.134.157 - - [23/Feb/2023:06:43:54 -0800] \"GET /departments HTTP/1.1\" 200 670 \"-\" \"Mozilla/5.0 (Windows NT 6.3; WOW64; rv:30.0) Gecko/20100101 Firefox/30.0\"                                                                      |2023-02-23|2023|02   |23        |\n",
      "|null|132.238.207.176 - - [23/Feb/2023:06:43:55 -0800] \"GET /product/397 HTTP/1.1\" 200 1182 \"-\" \"Mozilla/5.0 (Windows NT 6.3; WOW64) AppleWebKit/537.36 (KHTML, like Gecko) Chrome/35.0.1916.153 Safari/537.36\"                              |2023-02-23|2023|02   |23        |\n",
      "|null|82.180.167.116 - - [23/Feb/2023:06:43:56 -0800] \"GET /logout HTTP/1.1\" 200 1836 \"-\" \"Mozilla/5.0 (Macintosh; Intel Mac OS X 10_9_3) AppleWebKit/537.36 (KHTML, like Gecko) Chrome/35.0.1916.153 Safari/537.36\"                         |2023-02-23|2023|02   |23        |\n",
      "|null|155.85.198.57 - - [23/Feb/2023:06:43:57 -0800] \"GET /department/footwear/categories HTTP/1.1\" 200 911 \"-\" \"Mozilla/5.0 (Windows NT 6.1; rv:30.0) Gecko/20100101 Firefox/30.0\"                                                          |2023-02-23|2023|02   |23        |\n",
      "|null|88.107.85.191 - - [23/Feb/2023:06:43:58 -0800] \"GET /departments HTTP/1.1\" 200 1930 \"-\" \"Mozilla/5.0 (Windows NT 6.1) AppleWebKit/537.36 (KHTML, like Gecko) Chrome/35.0.1916.153 Safari/537.36\"                                       |2023-02-23|2023|02   |23        |\n",
      "+----+---------------------------------------------------------------------------------------------------------------------------------------------------------------------------------------------------------------------------------------+----------+----+-----+----------+\n",
      "only showing top 20 rows\n",
      "\n"
     ]
    }
   ],
   "source": [
    "spark.sql('SELECT * FROM log_messages').show(truncate=False)"
   ]
  },
  {
   "cell_type": "code",
   "execution_count": 27,
   "id": "285d647c",
   "metadata": {},
   "outputs": [
    {
     "name": "stdout",
     "output_type": "stream",
     "text": [
      "+--------+\n",
      "|count(1)|\n",
      "+--------+\n",
      "|20000   |\n",
      "+--------+\n",
      "\n"
     ]
    },
    {
     "name": "stderr",
     "output_type": "stream",
     "text": [
      "----------------------------------------\n",
      "Exception happened during processing of request from ('127.0.0.1', 56962)\n",
      "Traceback (most recent call last):\n",
      "  File \"/opt/anaconda3/envs/beakerx/lib/python3.6/socketserver.py\", line 320, in _handle_request_noblock\n",
      "    self.process_request(request, client_address)\n",
      "  File \"/opt/anaconda3/envs/beakerx/lib/python3.6/socketserver.py\", line 351, in process_request\n",
      "    self.finish_request(request, client_address)\n",
      "  File \"/opt/anaconda3/envs/beakerx/lib/python3.6/socketserver.py\", line 364, in finish_request\n",
      "    self.RequestHandlerClass(request, client_address, self)\n",
      "  File \"/opt/anaconda3/envs/beakerx/lib/python3.6/socketserver.py\", line 724, in __init__\n",
      "    self.handle()\n",
      "  File \"/opt/spark-3.0.1-bin-hadoop3.2/python/pyspark/accumulators.py\", line 268, in handle\n",
      "    poll(accum_updates)\n",
      "  File \"/opt/spark-3.0.1-bin-hadoop3.2/python/pyspark/accumulators.py\", line 241, in poll\n",
      "    if func():\n",
      "  File \"/opt/spark-3.0.1-bin-hadoop3.2/python/pyspark/accumulators.py\", line 245, in accum_updates\n",
      "    num_updates = read_int(self.rfile)\n",
      "  File \"/opt/spark-3.0.1-bin-hadoop3.2/python/pyspark/serializers.py\", line 595, in read_int\n",
      "    raise EOFError\n",
      "EOFError\n",
      "----------------------------------------\n"
     ]
    }
   ],
   "source": [
    "spark.sql('SELECT count(1) FROM log_messages').show(truncate=False)"
   ]
  },
  {
   "cell_type": "code",
   "execution_count": null,
   "id": "010154e5",
   "metadata": {},
   "outputs": [],
   "source": []
  },
  {
   "cell_type": "code",
   "execution_count": null,
   "id": "484659fd",
   "metadata": {},
   "outputs": [],
   "source": []
  }
 ],
 "metadata": {
  "kernelspec": {
   "display_name": "Pyspark 3",
   "language": "python",
   "name": "pyspark3"
  },
  "language_info": {
   "codemirror_mode": {
    "name": "ipython",
    "version": 3
   },
   "file_extension": ".py",
   "mimetype": "text/x-python",
   "name": "python",
   "nbconvert_exporter": "python",
   "pygments_lexer": "ipython3",
   "version": "3.6.12"
  }
 },
 "nbformat": 4,
 "nbformat_minor": 5
}
