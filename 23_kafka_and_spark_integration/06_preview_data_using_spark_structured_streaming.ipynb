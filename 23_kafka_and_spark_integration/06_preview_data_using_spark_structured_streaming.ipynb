{
 "cells": [
  {
   "cell_type": "code",
   "execution_count": 1,
   "id": "873bb146",
   "metadata": {},
   "outputs": [],
   "source": [
    "from pyspark.sql import SparkSession\n",
    "\n",
    "import getpass\n",
    "username = getpass.getuser()\n",
    "\n",
    "spark = SparkSession. \\\n",
    "    builder. \\\n",
    "    config('spark.jars.packages', 'org.apache.spark:spark-sql-kafka-0-10_2.12:3.0.1'). \\\n",
    "    config('spark.ui.port', '0'). \\\n",
    "    config('spark.sql.warehouse.dir', f'/user/{username}/warehouse'). \\\n",
    "    enableHiveSupport(). \\\n",
    "    appName(f'{username} | Python - Kafka and Spark Integration'). \\\n",
    "    master('yarn'). \\\n",
    "    getOrCreate()"
   ]
  },
  {
   "cell_type": "code",
   "execution_count": 2,
   "id": "8856a240",
   "metadata": {},
   "outputs": [],
   "source": [
    "kafka_bootstrap_servers = 'w01.itversity.com:9092,w02.itversity.com:9092'"
   ]
  },
  {
   "cell_type": "code",
   "execution_count": 3,
   "id": "7f8841f3",
   "metadata": {},
   "outputs": [],
   "source": [
    "df = spark. \\\n",
    "  readStream. \\\n",
    "  format('kafka'). \\\n",
    "  option('kafka.bootstrap.servers', kafka_bootstrap_servers). \\\n",
    "  option('subscribe', f'{username}_retail'). \\\n",
    "  load()"
   ]
  },
  {
   "cell_type": "code",
   "execution_count": 4,
   "id": "5d859372",
   "metadata": {},
   "outputs": [
    {
     "name": "stdout",
     "output_type": "stream",
     "text": [
      "root\n",
      " |-- key: binary (nullable = true)\n",
      " |-- value: binary (nullable = true)\n",
      " |-- topic: string (nullable = true)\n",
      " |-- partition: integer (nullable = true)\n",
      " |-- offset: long (nullable = true)\n",
      " |-- timestamp: timestamp (nullable = true)\n",
      " |-- timestampType: integer (nullable = true)\n",
      "\n"
     ]
    }
   ],
   "source": [
    "df.printSchema()"
   ]
  },
  {
   "cell_type": "markdown",
   "id": "105b3c81",
   "metadata": {},
   "source": [
    "We can use below code snippet using CLI to preview the data using `console`.\n",
    "```python\n",
    "df.selectExpr(\"CAST(key AS STRING)\", \"CAST(value AS STRING)\"). \\\n",
    "    writeStream. \\\n",
    "    outputMode(\"update\"). \\\n",
    "    format(\"console\"). \\\n",
    "    option('truncate', 'false'). \\\n",
    "    trigger(processingTime='5 seconds'). \\\n",
    "    start()\n",
    "```"
   ]
  },
  {
   "cell_type": "code",
   "execution_count": 5,
   "id": "517288bb",
   "metadata": {},
   "outputs": [],
   "source": [
    "from pyspark.sql.functions import date_format, to_date, split, lit, substring, length"
   ]
  },
  {
   "cell_type": "code",
   "execution_count": null,
   "id": "9c78c189",
   "metadata": {},
   "outputs": [],
   "source": [
    "df.selectExpr(\"CAST(key AS STRING)\", \"CAST(value AS STRING)\"). \\\n",
    "    withColumn('year', to_date(substring(split('value', ' ')[3], 2, 21), '[dd/MMM/yyyy:HH:mm:ss')). \\\n",
    "    writeStream. \\\n",
    "    format(\"memory\"). \\\n",
    "    queryName(\"log_messages\"). \\\n",
    "    start()"
   ]
  },
  {
   "cell_type": "code",
   "execution_count": 16,
   "id": "966f18ec",
   "metadata": {},
   "outputs": [
    {
     "name": "stdout",
     "output_type": "stream",
     "text": [
      "+----+----------------------------------------------------------------------------------------------------------------------------------------------------------------------------------------------------------------------------------------------+----------+\n",
      "|key |value                                                                                                                                                                                                                                         |year      |\n",
      "+----+----------------------------------------------------------------------------------------------------------------------------------------------------------------------------------------------------------------------------------------------+----------+\n",
      "|null|182.91.126.193 - - [23/Feb/2023:22:18:31 -0800] \"GET /department/golf/categories HTTP/1.1\" 404 969 \"-\" \"Mozilla/5.0 (Macintosh; Intel Mac OS X 10_9_4) AppleWebKit/537.77.4 (KHTML, like Gecko) Version/7.0.5 Safari/537.77.4\"                |2023-02-23|\n",
      "|null|182.91.126.193 - - [23/Feb/2023:22:18:32 -0800] \"GET /department/fitness/categories HTTP/1.1\" 503 1629 \"-\" \"Mozilla/5.0 (Windows NT 6.1; WOW64; rv:30.0) Gecko/20100101 Firefox/30.0\"                                                         |2023-02-23|\n",
      "|null|169.116.105.81 - - [23/Feb/2023:22:18:33 -0800] \"GET /departments HTTP/1.1\" 200 519 \"-\" \"Mozilla/5.0 (Windows NT 6.3; WOW64) AppleWebKit/537.36 (KHTML, like Gecko) Chrome/35.0.1916.153 Safari/537.36\"                                       |2023-02-23|\n",
      "|null|195.8.233.215 - - [23/Feb/2023:22:18:34 -0800] \"GET /product/1064 HTTP/1.1\" 200 1225 \"-\" \"Mozilla/5.0 (Windows NT 6.1; WOW64; Trident/7.0; rv:11.0) like Gecko\"                                                                               |2023-02-23|\n",
      "|null|114.11.121.54 - - [23/Feb/2023:22:18:35 -0800] \"GET /department/team%20sports/categories HTTP/1.1\" 200 424 \"-\" \"Mozilla/5.0 (Windows NT 6.1; rv:30.0) Gecko/20100101 Firefox/30.0\"                                                            |2023-02-23|\n",
      "|null|130.168.174.170 - - [23/Feb/2023:22:18:36 -0800] \"GET /department/outdoors/categories HTTP/1.1\" 200 541 \"-\" \"Mozilla/5.0 (Windows NT 6.1; WOW64) AppleWebKit/537.36 (KHTML, like Gecko) Chrome/36.0.1985.125 Safari/537.36\"                   |2023-02-23|\n",
      "|null|7.47.166.60 - - [23/Feb/2023:22:18:37 -0800] \"GET /product/166 HTTP/1.1\" 200 1377 \"-\" \"Mozilla/5.0 (Windows NT 6.1; WOW64) AppleWebKit/537.36 (KHTML, like Gecko) Chrome/35.0.1916.153 Safari/537.36\"                                         |2023-02-23|\n",
      "|null|178.110.190.208 - - [23/Feb/2023:22:18:38 -0800] \"GET /department/fan%20shop/categories HTTP/1.1\" 200 2053 \"-\" \"Mozilla/5.0 (Windows NT 6.1; WOW64; rv:30.0) Gecko/20100101 Firefox/30.0\"                                                     |2023-02-23|\n",
      "|null|72.25.129.208 - - [23/Feb/2023:22:18:39 -0800] \"GET /checkout HTTP/1.1\" 200 1210 \"-\" \"Mozilla/5.0 (Windows NT 6.1; WOW64) AppleWebKit/537.36 (KHTML, like Gecko) Chrome/35.0.1916.153 Safari/537.36\"                                          |2023-02-23|\n",
      "|null|162.166.219.156 - - [23/Feb/2023:22:18:40 -0800] \"GET /logout HTTP/1.1\" 200 734 \"-\" \"Mozilla/5.0 (Windows NT 6.1; WOW64) AppleWebKit/537.36 (KHTML, like Gecko) Chrome/35.0.1916.153 Safari/537.36\"                                           |2023-02-23|\n",
      "|null|32.54.128.217 - - [23/Feb/2023:22:18:41 -0800] \"GET /department/fan%20shop/categories HTTP/1.1\" 200 1922 \"-\" \"Mozilla/5.0 (Windows NT 6.1; rv:30.0) Gecko/20100101 Firefox/30.0\"                                                              |2023-02-23|\n",
      "|null|204.122.78.32 - - [23/Feb/2023:22:18:42 -0800] \"GET /department/golf/categories HTTP/1.1\" 200 1336 \"-\" \"Mozilla/5.0 (Macintosh; Intel Mac OS X 10_9_3) AppleWebKit/537.36 (KHTML, like Gecko) Chrome/35.0.1916.153 Safari/537.36\"             |2023-02-23|\n",
      "|null|49.5.128.182 - - [23/Feb/2023:22:18:43 -0800] \"GET /departments HTTP/1.1\" 200 1787 \"-\" \"Mozilla/5.0 (Windows NT 6.3; WOW64; rv:30.0) Gecko/20100101 Firefox/30.0\"                                                                             |2023-02-23|\n",
      "|null|33.146.238.229 - - [23/Feb/2023:22:18:44 -0800] \"GET /department/outdoors/categories HTTP/1.1\" 200 1319 \"-\" \"Mozilla/5.0 (Macintosh; Intel Mac OS X 10_9_4) AppleWebKit/537.36 (KHTML, like Gecko) Chrome/35.0.1916.153 Safari/537.36\"        |2023-02-23|\n",
      "|null|58.217.180.84 - - [23/Feb/2023:22:18:45 -0800] \"GET /categories/indoor/outdoor%20games/products HTTP/1.1\" 200 490 \"-\" \"Mozilla/5.0 (Macintosh; Intel Mac OS X 10_9_3) AppleWebKit/537.76.4 (KHTML, like Gecko) Version/7.0.4 Safari/537.76.4\" |2023-02-23|\n",
      "|null|138.30.16.239 - - [23/Feb/2023:22:18:46 -0800] \"GET /checkout HTTP/1.1\" 200 602 \"-\" \"Mozilla/5.0 (Windows NT 6.1; rv:30.0) Gecko/20100101 Firefox/30.0\"                                                                                       |2023-02-23|\n",
      "|null|206.194.4.160 - - [23/Feb/2023:22:18:47 -0800] \"GET /categories/women%27s%20apparel/products HTTP/1.1\" 200 1672 \"-\" \"Mozilla/5.0 (Macintosh; Intel Mac OS X 10_9_4) AppleWebKit/537.36 (KHTML, like Gecko) Chrome/35.0.1916.153 Safari/537.36\"|2023-02-23|\n",
      "|null|38.226.112.54 - - [23/Feb/2023:22:18:48 -0800] \"GET /departments HTTP/1.1\" 200 1090 \"-\" \"Mozilla/5.0 (Windows NT 6.3; WOW64) AppleWebKit/537.36 (KHTML, like Gecko) Chrome/35.0.1916.153 Safari/537.36\"                                       |2023-02-23|\n",
      "|null|137.17.188.151 - - [23/Feb/2023:22:18:49 -0800] \"GET /add_to_cart/693 HTTP/1.1\" 503 1351 \"-\" \"Mozilla/5.0 (X11; Linux x86_64) AppleWebKit/537.36 (KHTML, like Gecko) Chrome/35.0.1916.153 Safari/537.36\"                                      |2023-02-23|\n",
      "|null|139.144.50.226 - - [23/Feb/2023:22:18:50 -0800] \"GET /product/282 HTTP/1.1\" 200 1183 \"-\" \"Mozilla/5.0 (Windows NT 6.1) AppleWebKit/537.36 (KHTML, like Gecko) Chrome/35.0.1916.153 Safari/537.36\"                                             |2023-02-23|\n",
      "+----+----------------------------------------------------------------------------------------------------------------------------------------------------------------------------------------------------------------------------------------------+----------+\n",
      "only showing top 20 rows\n",
      "\n"
     ]
    }
   ],
   "source": [
    "spark.sql('SELECT * FROM log_messages').show(truncate=False)"
   ]
  },
  {
   "cell_type": "code",
   "execution_count": 18,
   "id": "4f83c0c8",
   "metadata": {},
   "outputs": [
    {
     "name": "stdout",
     "output_type": "stream",
     "text": [
      "+--------+\n",
      "|count(1)|\n",
      "+--------+\n",
      "|2000    |\n",
      "+--------+\n",
      "\n"
     ]
    }
   ],
   "source": [
    "spark.sql('SELECT count(1) FROM log_messages').show(truncate=False)"
   ]
  },
  {
   "cell_type": "code",
   "execution_count": null,
   "id": "bf9fc7c3",
   "metadata": {},
   "outputs": [],
   "source": []
  }
 ],
 "metadata": {
  "kernelspec": {
   "display_name": "Pyspark 3",
   "language": "python",
   "name": "pyspark3"
  },
  "language_info": {
   "codemirror_mode": {
    "name": "ipython",
    "version": 3
   },
   "file_extension": ".py",
   "mimetype": "text/x-python",
   "name": "python",
   "nbconvert_exporter": "python",
   "pygments_lexer": "ipython3",
   "version": "3.6.12"
  }
 },
 "nbformat": 4,
 "nbformat_minor": 5
}
