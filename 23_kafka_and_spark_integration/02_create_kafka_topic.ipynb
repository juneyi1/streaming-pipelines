{
 "cells": [
  {
   "cell_type": "code",
   "execution_count": null,
   "id": "e62203fc",
   "metadata": {},
   "outputs": [],
   "source": [
    "!/opt/kafka/bin/kafka-topics.sh \\\n",
    "    --zookeeper m01.itversity.com:2181,m02.itversity.com:2181,w01.itversity.com:2181 \\\n",
    "    --delete \\\n",
    "    --topic ${USER}_retail"
   ]
  },
  {
   "cell_type": "code",
   "execution_count": 1,
   "id": "e7aa25ab",
   "metadata": {},
   "outputs": [
    {
     "name": "stdout",
     "output_type": "stream",
     "text": [
      "WARNING: Due to limitations in metric names, topics with a period ('.') or underscore ('_') could collide. To avoid issues it is best to use either, but not both.\n",
      "Created topic itversity_retail.\n"
     ]
    }
   ],
   "source": [
    "!/opt/kafka/bin/kafka-topics.sh \\\n",
    "    --zookeeper m01.itversity.com:2181,m02.itversity.com:2181,w01.itversity.com:2181 \\\n",
    "    --create \\\n",
    "    --topic ${USER}_retail \\\n",
    "    --partitions 3 \\\n",
    "    --replication-factor 2"
   ]
  },
  {
   "cell_type": "code",
   "execution_count": null,
   "id": "795ffc81",
   "metadata": {},
   "outputs": [],
   "source": [
    "!/opt/kafka/bin/kafka-topics.sh \\\n",
    "    --zookeeper m01.itversity.com:2181,m02.itversity.com:2181,w01.itversity.com:2181 \\\n",
    "    --list \\\n",
    "    --topic ${USER}_retail"
   ]
  },
  {
   "cell_type": "code",
   "execution_count": null,
   "id": "337dd241",
   "metadata": {},
   "outputs": [],
   "source": [
    "!/opt/kafka/bin/kafka-topics.sh \\\n",
    "    --zookeeper m01.itversity.com:2181,m02.itversity.com:2181,w01.itversity.com:2181 \\\n",
    "    --describe \\\n",
    "    --topic ${USER}_retail"
   ]
  },
  {
   "cell_type": "code",
   "execution_count": null,
   "id": "cc377c16",
   "metadata": {},
   "outputs": [],
   "source": []
  }
 ],
 "metadata": {
  "kernelspec": {
   "display_name": "Python 3",
   "language": "python",
   "name": "python3"
  },
  "language_info": {
   "codemirror_mode": {
    "name": "ipython",
    "version": 3
   },
   "file_extension": ".py",
   "mimetype": "text/x-python",
   "name": "python",
   "nbconvert_exporter": "python",
   "pygments_lexer": "ipython3",
   "version": "3.6.12"
  }
 },
 "nbformat": 4,
 "nbformat_minor": 5
}
