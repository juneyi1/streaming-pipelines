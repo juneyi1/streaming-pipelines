{
 "cells": [
  {
   "cell_type": "markdown",
   "metadata": {},
   "source": [
    "## Previewing the Streaming Data\n",
    "\n",
    "Let us understand how we can preview the streaming data using `console` as well as `memory`. We have seen console already in the past.\n",
    "* Here is an example to preview the streaming data using `console`. We will preview the data using `update` mode involving aggregations as part of transformations. Launch **Pyspark CLI** and run this script.\n",
    "\n",
    "```python\n",
    "spark.conf.set('spark.sql.shuffle.partitions', '2')\n",
    "\n",
    "import socket\n",
    "hostname = socket.gethostname()\n",
    "\n",
    "log_messages = spark. \\\n",
    "    readStream. \\\n",
    "    format(\"socket\"). \\\n",
    "    option(\"host\", hostname). \\\n",
    "    option(\"port\", 9000). \\\n",
    "    load()\n",
    "\n",
    "from pyspark.sql.functions import split, count, lit\n",
    "\n",
    "department_count = log_messages. \\\n",
    "    filter(split(split('value', ' ')[6], '/')[1] == 'department'). \\\n",
    "    select(split(split('value', ' ')[6], '/')[2].alias('department')). \\\n",
    "    groupBy('department'). \\\n",
    "    agg(count(lit(1)).alias('department_count'))\n",
    "\n",
    "department_count. \\\n",
    "    writeStream. \\\n",
    "    outputMode(\"update\"). \\\n",
    "    format(\"console\"). \\\n",
    "    option('truncate', 'false'). \\\n",
    "    trigger(processingTime='5 seconds'). \\\n",
    "    start()\n",
    "```"
   ]
  },
  {
   "cell_type": "markdown",
   "metadata": {},
   "source": [
    "Launch Pyspark using below commands and run Spark Structured Streaming Code.\n",
    "\n",
    "**Using Pyspark2**\n",
    "\n",
    "```\n",
    "export PYSPARK_PYTHON=python3\n",
    "\n",
    "pyspark2 \\\n",
    "    --master yarn \\\n",
    "    --conf spark.ui.port=0 \\\n",
    "    --conf spark.sql.warehouse.dir=/user/${USER}/warehouse\n",
    "```\n",
    "\n",
    "**Using Pyspark3**\n",
    "\n",
    "```\n",
    "export PYSPARK_PYTHON=python3\n",
    "\n",
    "pyspark3 \\\n",
    "    --master yarn \\\n",
    "    --conf spark.ui.port=0 \\\n",
    "    --conf spark.sql.warehouse.dir=/user/${USER}/warehouse\n",
    "```"
   ]
  },
  {
   "cell_type": "code",
   "execution_count": 1,
   "metadata": {},
   "outputs": [],
   "source": [
    "from pyspark.sql import SparkSession\n",
    "\n",
    "import getpass\n",
    "username = getpass.getuser()\n",
    "\n",
    "spark = SparkSession. \\\n",
    "    builder. \\\n",
    "    config('spark.ui.port', '0'). \\\n",
    "    config(\"spark.sql.warehouse.dir\", f\"/user/{username}/warehouse\"). \\\n",
    "    enableHiveSupport(). \\\n",
    "    appName(f'{username} | Python - Overview of Structured Streaming'). \\\n",
    "    master('yarn'). \\\n",
    "    getOrCreate()"
   ]
  },
  {
   "cell_type": "code",
   "execution_count": 2,
   "metadata": {},
   "outputs": [],
   "source": [
    "spark.conf.set('spark.sql.shuffle.partitions', '2')"
   ]
  },
  {
   "cell_type": "code",
   "execution_count": 4,
   "metadata": {},
   "outputs": [
    {
     "data": {
      "text/plain": [
       "'g02'"
      ]
     },
     "execution_count": 4,
     "metadata": {},
     "output_type": "execute_result"
    }
   ],
   "source": [
    "import socket\n",
    "hostname = socket.gethostname()\n",
    "hostname"
   ]
  },
  {
   "cell_type": "code",
   "execution_count": 5,
   "metadata": {},
   "outputs": [],
   "source": [
    "log_messages = spark. \\\n",
    "    readStream. \\\n",
    "    format(\"socket\"). \\\n",
    "    option(\"host\", hostname). \\\n",
    "    option(\"port\", 9000). \\\n",
    "    load()"
   ]
  },
  {
   "cell_type": "code",
   "execution_count": 6,
   "metadata": {},
   "outputs": [
    {
     "data": {
      "text/plain": [
       "True"
      ]
     },
     "execution_count": 6,
     "metadata": {},
     "output_type": "execute_result"
    }
   ],
   "source": [
    "log_messages.isStreaming"
   ]
  },
  {
   "cell_type": "code",
   "execution_count": 7,
   "metadata": {},
   "outputs": [
    {
     "name": "stdout",
     "output_type": "stream",
     "text": [
      "root\n",
      " |-- value: string (nullable = true)\n",
      "\n"
     ]
    }
   ],
   "source": [
    "log_messages.printSchema()"
   ]
  },
  {
   "cell_type": "code",
   "execution_count": 8,
   "metadata": {},
   "outputs": [
    {
     "data": {
      "text/plain": [
       "<pyspark.sql.streaming.StreamingQuery at 0x7fa871534748>"
      ]
     },
     "execution_count": 8,
     "metadata": {},
     "output_type": "execute_result"
    }
   ],
   "source": [
    "# outputMode will not have any impact\n",
    "log_messages. \\\n",
    "    writeStream. \\\n",
    "    format(\"memory\"). \\\n",
    "    queryName(\"log_messages\"). \\\n",
    "    start()"
   ]
  },
  {
   "cell_type": "code",
   "execution_count": 9,
   "metadata": {},
   "outputs": [
    {
     "name": "stdout",
     "output_type": "stream",
     "text": [
      "+----------------------------------------------------------------------------------------------------------------------------------------------------------------------------------------------------------------------------+\n",
      "|value                                                                                                                                                                                                                       |\n",
      "+----------------------------------------------------------------------------------------------------------------------------------------------------------------------------------------------------------------------------+\n",
      "|44.189.215.171 - - [08/Jun/2023:13:56:20 -0800] \"GET /checkout HTTP/1.1\" 200 623 \"-\" \"Mozilla/5.0 (Macintosh; Intel Mac OS X 10_9_3) AppleWebKit/537.76.4 (KHTML, like Gecko) Version/7.0.4 Safari/537.76.4\"                |\n",
      "|24.45.196.46 - - [08/Jun/2023:13:56:22 -0800] \"GET /departments HTTP/1.1\" 200 455 \"-\" \"Mozilla/5.0 (Windows NT 6.3; WOW64; rv:30.0) Gecko/20100101 Firefox/30.0\"                                                            |\n",
      "|44.8.32.120 - - [08/Jun/2023:13:56:24 -0800] \"GET /department/fitness/categories HTTP/1.1\" 200 1908 \"-\" \"Mozilla/5.0 (Windows NT 6.1; WOW64; rv:30.0) Gecko/20100101 Firefox/30.0\"                                          |\n",
      "|114.200.133.220 - - [08/Jun/2023:13:56:26 -0800] \"GET /product/199 HTTP/1.1\" 200 1840 \"-\" \"Mozilla/5.0 (Macintosh; Intel Mac OS X 10_9_4) AppleWebKit/537.36 (KHTML, like Gecko) Chrome/35.0.1916.153 Safari/537.36\"        |\n",
      "|20.212.222.222 - - [08/Jun/2023:13:56:28 -0800] \"GET /departments HTTP/1.1\" 404 2006 \"-\" \"Mozilla/5.0 (Macintosh; Intel Mac OS X 10_9_4) AppleWebKit/537.36 (KHTML, like Gecko) Chrome/36.0.1985.125 Safari/537.36\"         |\n",
      "|13.57.150.162 - - [08/Jun/2023:13:56:30 -0800] \"GET /department/golf/categories HTTP/1.1\" 404 351 \"-\" \"Mozilla/5.0 (Windows NT 6.1; WOW64) AppleWebKit/537.36 (KHTML, like Gecko) Chrome/36.0.1985.125 Safari/537.36\"       |\n",
      "|30.172.170.111 - - [08/Jun/2023:13:56:32 -0800] \"GET /product/1235 HTTP/1.1\" 200 557 \"-\" \"Mozilla/5.0 (Windows NT 6.1; WOW64) AppleWebKit/537.36 (KHTML, like Gecko) Chrome/35.0.1916.153 Safari/537.36\"                    |\n",
      "|90.154.20.129 - - [08/Jun/2023:13:56:34 -0800] \"GET /support HTTP/1.1\" 200 2229 \"-\" \"Mozilla/5.0 (Macintosh; Intel Mac OS X 10_9_4) AppleWebKit/537.77.4 (KHTML, like Gecko) Version/7.0.5 Safari/537.77.4\"                 |\n",
      "|30.7.149.147 - - [08/Jun/2023:13:56:36 -0800] \"GET /product/217 HTTP/1.1\" 200 1784 \"-\" \"Mozilla/5.0 (Macintosh; Intel Mac OS X 10_9_4) AppleWebKit/537.36 (KHTML, like Gecko) Chrome/35.0.1916.153 Safari/537.36\"           |\n",
      "|24.180.217.25 - - [08/Jun/2023:13:56:38 -0800] \"GET /departments HTTP/1.1\" 200 2036 \"-\" \"Mozilla/5.0 (Macintosh; Intel Mac OS X 10_9_4) AppleWebKit/537.77.4 (KHTML, like Gecko) Version/7.0.5 Safari/537.77.4\"             |\n",
      "|65.194.4.98 - - [08/Jun/2023:13:56:40 -0800] \"GET /product/336 HTTP/1.1\" 200 1678 \"-\" \"Mozilla/5.0 (Windows NT 6.1; WOW64) AppleWebKit/537.36 (KHTML, like Gecko) Chrome/36.0.1985.125 Safari/537.36\"                       |\n",
      "|13.174.203.18 - - [08/Jun/2023:13:56:42 -0800] \"GET /add_to_cart/148 HTTP/1.1\" 200 2100 \"-\" \"Mozilla/5.0 (Macintosh; Intel Mac OS X 10_9_3) AppleWebKit/537.36 (KHTML, like Gecko) Chrome/35.0.1916.153 Safari/537.36\"      |\n",
      "|161.196.123.120 - - [08/Jun/2023:13:56:44 -0800] \"GET /department/fan%20shop/products HTTP/1.1\" 200 1290 \"-\" \"Mozilla/5.0 (Windows NT 6.3; WOW64) AppleWebKit/537.36 (KHTML, like Gecko) Chrome/35.0.1916.153 Safari/537.36\"|\n",
      "|132.75.38.163 - - [08/Jun/2023:13:56:46 -0800] \"GET /departments HTTP/1.1\" 200 1243 \"-\" \"Mozilla/5.0 (Macintosh; Intel Mac OS X 10_9_3) AppleWebKit/537.76.4 (KHTML, like Gecko) Version/7.0.4 Safari/537.76.4\"             |\n",
      "|206.42.108.4 - - [08/Jun/2023:13:56:48 -0800] \"GET /department/apparel/products HTTP/1.1\" 404 349 \"-\" \"Mozilla/5.0 (Windows NT 6.1; rv:30.0) Gecko/20100101 Firefox/30.0\"                                                   |\n",
      "|175.167.21.142 - - [08/Jun/2023:13:56:50 -0800] \"GET /product/359 HTTP/1.1\" 200 1561 \"-\" \"Mozilla/5.0 (Windows NT 6.1; WOW64; rv:30.0) Gecko/20100101 Firefox/30.0\"                                                         |\n",
      "|152.62.37.242 - - [08/Jun/2023:13:56:52 -0800] \"GET /departments HTTP/1.1\" 200 1707 \"-\" \"Mozilla/5.0 (Windows NT 6.1; WOW64) AppleWebKit/537.36 (KHTML, like Gecko) Chrome/35.0.1916.153 Safari/537.36\"                     |\n",
      "|206.42.108.4 - - [08/Jun/2023:13:56:54 -0800] \"GET /departments HTTP/1.1\" 200 1944 \"-\" \"Mozilla/5.0 (Windows NT 6.1; WOW64; rv:30.0) Gecko/20100101 Firefox/30.0\"                                                           |\n",
      "|193.230.226.235 - - [08/Jun/2023:13:56:56 -0800] \"GET /product/1102 HTTP/1.1\" 200 1753 \"-\" \"Mozilla/5.0 (X11; Ubuntu; Linux x86_64; rv:30.0) Gecko/20100101 Firefox/30.0\"                                                   |\n",
      "|174.62.218.188 - - [08/Jun/2023:13:56:58 -0800] \"GET /add_to_cart/652 HTTP/1.1\" 200 1093 \"-\" \"Mozilla/5.0 (Windows NT 6.1; WOW64; Trident/7.0; rv:11.0) like Gecko\"                                                         |\n",
      "+----------------------------------------------------------------------------------------------------------------------------------------------------------------------------------------------------------------------------+\n",
      "only showing top 20 rows\n",
      "\n"
     ]
    }
   ],
   "source": [
    "spark.sql('SELECT * FROM log_messages').show(truncate=False)"
   ]
  },
  {
   "cell_type": "code",
   "execution_count": 12,
   "metadata": {},
   "outputs": [
    {
     "name": "stdout",
     "output_type": "stream",
     "text": [
      "+--------+\n",
      "|count(1)|\n",
      "+--------+\n",
      "|272     |\n",
      "+--------+\n",
      "\n"
     ]
    }
   ],
   "source": [
    "spark.sql('SELECT count(1) FROM log_messages').show(truncate=False)"
   ]
  },
  {
   "cell_type": "code",
   "execution_count": 13,
   "metadata": {},
   "outputs": [
    {
     "name": "stdout",
     "output_type": "stream",
     "text": [
      "+-----------------------------------------------------------------------------------------------------------------------------------------------------------------------------------------------------------------------------------------+\n",
      "|value                                                                                                                                                                                                                                    |\n",
      "+-----------------------------------------------------------------------------------------------------------------------------------------------------------------------------------------------------------------------------------------+\n",
      "|44.8.32.120 - - [08/Jun/2023:13:56:24 -0800] \"GET /department/fitness/categories HTTP/1.1\" 200 1908 \"-\" \"Mozilla/5.0 (Windows NT 6.1; WOW64; rv:30.0) Gecko/20100101 Firefox/30.0\"                                                       |\n",
      "|13.57.150.162 - - [08/Jun/2023:13:56:30 -0800] \"GET /department/golf/categories HTTP/1.1\" 404 351 \"-\" \"Mozilla/5.0 (Windows NT 6.1; WOW64) AppleWebKit/537.36 (KHTML, like Gecko) Chrome/36.0.1985.125 Safari/537.36\"                    |\n",
      "|161.196.123.120 - - [08/Jun/2023:13:56:44 -0800] \"GET /department/fan%20shop/products HTTP/1.1\" 200 1290 \"-\" \"Mozilla/5.0 (Windows NT 6.3; WOW64) AppleWebKit/537.36 (KHTML, like Gecko) Chrome/35.0.1916.153 Safari/537.36\"             |\n",
      "|206.42.108.4 - - [08/Jun/2023:13:56:48 -0800] \"GET /department/apparel/products HTTP/1.1\" 404 349 \"-\" \"Mozilla/5.0 (Windows NT 6.1; rv:30.0) Gecko/20100101 Firefox/30.0\"                                                                |\n",
      "|90.154.20.129 - - [08/Jun/2023:13:57:00 -0800] \"GET /department/apparel/categories HTTP/1.1\" 200 1129 \"-\" \"Mozilla/5.0 (Macintosh; Intel Mac OS X 10_9_4) AppleWebKit/537.77.4 (KHTML, like Gecko) Version/7.0.5 Safari/537.77.4\"        |\n",
      "|44.195.92.36 - - [08/Jun/2023:13:57:08 -0800] \"GET /department/footwear/categories HTTP/1.1\" 200 1317 \"-\" \"Mozilla/5.0 (X11; Linux x86_64) AppleWebKit/537.36 (KHTML, like Gecko) Chrome/35.0.1916.153 Safari/537.36\"                    |\n",
      "|90.154.20.129 - - [08/Jun/2023:13:57:10 -0800] \"GET /department/team%20sports/categories HTTP/1.1\" 200 872 \"-\" \"Mozilla/5.0 (Macintosh; Intel Mac OS X 10_9_4) AppleWebKit/537.36 (KHTML, like Gecko) Chrome/36.0.1985.125 Safari/537.36\"|\n",
      "|146.79.193.245 - - [08/Jun/2023:13:57:22 -0800] \"GET /department/fan%20shop/products HTTP/1.1\" 200 225 \"-\" \"Mozilla/5.0 (Macintosh; Intel Mac OS X 10_9_3) AppleWebKit/537.76.4 (KHTML, like Gecko) Version/7.0.4 Safari/537.76.4\"       |\n",
      "|139.118.55.223 - - [08/Jun/2023:13:57:27 -0800] \"GET /department/outdoors/categories HTTP/1.1\" 200 2014 \"-\" \"Mozilla/5.0 (X11; Linux x86_64) AppleWebKit/537.36 (KHTML, like Gecko) Chrome/35.0.1916.153 Safari/537.36\"                  |\n",
      "|75.115.180.208 - - [08/Jun/2023:13:57:31 -0800] \"GET /department/apparel/categories HTTP/1.1\" 200 1128 \"-\" \"Mozilla/5.0 (Macintosh; Intel Mac OS X 10_9_3) AppleWebKit/537.36 (KHTML, like Gecko) Chrome/35.0.1916.153 Safari/537.36\"    |\n",
      "|190.193.207.226 - - [08/Jun/2023:13:57:39 -0800] \"GET /department/team%20sports/categories HTTP/1.1\" 404 371 \"-\" \"Mozilla/5.0 (Windows NT 6.3; WOW64; rv:30.0) Gecko/20100101 Firefox/30.0\"                                              |\n",
      "|145.3.110.211 - - [08/Jun/2023:13:57:43 -0800] \"GET /department/fan%20shop/categories HTTP/1.1\" 200 1808 \"-\" \"Mozilla/5.0 (Windows NT 6.1; WOW64) AppleWebKit/537.36 (KHTML, like Gecko) Chrome/35.0.1916.153 Safari/537.36\"             |\n",
      "|173.35.70.164 - - [08/Jun/2023:13:57:53 -0800] \"GET /department/fitness/categories HTTP/1.1\" 200 604 \"-\" \"Mozilla/5.0 (X11; Ubuntu; Linux x86_64; rv:30.0) Gecko/20100101 Firefox/30.0\"                                                  |\n",
      "|193.48.94.219 - - [08/Jun/2023:13:57:55 -0800] \"GET /department/footwear/products HTTP/1.1\" 200 376 \"-\" \"Mozilla/5.0 (X11; Ubuntu; Linux x86_64; rv:30.0) Gecko/20100101 Firefox/30.0\"                                                   |\n",
      "|206.42.108.4 - - [08/Jun/2023:13:58:07 -0800] \"GET /department/outdoors/products HTTP/1.1\" 200 1136 \"-\" \"Mozilla/5.0 (Windows NT 6.1; WOW64; rv:30.0) Gecko/20100101 Firefox/30.0\"                                                       |\n",
      "|175.167.21.142 - - [08/Jun/2023:13:58:11 -0800] \"GET /department/footwear/categories HTTP/1.1\" 200 1372 \"-\" \"Mozilla/5.0 (Macintosh; Intel Mac OS X 10_9_3) AppleWebKit/537.76.4 (KHTML, like Gecko) Version/7.0.4 Safari/537.76.4\"      |\n",
      "|34.97.5.233 - - [08/Jun/2023:13:58:17 -0800] \"GET /department/team%20sports/categories HTTP/1.1\" 200 1971 \"-\" \"Mozilla/5.0 (Macintosh; Intel Mac OS X 10_9_3) AppleWebKit/537.36 (KHTML, like Gecko) Chrome/35.0.1916.153 Safari/537.36\" |\n",
      "|28.26.243.229 - - [08/Jun/2023:13:58:27 -0800] \"GET /department/apparel/categories HTTP/1.1\" 200 809 \"-\" \"Mozilla/5.0 (Macintosh; Intel Mac OS X 10_9_3) AppleWebKit/537.76.4 (KHTML, like Gecko) Version/7.0.4 Safari/537.76.4\"         |\n",
      "|24.180.217.25 - - [08/Jun/2023:13:58:29 -0800] \"GET /department/golf/categories HTTP/1.1\" 200 658 \"-\" \"Mozilla/5.0 (Windows NT 6.1; WOW64) AppleWebKit/537.36 (KHTML, like Gecko) Chrome/35.0.1916.153 Safari/537.36\"                    |\n",
      "|35.206.75.238 - - [08/Jun/2023:13:58:43 -0800] \"GET /department/fan%20shop/products HTTP/1.1\" 200 1532 \"-\" \"Mozilla/5.0 (Windows NT 6.1; WOW64) AppleWebKit/537.36 (KHTML, like Gecko) Chrome/35.0.1916.153 Safari/537.36\"               |\n",
      "+-----------------------------------------------------------------------------------------------------------------------------------------------------------------------------------------------------------------------------------------+\n",
      "only showing top 20 rows\n",
      "\n"
     ]
    }
   ],
   "source": [
    "spark.sql(\"\"\"\n",
    "    SELECT * FROM log_messages\n",
    "    WHERE split(split(value, ' ')[6], '/')[1] = 'department'\n",
    "\"\"\").show(truncate=False)"
   ]
  },
  {
   "cell_type": "code",
   "execution_count": 16,
   "metadata": {},
   "outputs": [
    {
     "name": "stdout",
     "output_type": "stream",
     "text": [
      "+--------+\n",
      "|count(1)|\n",
      "+--------+\n",
      "|107     |\n",
      "+--------+\n",
      "\n"
     ]
    }
   ],
   "source": [
    "spark.sql(\"\"\"\n",
    "    SELECT count(1) FROM log_messages\n",
    "    WHERE split(split(value, ' ')[6], '/')[1] = 'department'\n",
    "\"\"\").show(truncate=False)"
   ]
  },
  {
   "cell_type": "code",
   "execution_count": 18,
   "metadata": {},
   "outputs": [
    {
     "name": "stdout",
     "output_type": "stream",
     "text": [
      "+-------------+---+\n",
      "|department   |cnt|\n",
      "+-------------+---+\n",
      "|fitness      |19 |\n",
      "|team%20sports|20 |\n",
      "|fan%20shop   |21 |\n",
      "|outdoors     |7  |\n",
      "|golf         |21 |\n",
      "|footwear     |11 |\n",
      "|apparel      |20 |\n",
      "+-------------+---+\n",
      "\n"
     ]
    }
   ],
   "source": [
    "spark.sql(\"\"\"\n",
    "    SELECT split(split(value, ' ')[6], '/')[2] AS department, \n",
    "        count(1) AS cnt\n",
    "    FROM log_messages\n",
    "    WHERE split(split(value, ' ')[6], '/')[1] = 'department'\n",
    "    GROUP BY split(split(value, ' ')[6], '/')[2]\n",
    "\"\"\").show(truncate=False)"
   ]
  },
  {
   "cell_type": "code",
   "execution_count": 19,
   "metadata": {},
   "outputs": [
    {
     "name": "stdout",
     "output_type": "stream",
     "text": [
      "+-------------+---+\n",
      "|department   |cnt|\n",
      "+-------------+---+\n",
      "|fitness      |19 |\n",
      "|fan%20shop   |23 |\n",
      "|team%20sports|22 |\n",
      "|outdoors     |8  |\n",
      "|golf         |21 |\n",
      "|apparel      |21 |\n",
      "|footwear     |11 |\n",
      "+-------------+---+\n",
      "\n"
     ]
    }
   ],
   "source": [
    "spark.sql(\"\"\"\n",
    "    SELECT split(split(value, ' ')[6], '/')[2] AS department, \n",
    "        count(1) AS cnt\n",
    "    FROM log_messages\n",
    "    WHERE split(split(value, ' ')[6], '/')[1] = 'department'\n",
    "    GROUP BY split(split(value, ' ')[6], '/')[2]\n",
    "\"\"\").show(truncate=False)"
   ]
  },
  {
   "cell_type": "code",
   "execution_count": null,
   "metadata": {},
   "outputs": [],
   "source": []
  }
 ],
 "metadata": {
  "kernelspec": {
   "display_name": "Pyspark 3",
   "language": "python",
   "name": "pyspark3"
  },
  "language_info": {
   "codemirror_mode": {
    "name": "ipython",
    "version": 3
   },
   "file_extension": ".py",
   "mimetype": "text/x-python",
   "name": "python",
   "nbconvert_exporter": "python",
   "pygments_lexer": "ipython3",
   "version": "3.6.12"
  }
 },
 "nbformat": 4,
 "nbformat_minor": 4
}
