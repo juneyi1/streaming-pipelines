{
 "cells": [
  {
   "cell_type": "markdown",
   "id": "dcdbf067",
   "metadata": {},
   "source": [
    "## Overview of built-in Output Sinks\n",
    "\n",
    "Let us get an overview of built-in output sinks as part of Spark Structured Streaming. Output Sink is nothing but the target to which we can write the data.\n",
    "* **Console sink (for debugging)** - Prints the output to the console/stdout every time there is a trigger. Both, Append and Complete output modes, are supported. This should be used for debugging purposes on low data volumes as the entire output is collected and stored in the driver’s memory after every trigger.\n",
    "* **Memory sink (for debugging)** - The output is stored in memory as an in-memory table. Both, Append and Complete output modes, are supported. This should be used for debugging purposes on low data volumes as the entire output is collected and stored in the driver’s memory. Hence, use it with caution.\n",
    "* **File sink** - Stores the output to a directory. We will see examples as part of this section as well as part of subsequent sections or modules.\n",
    "* **Kafka sink** - Stores the output to one or more topics in Kafka. We will explore it later as part of subsequent sections or modules.\n",
    "* **Foreach sink** - Runs arbitrary computation on the records in the output. We will explore it later as part of subsequent sections or modules."
   ]
  },
  {
   "cell_type": "code",
   "execution_count": null,
   "id": "6420b0f9",
   "metadata": {},
   "outputs": [],
   "source": []
  }
 ],
 "metadata": {
  "kernelspec": {
   "display_name": "Python 3",
   "language": "python",
   "name": "python3"
  },
  "language_info": {
   "codemirror_mode": {
    "name": "ipython",
    "version": 3
   },
   "file_extension": ".py",
   "mimetype": "text/x-python",
   "name": "python",
   "nbconvert_exporter": "python",
   "pygments_lexer": "ipython3",
   "version": "3.6.12"
  }
 },
 "nbformat": 4,
 "nbformat_minor": 5
}
