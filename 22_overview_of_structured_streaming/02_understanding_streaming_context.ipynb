{
 "cells": [
  {
   "cell_type": "markdown",
   "metadata": {},
   "source": [
    "## Understanding Streaming Context\n",
    "\n",
    "Let us first understand what a streaming context is. We will also compare it with regular Spark Context which is typically used for batch processing.\n",
    "* Typical Spark Context will be terminated once the program is completed.\n",
    "* Here is what happens when we run a typical Spark Application using `read` and `write` APIs using YARN:\n",
    "  * Allocate resources on the worker nodes of the cluster. These resources are nothing but JVMs and known as Spark Executors.\n",
    "  * Copy the code and other resources to the executors.\n",
    "  * Execute the code which typically reads the data from source, processes it using Spark based APIs and write the data back to some target.\n",
    "  * Based upon the actions performed we can see multiple jobs in Spark UI associated with a particular run of the application.\n",
    "  * Once the driver program run, all the JVMs will be garbage collected.\n",
    "* The execution of our application will spend few seconds of the time for the job overhead (allocate resources, copy the code and other resources as well as cleaning up of the resources at the end).\n",
    "* For hourly or daily or lower frequency jobs, this overhead is not significant. But for more frequent jobs which runs every few seconds up to few minutes this overhead can be significant. This is where **Streaming Context** comes into picture.\n",
    "* We typicaly trigger the job continuously or every few seconds. In this case the Spark Context will not be terminated, instead it will keep on waiting for next trigger as per the schedule or completion of earlier application execution."
   ]
  },
  {
   "cell_type": "code",
   "execution_count": null,
   "metadata": {},
   "outputs": [],
   "source": []
  }
 ],
 "metadata": {
  "kernelspec": {
   "display_name": "Pyspark 2",
   "language": "python",
   "name": "pyspark2"
  },
  "language_info": {
   "codemirror_mode": {
    "name": "ipython",
    "version": 3
   },
   "file_extension": ".py",
   "mimetype": "text/x-python",
   "name": "python",
   "nbconvert_exporter": "python",
   "pygments_lexer": "ipython3",
   "version": "3.6.12"
  }
 },
 "nbformat": 4,
 "nbformat_minor": 4
}
