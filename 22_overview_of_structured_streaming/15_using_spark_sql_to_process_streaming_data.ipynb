{
 "cells": [
  {
   "cell_type": "markdown",
   "metadata": {},
   "source": [
    "## Using Spark SQL to Process Streaming Data\n",
    "\n",
    "Let us understand how we can use Spark SQL to process streaming data. Here are the typical steps that are involved to process data leveraging Spark SQL to process Streaming Data.\n",
    "* Read data from the source as a Data Frame.\n",
    "* Create Temporary View using the Streaming Data Frame.\n",
    "* Use `spark.sql` to process the data using supported SQL queries. This will result in a Data Frame.\n",
    "* Finally write to target using `writeStream` on top of Data Frame which contain processed data.\n",
    "\n",
    "```python\n",
    "spark.conf.set('spark.sql.shuffle.partitions', '2')\n",
    "\n",
    "import socket\n",
    "hostname = socket.gethostname()\n",
    "\n",
    "log_messages = spark. \\\n",
    "    readStream. \\\n",
    "    format(\"socket\"). \\\n",
    "    option(\"host\", hostname). \\\n",
    "    option(\"port\", 9000). \\\n",
    "    load()\n",
    "\n",
    "log_messages.createOrReplaceTempView('log_messages')\n",
    "\n",
    "department_count = spark.sql(\"\"\"\n",
    "    SELECT split(split(value, ' ')[6], '/')[2] AS department_name, \n",
    "        count(1) AS count\n",
    "    FROM log_messages\n",
    "    WHERE split(split(value, ' ')[6], '/')[1] = 'department'\n",
    "    GROUP BY split(split(value, ' ')[6], '/')[2]\n",
    "\"\"\")\n",
    "\n",
    "department_count. \\\n",
    "    writeStream. \\\n",
    "    outputMode(\"complete\"). \\\n",
    "    format(\"console\"). \\\n",
    "    option('truncate', 'false'). \\\n",
    "    trigger(processingTime='5 seconds'). \\\n",
    "    start()\n",
    "```"
   ]
  },
  {
   "cell_type": "code",
   "execution_count": null,
   "metadata": {},
   "outputs": [],
   "source": []
  }
 ],
 "metadata": {
  "kernelspec": {
   "display_name": "Pyspark 2",
   "language": "python",
   "name": "pyspark2"
  },
  "language_info": {
   "codemirror_mode": {
    "name": "ipython",
    "version": 3
   },
   "file_extension": ".py",
   "mimetype": "text/x-python",
   "name": "python",
   "nbconvert_exporter": "python",
   "pygments_lexer": "ipython3",
   "version": "3.6.12"
  }
 },
 "nbformat": 4,
 "nbformat_minor": 4
}
