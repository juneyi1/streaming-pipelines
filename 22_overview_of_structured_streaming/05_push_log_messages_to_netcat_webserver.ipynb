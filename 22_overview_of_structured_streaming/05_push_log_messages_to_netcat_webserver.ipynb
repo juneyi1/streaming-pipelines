{
 "cells": [
  {
   "cell_type": "markdown",
   "id": "722e9433",
   "metadata": {},
   "source": [
    "## Push log messages to Netcat Webserver\n",
    "\n",
    "Here are the steps which we need to follow to push log messages to Netcat Web Server.\n",
    "\n",
    "1. Make sure that log messages are being generated in the log file.\n",
    "  * Run `tail_logs.sh` or `tail -f /opt/gen_logs/logs/access.log`.\n",
    "2. Launch Terminal or connect via SSH.\n",
    "3. Redirect tail command output to netcat server.\n",
    "\n",
    "```shell\n",
    "tail_logs.sh|nc -lk `hostname -f` 9000\n",
    "```\n",
    "\n",
    "4. Validate that the log messages are being pushed to netcat server.\n",
    "\n",
    "```shell\n",
    "telnet `hostname -f` 9000\n",
    "```"
   ]
  },
  {
   "cell_type": "code",
   "execution_count": null,
   "id": "d25472a3",
   "metadata": {},
   "outputs": [],
   "source": []
  }
 ],
 "metadata": {
  "kernelspec": {
   "display_name": "Python 3",
   "language": "python",
   "name": "python3"
  },
  "language_info": {
   "codemirror_mode": {
    "name": "ipython",
    "version": 3
   },
   "file_extension": ".py",
   "mimetype": "text/x-python",
   "name": "python",
   "nbconvert_exporter": "python",
   "pygments_lexer": "ipython3",
   "version": "3.6.12"
  }
 },
 "nbformat": 4,
 "nbformat_minor": 5
}
