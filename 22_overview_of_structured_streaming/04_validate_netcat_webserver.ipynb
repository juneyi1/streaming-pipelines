{
 "cells": [
  {
   "cell_type": "markdown",
   "id": "34936a2e",
   "metadata": {},
   "source": [
    "## Validate Netcat Webserver\n",
    "\n",
    "It is important to have streaming logs to explore details about Spark Structured Streaming and then get into Spark Structured Streaming. We have already installed log message generator on our labs. Let us understand how we can push those messages to simulated Netcat web server.\n",
    "\n",
    "**Brief overview of Netcat**\n",
    "\n",
    "Let us get an overview of Netcat before setting up simulated web server using the same.\n",
    "\n",
    "* Netcat (`nc`) is a simple web server which can be installed on any Linux based server.\n",
    "* It is pre installed on most of linux servers. If not, you just use the package manager and install (yum on Red Hat or its flavors, apt on Ubuntu or its flavors).\n",
    "* We can start a simple web server using commands such as `nc -lk <ip_address_or_dns_alias> <port_number>`\n",
    "* We can also redirect logs into that web server, which is useful for us to learn topics such as Spark Structured Streaming.\n",
    "* As part of the self support single node cluster you can use the below command. In our labs we have already started a process which runs the process on port 9000. You do not have to start using below command.\n",
    "\n",
    "```shell\n",
    "nc -lk `hostname -f` 9000\n",
    "```"
   ]
  },
  {
   "cell_type": "code",
   "execution_count": null,
   "id": "116a8c91",
   "metadata": {},
   "outputs": [],
   "source": []
  }
 ],
 "metadata": {
  "kernelspec": {
   "display_name": "Python 3",
   "language": "python",
   "name": "python3"
  },
  "language_info": {
   "codemirror_mode": {
    "name": "ipython",
    "version": 3
   },
   "file_extension": ".py",
   "mimetype": "text/x-python",
   "name": "python",
   "nbconvert_exporter": "python",
   "pygments_lexer": "ipython3",
   "version": "3.6.12"
  }
 },
 "nbformat": 4,
 "nbformat_minor": 5
}
