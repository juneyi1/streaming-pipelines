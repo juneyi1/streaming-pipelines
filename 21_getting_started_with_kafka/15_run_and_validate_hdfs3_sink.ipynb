{
 "cells": [
  {
   "cell_type": "markdown",
   "metadata": {},
   "source": [
    "## Run and Validate HDFS 3 Sink\n",
    "\n",
    "Let us run the HDFS 3 Sink and validate whether data is flowing in into HDFS or not.\n",
    "* Make sure that data is being written to Kafka topic by running the command.\n",
    "\n",
    "```shell\n",
    "# Run this command and see if the data is being refreshed on the screen. It means data is being currently written to the topic.\n",
    "/opt/kafka/bin/kafka-console-consumer.sh \\\n",
    "    --bootstrap-server w01.itversity.com:9092,w02.itversity.com:9092 \\\n",
    "    --topic `whoami`_retail\n",
    "\n",
    "# If the data is not being written to Kafka topic, run the below 2 commands in 2 different sessions.\n",
    "tail_logs.sh|/opt/kafka/bin/kafka-console-producer.sh \\\n",
    "    --bootstrap-server w01.itversity.com:9092,w02.itversity.com:9092 \\\n",
    "    --topic `whoami`_retail\n",
    "\n",
    "/opt/kafka/bin/kafka-console-consumer.sh \\\n",
    "    --bootstrap-server w01.itversity.com:9092,w02.itversity.com:9092 \\\n",
    "    --topic `whoami`_retail\n",
    "```\n",
    "\n",
    "* Go to the terminal\n",
    "* Go to the folder in which we have setup the Kafka connect properties files to get data from Kafka topic to HDFS.\n",
    "\n",
    "```shell\n",
    "cd kafka_connect/retail_logs_consume\n",
    "```\n",
    "\n",
    "* List the files by running `ls -ltr` to ensure that we have required properties files.\n",
    "* Run this command to start the Kafka Connect process\n",
    "\n",
    "```shell\n",
    "/opt/kafka/bin/connect-standalone.sh \\\n",
    "    retail_logs_standalone.properties \\\n",
    "    retail_logs_hdfs_sink.properties\n",
    "```\n",
    "\n",
    "* Validate in the HDFS folder to see if the files are being generated or not."
   ]
  },
  {
   "cell_type": "code",
   "execution_count": 7,
   "metadata": {},
   "outputs": [
    {
     "name": "stdout",
     "output_type": "stream",
     "text": [
      "Found 2 items\n",
      "drwxr-xr-x   - itversity itversity          0 2021-08-27 03:08 /user/itversity/retail_consumer/topics/+tmp\n",
      "drwxr-xr-x   - itversity itversity          0 2021-08-27 03:16 /user/itversity/retail_consumer/topics/itversity_retail\n"
     ]
    }
   ],
   "source": [
    "!hdfs dfs -ls /user/itversity/retail_consumer/topics/"
   ]
  },
  {
   "cell_type": "code",
   "execution_count": null,
   "metadata": {},
   "outputs": [],
   "source": [
    "!hdfs dfs -rm -R -skipTrash /user/itversity/retail_consumer"
   ]
  },
  {
   "cell_type": "code",
   "execution_count": null,
   "metadata": {},
   "outputs": [],
   "source": [
    "!hdfs dfs -mkdir /user/itversity/retail_consumer"
   ]
  }
 ],
 "metadata": {
  "kernelspec": {
   "display_name": "Python 3",
   "language": "python",
   "name": "python3"
  },
  "language_info": {
   "codemirror_mode": {
    "name": "ipython",
    "version": 3
   },
   "file_extension": ".py",
   "mimetype": "text/x-python",
   "name": "python",
   "nbconvert_exporter": "python",
   "pygments_lexer": "ipython3",
   "version": "3.6.12"
  }
 },
 "nbformat": 4,
 "nbformat_minor": 4
}
