{
 "cells": [
  {
   "cell_type": "markdown",
   "metadata": {},
   "source": [
    "## Validate Generation of Web Server Logs\n",
    "\n",
    "Let us ensure that we have setup the application which will take care of generating logs into log file. We will use it for the demos related to streaming pipelines.\n",
    "\n",
    "* We have an application by name `gen_logs` setup under `/opt`. It is a simulator which simulates generation of logs.\n",
    "* The application is developed using Python 3 and we also have wrapper shell scripts to start, stop and tail the logs.\n",
    "  * `start_logs.sh` to start generating the logs.\n",
    "  * `tail_logs.sh` to tail the logs.\n",
    "  * `stop_logs.sh` to stop generating the logs.\n",
    "* The logs are generated under **/opt/gen_logs/logs**. You can validate by running the following command.\n",
    "\n",
    "```shell\n",
    "ls -ltr /opt/gen_logs/logs\n",
    "```"
   ]
  }
 ],
 "metadata": {
  "kernelspec": {
   "display_name": "Pyspark 2",
   "language": "python",
   "name": "pyspark2"
  },
  "language_info": {
   "codemirror_mode": {
    "name": "ipython",
    "version": 3
   },
   "file_extension": ".py",
   "mimetype": "text/x-python",
   "name": "python",
   "nbconvert_exporter": "python",
   "pygments_lexer": "ipython3",
   "version": "3.6.12"
  }
 },
 "nbformat": 4,
 "nbformat_minor": 4
}
