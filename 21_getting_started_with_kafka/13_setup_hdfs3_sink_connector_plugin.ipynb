{
 "cells": [
  {
   "cell_type": "markdown",
   "metadata": {},
   "source": [
    "## Setup HDFS 3 Sink Connector Plugin\n",
    "\n",
    "Confluent is the most popular distribution of Kafka and they provide several connectors.\n",
    "* **Note: Do not try to setup on our cluster**. If you are using the self setup single node cluster, you can follow these instructions.\n",
    "* Go to [Confluent Hub](https://www.confluent.io/hub).\n",
    "* Search for HDFS 3 Sink Connector plugin.\n",
    "* Download the zip file.\n",
    "* Copy to the node on which you want to setup the plugin. I will be setting up on our multinode cluster. **If you are using our labs you don't need to setup the plugin, instead you can directly configure and start.**\n",
    "\n",
    "```shell\n",
    "scp ~/Downloads/confluentinc-kafka-connect-hdfs3-1.1.1.zip centos@g01.itversity.com:~\n",
    "```\n",
    "\n",
    "* Unzip the file and deploy under some standard location. In our case it is **/opt/kafka/share/plugins**.\n",
    "\n",
    "```shell\n",
    "unzip confluentinc-kafka-connect-hdfs3-1.1.1.zip\n",
    "sudo mv -f confluentinc-kafka-connect-hdfs3-1.1.1 /opt/kafka/share/plugins/kafka-connect-hdfs\n",
    "rm confluentinc-kafka-connect-hdfs3-1.1.1.zip\n",
    "sudo chown -R kafka:kafka /opt/kafka/share/plugins/kafka-connect-hdfs\n",
    "```\n",
    "\n",
    "* Add HDFS related binaries to the plugin location.\n",
    "\n",
    "```shell\n",
    "sudo cp -rf /opt/hadoop/share/hadoop/hdfs/lib/*.jar /opt/kafka/share/plugins/kafka-connect-hdfs/.\n",
    "```\n",
    "\n",
    "We are done with setting up of the plugin and now we can use it to push data to HDFS from Kafka topic."
   ]
  },
  {
   "cell_type": "code",
   "execution_count": null,
   "metadata": {},
   "outputs": [],
   "source": []
  }
 ],
 "metadata": {
  "kernelspec": {
   "display_name": "Python 3",
   "language": "python",
   "name": "python3"
  },
  "language_info": {
   "codemirror_mode": {
    "name": "ipython",
    "version": 3
   },
   "file_extension": ".py",
   "mimetype": "text/x-python",
   "name": "python",
   "nbconvert_exporter": "python",
   "pygments_lexer": "ipython3",
   "version": "3.6.12"
  }
 },
 "nbformat": 4,
 "nbformat_minor": 4
}
