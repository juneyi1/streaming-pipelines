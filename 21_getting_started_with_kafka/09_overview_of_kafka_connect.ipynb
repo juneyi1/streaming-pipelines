{
 "cells": [
  {
   "cell_type": "markdown",
   "metadata": {},
   "source": [
    "## Overview of Kafka Connect\n",
    "\n",
    "Let us get an overview of Kafka Connect.\n",
    "* Kafka Connect is a component of Kafka which is used to get the data from standard sources to Kafka topic as well as Kafka topic to standard targets.\n",
    "* Here are the examples of standard sources.\n",
    "  * Streaming Log Files\n",
    "  * Database Tables\n",
    "  * Syslog Drains\n",
    "  * Other queuing systems\n",
    "* Here are the examples of standard targets.\n",
    "  * File systems such as HDFS\n",
    "  * Database Tables\n",
    "  * Other queuing systems\n",
    "* We can ingest the data from standard sources into Kafka topic with out writing the code.\n",
    "* Here are the steps which we typically follow to use Kafka Connect to get the data to Kafka topic.\n",
    "  * Configure Kafka Connect with the source and target.\n",
    "  * Start Kafka Connect process\n",
    "* We can run Kafka connect in standalone mode or distributed mode. We typically use distributed mode for production deployments."
   ]
  },
  {
   "cell_type": "code",
   "execution_count": null,
   "metadata": {},
   "outputs": [],
   "source": []
  }
 ],
 "metadata": {
  "kernelspec": {
   "display_name": "Pyspark 2",
   "language": "python",
   "name": "pyspark2"
  },
  "language_info": {
   "codemirror_mode": {
    "name": "ipython",
    "version": 3
   },
   "file_extension": ".py",
   "mimetype": "text/x-python",
   "name": "python",
   "nbconvert_exporter": "python",
   "pygments_lexer": "ipython3",
   "version": "3.6.12"
  }
 },
 "nbformat": 4,
 "nbformat_minor": 4
}
