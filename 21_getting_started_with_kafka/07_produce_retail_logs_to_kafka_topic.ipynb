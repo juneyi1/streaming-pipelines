{
 "cells": [
  {
   "cell_type": "markdown",
   "metadata": {},
   "source": [
    "## Produce retail logs to Kafka Topic\n",
    "\n",
    "As Kafka topic is created and also reviewed how to generate logs to web server, let us go through the details about producing messages to Kafka topic using Kafka CLI.\n",
    "* Keep in mind that this approach is not used in production. It is primarily used either to get started with Kafka or to take care of validation as part of unit or functionality testing.\n",
    "* We have a script called as `kafka-console-producer.sh`. We can produce messages using command line using this script.\n",
    "* We can pipe `tail_logs.sh` output to `kafka-console-producer.sh` command.\n",
    "* We need to pass one or more Kafka brokers while running `kafka-console-producer.sh`.\n",
    "* Here is the command which can be used to produce the output of `tail_logs.sh` into Kafka topic on multinode cluster.\n",
    "\n",
    "```shell\n",
    "tail_logs.sh|/opt/kafka/bin/kafka-console-producer.sh \\\n",
    "    --bootstrap-server w01.itversity.com:9092,w02.itversity.com:9092 \\\n",
    "    --topic `whoami`_retail\n",
    "```\n",
    "\n",
    "* Here is the command which can be used to produce the output of `tail_logs.sh` into Kafka topic on single node cluster.\n",
    "\n",
    "```shell\n",
    "tail_logs.sh|/opt/kafka/bin/kafka-console-producer.sh \\\n",
    "    --bootstrap-server locahost:9092 \\\n",
    "    --topic `whoami`_retail\n",
    "```"
   ]
  },
  {
   "cell_type": "code",
   "execution_count": null,
   "metadata": {},
   "outputs": [],
   "source": []
  }
 ],
 "metadata": {
  "kernelspec": {
   "display_name": "Pyspark 2",
   "language": "python",
   "name": "pyspark2"
  },
  "language_info": {
   "codemirror_mode": {
    "name": "ipython",
    "version": 3
   },
   "file_extension": ".py",
   "mimetype": "text/x-python",
   "name": "python",
   "nbconvert_exporter": "python",
   "pygments_lexer": "ipython3",
   "version": "3.6.12"
  }
 },
 "nbformat": 4,
 "nbformat_minor": 4
}
