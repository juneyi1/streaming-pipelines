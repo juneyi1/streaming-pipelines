{
 "cells": [
  {
   "cell_type": "markdown",
   "metadata": {},
   "source": [
    "## Produce and Consume Messages using CLI\n",
    "\n",
    "Let us create a demo topic and see how we can produce as well as consume messages using CLI.\n",
    "* We can use `kafka-console-producer.sh` to produce messages into Kafka topic.\n",
    "* We can use `kafka-console-consumer.sh` to consume messages from Kafka topic.\n",
    "* We will create a demo topic to validate both produce messages to topic as well as consume messages from Kafka topic.\n",
    "* Creating a topic on a single node cluster.\n",
    "\n",
    "```shell\n",
    "/opt/kafka/bin/kafka-topics.sh --create \\\n",
    "    --zookeeper localhost:2181 \\\n",
    "    --replication-factor 2 \\\n",
    "    --partitions 1 \\\n",
    "    --topic `whoami`_demo\n",
    "```\n",
    "\n",
    "* Producing messages into topic using `kafka-console-producer.sh`\n",
    "\n",
    "```shell\n",
    "/opt/kafka/bin/kafka-console-producer.sh \\\n",
    "    --bootstrap-server localhost:9092 \\\n",
    "    --topic `whoami`_demo\n",
    "```\n",
    "\n",
    "* Consuming messages from topic using `kafka-console-consumer.sh`\n",
    "\n",
    "```shell\n",
    "/opt/kafka/bin/kafka-console-consumer.sh \\\n",
    "    --bootstrap-server localhost:9092 \\\n",
    "    --topic `whoami`_demo \\\n",
    "    --from-beginning\n",
    "```\n",
    "* Creating a topic on a multinode cluster.\n",
    "\n",
    "```shell\n",
    "/opt/kafka/bin/kafka-topics.sh --create \\\n",
    "    --zookeeper m01.itversity.com:2181,m02.itversity.com:2181,w01.itversity.com:2181 \\\n",
    "    --replication-factor 2 \\\n",
    "    --partitions 1 \\\n",
    "    --topic `whoami`_demo\n",
    "```\n",
    "\n",
    "* Producing messages into topic using `kafka-console-producer.sh`\n",
    "\n",
    "```shell\n",
    "/opt/kafka/bin/kafka-console-producer.sh \\\n",
    "    --bootstrap-server w01.itversity.com:9092,w02.itversity.com:9092 \\\n",
    "    --topic `whoami`_demo\n",
    "```\n",
    "\n",
    "* Consuming messages from topic using `kafka-console-consumer.sh`\n",
    "\n",
    "```shell\n",
    "/opt/kafka/bin/kafka-console-consumer.sh \\\n",
    "    --bootstrap-server w01.itversity.com:9092,w02.itversity.com:9092 \\\n",
    "    --topic `whoami`_demo \\\n",
    "    --from-beginning\n",
    "```"
   ]
  },
  {
   "cell_type": "code",
   "execution_count": null,
   "metadata": {},
   "outputs": [],
   "source": []
  }
 ],
 "metadata": {
  "kernelspec": {
   "display_name": "Pyspark 2",
   "language": "python",
   "name": "pyspark2"
  },
  "language_info": {
   "codemirror_mode": {
    "name": "ipython",
    "version": 3
   },
   "file_extension": ".py",
   "mimetype": "text/x-python",
   "name": "python",
   "nbconvert_exporter": "python",
   "pygments_lexer": "ipython3",
   "version": "3.6.12"
  }
 },
 "nbformat": 4,
 "nbformat_minor": 4
}
