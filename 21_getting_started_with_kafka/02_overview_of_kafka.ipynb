{
 "cells": [
  {
   "cell_type": "markdown",
   "metadata": {},
   "source": [
    "## Overview of Kafka\n",
    "\n",
    "Let us get an overview of Kafka. It is nothing but an event streaming platform. It has 3 key capabilities as per the [official documentation](https://kafka.apache.org/intro).\n",
    "* To publish (write) and subscribe to (read) streams of events, including continuous import/export of your data from other systems.\n",
    "* To store streams of events durably and reliably for as long as you want.\n",
    "* To process streams of events as they occur or retrospectively.\n",
    "\n",
    "All this functionality is provided in a distributed, highly scalable, elastic, fault-tolerant, and secure manner. Kafka can be deployed on bare-metal hardware, virtual machines, and containers, and on-premises as well as in the cloud. You can choose between self-managing your Kafka environments and using fully managed services offered by a variety of vendors.\n",
    "\n",
    "Here are the major vendors who provide managed services.\n",
    "* Amazon Web Services\n",
    "* Microsoft Azure\n",
    "* Confluent\n",
    "\n",
    "As part of our labs, we have a multinode Kafka cluster. You can take care of all possible use cases around Kafka on our powerful cluster where it is integrated with HDFS as well as Spark."
   ]
  },
  {
   "cell_type": "code",
   "execution_count": null,
   "metadata": {},
   "outputs": [],
   "source": []
  }
 ],
 "metadata": {
  "kernelspec": {
   "display_name": "Pyspark 2",
   "language": "python",
   "name": "pyspark2"
  },
  "language_info": {
   "codemirror_mode": {
    "name": "ipython",
    "version": 3
   },
   "file_extension": ".py",
   "mimetype": "text/x-python",
   "name": "python",
   "nbconvert_exporter": "python",
   "pygments_lexer": "ipython3",
   "version": "3.6.9"
  }
 },
 "nbformat": 4,
 "nbformat_minor": 4
}
