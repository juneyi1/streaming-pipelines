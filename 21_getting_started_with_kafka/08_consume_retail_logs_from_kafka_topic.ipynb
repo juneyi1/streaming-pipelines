{
 "cells": [
  {
   "cell_type": "markdown",
   "metadata": {},
   "source": [
    "## Consume retail logs from Kafka Topic\n",
    "\n",
    "As retail logs are produced to Kafka Topic, let's validate by consuming messages from the Kafka Topic.\n",
    "\n",
    "* Keep in mind that this approach is not used in production. It is primarily either is to get started with Kafka or to take care of validation as part of unit or functionality testig.\n",
    "* We have a script called as `kafka-console-consumer.sh`. We can consume messages from the topic using command line using this script.\n",
    "* `--from-beginning` will take care of consuming messages from the first message that is available as part of retained logs thus far.\n",
    "\n",
    "```shell\n",
    "/opt/kafka/bin/kafka-console-consumer.sh \\\n",
    "    --bootstrap-server w01.itversity.com:9092,w02.itversity.com:9092 \\\n",
    "    --topic `whoami`_retail \\\n",
    "    --from-beginning\n",
    "```\n",
    "\n",
    "* Here is the command for single node cluster to consume messages.\n",
    "\n",
    "```shell\n",
    "/opt/kafka/bin/kafka-console-consumer.sh \\\n",
    "    --bootstrap-server localhost:9092 \\\n",
    "    --topic `whoami`_retail \\\n",
    "    --from-beginning\n",
    "```"
   ]
  },
  {
   "cell_type": "code",
   "execution_count": null,
   "metadata": {},
   "outputs": [],
   "source": []
  }
 ],
 "metadata": {
  "kernelspec": {
   "display_name": "Pyspark 2",
   "language": "python",
   "name": "pyspark2"
  },
  "language_info": {
   "codemirror_mode": {
    "name": "ipython",
    "version": 3
   },
   "file_extension": ".py",
   "mimetype": "text/x-python",
   "name": "python",
   "nbconvert_exporter": "python",
   "pygments_lexer": "ipython3",
   "version": "3.6.12"
  }
 },
 "nbformat": 4,
 "nbformat_minor": 4
}
