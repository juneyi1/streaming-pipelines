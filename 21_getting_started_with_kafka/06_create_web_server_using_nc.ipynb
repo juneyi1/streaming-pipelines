{
 "cells": [
  {
   "cell_type": "markdown",
   "metadata": {},
   "source": [
    "## Create Web Server using nc\n",
    "\n",
    "Let us create a web server using nc. We will also redirect the output of `tail_logs.sh` into this web server.\n",
    "\n",
    "* We can confirm whether **/opt/gen_logs/logs/access.log** is continuously updated with log messages by running `tail_logs.sh`.\n",
    "* We can create a web server using **nc** and redirect logs into it. We can open another session and validate by running telnet command. \n",
    "\n",
    "```{note}\n",
    "Make sure to use a different 5 digit port less than 65535 so that you don't run into issues related to unavailability of the ports.\n",
    "```\n",
    "\n",
    "```shell\n",
    "tail_logs.sh|nc -lk `hostname -f` 9999\n",
    "\n",
    "# Open another session and run below command\n",
    "telnet `hostname -f` 9999\n",
    "```"
   ]
  },
  {
   "cell_type": "code",
   "execution_count": null,
   "metadata": {},
   "outputs": [],
   "source": []
  }
 ],
 "metadata": {
  "kernelspec": {
   "display_name": "Pyspark 2",
   "language": "python",
   "name": "pyspark2"
  },
  "language_info": {
   "codemirror_mode": {
    "name": "ipython",
    "version": 3
   },
   "file_extension": ".py",
   "mimetype": "text/x-python",
   "name": "python",
   "nbconvert_exporter": "python",
   "pygments_lexer": "ipython3",
   "version": "3.6.12"
  }
 },
 "nbformat": 4,
 "nbformat_minor": 4
}
